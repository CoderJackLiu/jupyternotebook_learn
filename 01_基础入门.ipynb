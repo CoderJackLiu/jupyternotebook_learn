{
 "cells": [
  {
   "cell_type": "markdown",
   "metadata": {},
   "source": [
    "# Jupyter Notebook 基础入门\n",
    "\n",
    "欢迎来到 Jupyter Notebook 的世界！这个文档将带您了解 Jupyter Notebook 的基本操作。"
   ]
  },
  {
   "cell_type": "markdown",
   "metadata": {},
   "source": [
    "## 1. 什么是单元格（Cell）？\n",
    "\n",
    "Jupyter Notebook 由多个单元格组成，每个单元格可以包含：\n",
    "- **代码单元格**：可以执行 Python 代码\n",
    "- **Markdown 单元格**：用于编写文档和说明\n",
    "- **原始单元格**：用于显示原始文本"
   ]
  },
  {
   "cell_type": "code",
   "execution_count": null,
   "metadata": {},
   "outputs": [],
   "source": [
    "# 这是一个代码单元格\n",
    "# 按 Shift+Enter 来运行这个单元格\n",
    "print('Hello, Jupyter Notebook!')\n",
    "print('欢迎来到 Python 的世界！')"
   ]
  },
  {
   "cell_type": "code",
   "execution_count": null,
   "metadata": {},
   "outputs": [],
   "source": [
    "# 简单的数学运算\n",
    "a = 10\n",
    "b = 20\n",
    "result = a + b\n",
    "print(f'{a} + {b} = {result}')"
   ]
  },
  {
   "cell_type": "markdown",
   "metadata": {},
   "source": [
    "## 2. 常用快捷键\n",
    "\n",
    "### 命令模式（按 Esc 进入）\n",
    "- `A`：在上方插入新单元格\n",
    "- `B`：在下方插入新单元格\n",
    "- `DD`：删除当前单元格\n",
    "- `M`：转换为 Markdown 单元格\n",
    "- `Y`：转换为代码单元格\n",
    "\n",
    "### 编辑模式（按 Enter 进入）\n",
    "- `Shift + Enter`：运行单元格并移动到下一个\n",
    "- `Ctrl + Enter`：运行单元格但不移动\n",
    "- `Alt + Enter`：运行单元格并在下方插入新单元格"
   ]
  },
  {
   "cell_type": "code",
   "execution_count": null,
   "metadata": {},
   "outputs": [],
   "source": [
    "# 试试看：创建一个列表并打印\n",
    "fruits = ['苹果', '香蕉', '橙子', '葡萄']\n",
    "\n",
    "for i, fruit in enumerate(fruits, 1):\n",
    "    print(f'{i}. {fruit}')"
   ]
  },
  {
   "cell_type": "markdown",
   "metadata": {},
   "source": [
    "## 3. Magic 命令\n",
    "\n",
    "Jupyter Notebook 提供了许多有用的 magic 命令，以 `%` 或 `%%` 开头。"
   ]
  },
  {
   "cell_type": "code",
   "execution_count": null,
   "metadata": {},
   "outputs": [],
   "source": [
    "# 查看所有可用的 magic 命令\n",
    "%lsmagic"
   ]
  },
  {
   "cell_type": "code",
   "execution_count": null,
   "metadata": {},
   "outputs": [],
   "source": [
    "# 测量代码执行时间\n",
    "%time sum(range(1000000))"
   ]
  },
  {
   "cell_type": "code",
   "execution_count": null,
   "metadata": {},
   "outputs": [],
   "source": [
    "# 查看当前工作目录\n",
    "%pwd"
   ]
  },
  {
   "cell_type": "code",
   "execution_count": null,
   "metadata": {},
   "outputs": [],
   "source": [
    "# 列出当前目录的文件\n",
    "%ls"
   ]
  },
  {
   "cell_type": "markdown",
   "metadata": {},
   "source": [
    "## 4. 练习任务\n",
    "\n",
    "请完成以下练习：\n",
    "1. 创建一个新的代码单元格\n",
    "2. 编写一个简单的函数来计算圆的面积\n",
    "3. 调用这个函数并打印结果"
   ]
  },
  {
   "cell_type": "code",
   "execution_count": 9,
   "metadata": {},
   "outputs": [
    {
     "name": "stdout",
     "output_type": "stream",
     "text": [
      "半径为 5 的圆的面积是：78.54\n"
     ]
    }
   ],
   "source": [
    "# 在这里编写您的代码\n",
    "import math\n",
    "\n",
    "def calculate_circle_area(radius):\n",
    "    \"\"\"计算圆的面积\"\"\"\n",
    "    return math.pi * radius ** 2\n",
    "\n",
    "# 测试函数\n",
    "radius = 5\n",
    "area = calculate_circle_area(radius)\n",
    "print(f'半径为 {radius} 的圆的面积是：{area:.2f}')"
   ]
  },
  {
   "cell_type": "markdown",
   "metadata": {},
   "source": [
    "## 恭喜！\n",
    "\n",
    "您已经完成了 Jupyter Notebook 的基础入门。接下来可以继续学习：\n",
    "- `02_Python基础.ipynb` - Python 编程基础\n",
    "- `03_数据分析入门.ipynb` - 数据分析入门"
   ]
  }
 ],
 "metadata": {
  "kernelspec": {
   "display_name": "Python 3",
   "language": "python",
   "name": "python3"
  },
  "language_info": {
   "codemirror_mode": {
    "name": "ipython",
    "version": 3
   },
   "file_extension": ".py",
   "mimetype": "text/x-python",
   "name": "python",
   "nbconvert_exporter": "python",
   "pygments_lexer": "ipython3",
   "version": "3.13.5"
  }
 },
 "nbformat": 4,
 "nbformat_minor": 4
}
