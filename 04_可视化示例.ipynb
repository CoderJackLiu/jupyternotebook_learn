{
 "cells": [
  {
   "cell_type": "markdown",
   "metadata": {},
   "source": [
    "# 数据可视化示例\n",
    "\n",
    "在这个 Notebook 中，我们将学习使用 matplotlib、seaborn 和 plotly 创建各种类型的图表。"
   ]
  },
  {
   "cell_type": "markdown",
   "metadata": {},
   "source": [
    "## 1. 导入库和准备数据"
   ]
  },
  {
   "cell_type": "code",
   "execution_count": 34,
   "metadata": {},
   "outputs": [
    {
     "name": "stdout",
     "output_type": "stream",
     "text": [
      "使用中文字体: Microsoft YaHei\n",
      "库导入成功！\n"
     ]
    }
   ],
   "source": [
    "import pandas as pd\n",
    "import numpy as np\n",
    "import matplotlib.pyplot as plt\n",
    "import seaborn as sns\n",
    "import plotly.express as px\n",
    "import plotly.graph_objects as go\n",
    "from plotly.subplots import make_subplots\n",
    "\n",
    "# 设置中文字体 - 改进版本\n",
    "import matplotlib.font_manager as fm\n",
    "import warnings\n",
    "\n",
    "# 获取系统可用的中文字体\n",
    "def get_chinese_fonts():\n",
    "    chinese_fonts = []\n",
    "    common_fonts = ['Microsoft YaHei', 'SimHei', 'SimSun', 'KaiTi', 'FangSong', 'STHeiti']\n",
    "    system_fonts = [f.name for f in fm.fontManager.ttflist]\n",
    "    for font in common_fonts:\n",
    "        if font in system_fonts:\n",
    "            chinese_fonts.append(font)\n",
    "    return chinese_fonts\n",
    "\n",
    "# 设置字体\n",
    "available_fonts = get_chinese_fonts()\n",
    "if available_fonts:\n",
    "    plt.rcParams['font.sans-serif'] = available_fonts + ['DejaVu Sans']\n",
    "    print(f'使用中文字体: {available_fonts[0]}')\n",
    "else:\n",
    "    plt.rcParams['font.sans-serif'] = ['DejaVu Sans']\n",
    "    print('警告: 未找到中文字体，建议安装中文字体包')\n",
    "\n",
    "plt.rcParams['axes.unicode_minus'] = False\n",
    "\n",
    "# 抑制字体警告\n",
    "warnings.filterwarnings('ignore', category=UserWarning, module='matplotlib')\n",
    "\n",
    "# 设置图表样式\n",
    "sns.set_style('whitegrid')\n",
    "\n",
    "print('库导入成功！')"
   ]
  },
  {
   "cell_type": "code",
   "execution_count": 35,
   "metadata": {},
   "outputs": [
    {
     "name": "stdout",
     "output_type": "stream",
     "text": [
      "数据创建完成！\n",
      "销售数据形状：(192, 5)\n",
      "学生数据形状：(50, 5)\n"
     ]
    }
   ],
   "source": [
    "# 创建更丰富的示例数据\n",
    "np.random.seed(42)  # 设置随机种子，确保结果可重现\n",
    "\n",
    "# 销售数据\n",
    "months = ['1月', '2月', '3月', '4月', '5月', '6月', '7月', '8月', '9月', '10月', '11月', '12月']\n",
    "products = ['产品A', '产品B', '产品C', '产品D']\n",
    "regions = ['北区', '南区', '东区', '西区']\n",
    "\n",
    "# 生成销售数据\n",
    "sales_data = []\n",
    "for month in months:\n",
    "    for product in products:\n",
    "        for region in regions:\n",
    "            sales = np.random.randint(50, 200)\n",
    "            profit = sales * np.random.uniform(0.1, 0.3)\n",
    "            sales_data.append({\n",
    "                '月份': month,\n",
    "                '产品': product,\n",
    "                '地区': region,\n",
    "                '销售额': sales,\n",
    "                '利润': round(profit, 2)\n",
    "            })\n",
    "\n",
    "df_sales = pd.DataFrame(sales_data)\n",
    "\n",
    "# 学生成绩数据\n",
    "students_data = {\n",
    "    '姓名': [f'学生{i}' for i in range(1, 51)],\n",
    "    '数学': np.random.normal(75, 15, 50).astype(int),\n",
    "    '语文': np.random.normal(80, 12, 50).astype(int),\n",
    "    '英语': np.random.normal(70, 18, 50).astype(int),\n",
    "    '班级': np.random.choice(['A班', 'B班', 'C班'], 50)\n",
    "}\n",
    "\n",
    "df_students = pd.DataFrame(students_data)\n",
    "\n",
    "print('数据创建完成！')\n",
    "print(f'销售数据形状：{df_sales.shape}')\n",
    "print(f'学生数据形状：{df_students.shape}')"
   ]
  },
  {
   "cell_type": "markdown",
   "metadata": {},
   "source": [
    "## 2. Matplotlib 基础图表"
   ]
  },
  {
   "cell_type": "code",
   "execution_count": 45,
   "metadata": {},
   "outputs": [
    {
     "name": "stderr",
     "output_type": "stream",
     "text": [
      "C:\\Users\\admin\\AppData\\Local\\Temp\\ipykernel_28880\\1345050819.py:42: UserWarning:\n",
      "\n",
      "Glyph 26376 (\\N{CJK UNIFIED IDEOGRAPH-6708}) missing from font(s) Arial.\n",
      "\n",
      "C:\\Users\\admin\\AppData\\Local\\Temp\\ipykernel_28880\\1345050819.py:42: UserWarning:\n",
      "\n",
      "Glyph 20221 (\\N{CJK UNIFIED IDEOGRAPH-4EFD}) missing from font(s) Arial.\n",
      "\n",
      "C:\\Users\\admin\\AppData\\Local\\Temp\\ipykernel_28880\\1345050819.py:42: UserWarning:\n",
      "\n",
      "Glyph 38144 (\\N{CJK UNIFIED IDEOGRAPH-9500}) missing from font(s) Arial.\n",
      "\n",
      "C:\\Users\\admin\\AppData\\Local\\Temp\\ipykernel_28880\\1345050819.py:42: UserWarning:\n",
      "\n",
      "Glyph 21806 (\\N{CJK UNIFIED IDEOGRAPH-552E}) missing from font(s) Arial.\n",
      "\n",
      "C:\\Users\\admin\\AppData\\Local\\Temp\\ipykernel_28880\\1345050819.py:42: UserWarning:\n",
      "\n",
      "Glyph 39069 (\\N{CJK UNIFIED IDEOGRAPH-989D}) missing from font(s) Arial.\n",
      "\n",
      "C:\\Users\\admin\\AppData\\Local\\Temp\\ipykernel_28880\\1345050819.py:42: UserWarning:\n",
      "\n",
      "Glyph 24230 (\\N{CJK UNIFIED IDEOGRAPH-5EA6}) missing from font(s) Arial.\n",
      "\n",
      "C:\\Users\\admin\\AppData\\Local\\Temp\\ipykernel_28880\\1345050819.py:42: UserWarning:\n",
      "\n",
      "Glyph 36235 (\\N{CJK UNIFIED IDEOGRAPH-8D8B}) missing from font(s) Arial.\n",
      "\n",
      "C:\\Users\\admin\\AppData\\Local\\Temp\\ipykernel_28880\\1345050819.py:42: UserWarning:\n",
      "\n",
      "Glyph 21183 (\\N{CJK UNIFIED IDEOGRAPH-52BF}) missing from font(s) Arial.\n",
      "\n",
      "C:\\Users\\admin\\AppData\\Local\\Temp\\ipykernel_28880\\1345050819.py:42: UserWarning:\n",
      "\n",
      "Glyph 20135 (\\N{CJK UNIFIED IDEOGRAPH-4EA7}) missing from font(s) Arial.\n",
      "\n",
      "C:\\Users\\admin\\AppData\\Local\\Temp\\ipykernel_28880\\1345050819.py:42: UserWarning:\n",
      "\n",
      "Glyph 21697 (\\N{CJK UNIFIED IDEOGRAPH-54C1}) missing from font(s) Arial.\n",
      "\n",
      "C:\\Users\\admin\\AppData\\Local\\Temp\\ipykernel_28880\\1345050819.py:42: UserWarning:\n",
      "\n",
      "Glyph 23545 (\\N{CJK UNIFIED IDEOGRAPH-5BF9}) missing from font(s) Arial.\n",
      "\n",
      "C:\\Users\\admin\\AppData\\Local\\Temp\\ipykernel_28880\\1345050819.py:42: UserWarning:\n",
      "\n",
      "Glyph 27604 (\\N{CJK UNIFIED IDEOGRAPH-6BD4}) missing from font(s) Arial.\n",
      "\n",
      "C:\\Users\\admin\\AppData\\Local\\Temp\\ipykernel_28880\\1345050819.py:42: UserWarning:\n",
      "\n",
      "Glyph 22320 (\\N{CJK UNIFIED IDEOGRAPH-5730}) missing from font(s) Arial.\n",
      "\n",
      "C:\\Users\\admin\\AppData\\Local\\Temp\\ipykernel_28880\\1345050819.py:42: UserWarning:\n",
      "\n",
      "Glyph 21306 (\\N{CJK UNIFIED IDEOGRAPH-533A}) missing from font(s) Arial.\n",
      "\n",
      "C:\\Users\\admin\\AppData\\Local\\Temp\\ipykernel_28880\\1345050819.py:42: UserWarning:\n",
      "\n",
      "Glyph 21344 (\\N{CJK UNIFIED IDEOGRAPH-5360}) missing from font(s) Arial.\n",
      "\n",
      "C:\\Users\\admin\\AppData\\Local\\Temp\\ipykernel_28880\\1345050819.py:42: UserWarning:\n",
      "\n",
      "Glyph 19996 (\\N{CJK UNIFIED IDEOGRAPH-4E1C}) missing from font(s) Arial.\n",
      "\n",
      "C:\\Users\\admin\\AppData\\Local\\Temp\\ipykernel_28880\\1345050819.py:42: UserWarning:\n",
      "\n",
      "Glyph 21271 (\\N{CJK UNIFIED IDEOGRAPH-5317}) missing from font(s) Arial.\n",
      "\n",
      "C:\\Users\\admin\\AppData\\Local\\Temp\\ipykernel_28880\\1345050819.py:42: UserWarning:\n",
      "\n",
      "Glyph 21335 (\\N{CJK UNIFIED IDEOGRAPH-5357}) missing from font(s) Arial.\n",
      "\n",
      "C:\\Users\\admin\\AppData\\Local\\Temp\\ipykernel_28880\\1345050819.py:42: UserWarning:\n",
      "\n",
      "Glyph 35199 (\\N{CJK UNIFIED IDEOGRAPH-897F}) missing from font(s) Arial.\n",
      "\n",
      "C:\\Users\\admin\\AppData\\Local\\Temp\\ipykernel_28880\\1345050819.py:42: UserWarning:\n",
      "\n",
      "Glyph 21033 (\\N{CJK UNIFIED IDEOGRAPH-5229}) missing from font(s) Arial.\n",
      "\n",
      "C:\\Users\\admin\\AppData\\Local\\Temp\\ipykernel_28880\\1345050819.py:42: UserWarning:\n",
      "\n",
      "Glyph 28070 (\\N{CJK UNIFIED IDEOGRAPH-6DA6}) missing from font(s) Arial.\n",
      "\n",
      "C:\\Users\\admin\\AppData\\Local\\Temp\\ipykernel_28880\\1345050819.py:42: UserWarning:\n",
      "\n",
      "Glyph 19982 (\\N{CJK UNIFIED IDEOGRAPH-4E0E}) missing from font(s) Arial.\n",
      "\n",
      "C:\\Users\\admin\\AppData\\Local\\Temp\\ipykernel_28880\\1345050819.py:42: UserWarning:\n",
      "\n",
      "Glyph 20851 (\\N{CJK UNIFIED IDEOGRAPH-5173}) missing from font(s) Arial.\n",
      "\n",
      "C:\\Users\\admin\\AppData\\Local\\Temp\\ipykernel_28880\\1345050819.py:42: UserWarning:\n",
      "\n",
      "Glyph 31995 (\\N{CJK UNIFIED IDEOGRAPH-7CFB}) missing from font(s) Arial.\n",
      "\n",
      "c:\\Users\\admin\\AppData\\Local\\Programs\\Python\\Python313\\Lib\\site-packages\\IPython\\core\\pylabtools.py:170: UserWarning:\n",
      "\n",
      "Glyph 26376 (\\N{CJK UNIFIED IDEOGRAPH-6708}) missing from font(s) Arial.\n",
      "\n",
      "c:\\Users\\admin\\AppData\\Local\\Programs\\Python\\Python313\\Lib\\site-packages\\IPython\\core\\pylabtools.py:170: UserWarning:\n",
      "\n",
      "Glyph 20221 (\\N{CJK UNIFIED IDEOGRAPH-4EFD}) missing from font(s) Arial.\n",
      "\n",
      "c:\\Users\\admin\\AppData\\Local\\Programs\\Python\\Python313\\Lib\\site-packages\\IPython\\core\\pylabtools.py:170: UserWarning:\n",
      "\n",
      "Glyph 38144 (\\N{CJK UNIFIED IDEOGRAPH-9500}) missing from font(s) Arial.\n",
      "\n",
      "c:\\Users\\admin\\AppData\\Local\\Programs\\Python\\Python313\\Lib\\site-packages\\IPython\\core\\pylabtools.py:170: UserWarning:\n",
      "\n",
      "Glyph 21806 (\\N{CJK UNIFIED IDEOGRAPH-552E}) missing from font(s) Arial.\n",
      "\n",
      "c:\\Users\\admin\\AppData\\Local\\Programs\\Python\\Python313\\Lib\\site-packages\\IPython\\core\\pylabtools.py:170: UserWarning:\n",
      "\n",
      "Glyph 39069 (\\N{CJK UNIFIED IDEOGRAPH-989D}) missing from font(s) Arial.\n",
      "\n",
      "c:\\Users\\admin\\AppData\\Local\\Programs\\Python\\Python313\\Lib\\site-packages\\IPython\\core\\pylabtools.py:170: UserWarning:\n",
      "\n",
      "Glyph 24230 (\\N{CJK UNIFIED IDEOGRAPH-5EA6}) missing from font(s) Arial.\n",
      "\n",
      "c:\\Users\\admin\\AppData\\Local\\Programs\\Python\\Python313\\Lib\\site-packages\\IPython\\core\\pylabtools.py:170: UserWarning:\n",
      "\n",
      "Glyph 36235 (\\N{CJK UNIFIED IDEOGRAPH-8D8B}) missing from font(s) Arial.\n",
      "\n",
      "c:\\Users\\admin\\AppData\\Local\\Programs\\Python\\Python313\\Lib\\site-packages\\IPython\\core\\pylabtools.py:170: UserWarning:\n",
      "\n",
      "Glyph 21183 (\\N{CJK UNIFIED IDEOGRAPH-52BF}) missing from font(s) Arial.\n",
      "\n",
      "c:\\Users\\admin\\AppData\\Local\\Programs\\Python\\Python313\\Lib\\site-packages\\IPython\\core\\pylabtools.py:170: UserWarning:\n",
      "\n",
      "Glyph 20135 (\\N{CJK UNIFIED IDEOGRAPH-4EA7}) missing from font(s) Arial.\n",
      "\n",
      "c:\\Users\\admin\\AppData\\Local\\Programs\\Python\\Python313\\Lib\\site-packages\\IPython\\core\\pylabtools.py:170: UserWarning:\n",
      "\n",
      "Glyph 21697 (\\N{CJK UNIFIED IDEOGRAPH-54C1}) missing from font(s) Arial.\n",
      "\n",
      "c:\\Users\\admin\\AppData\\Local\\Programs\\Python\\Python313\\Lib\\site-packages\\IPython\\core\\pylabtools.py:170: UserWarning:\n",
      "\n",
      "Glyph 23545 (\\N{CJK UNIFIED IDEOGRAPH-5BF9}) missing from font(s) Arial.\n",
      "\n",
      "c:\\Users\\admin\\AppData\\Local\\Programs\\Python\\Python313\\Lib\\site-packages\\IPython\\core\\pylabtools.py:170: UserWarning:\n",
      "\n",
      "Glyph 27604 (\\N{CJK UNIFIED IDEOGRAPH-6BD4}) missing from font(s) Arial.\n",
      "\n",
      "c:\\Users\\admin\\AppData\\Local\\Programs\\Python\\Python313\\Lib\\site-packages\\IPython\\core\\pylabtools.py:170: UserWarning:\n",
      "\n",
      "Glyph 22320 (\\N{CJK UNIFIED IDEOGRAPH-5730}) missing from font(s) Arial.\n",
      "\n",
      "c:\\Users\\admin\\AppData\\Local\\Programs\\Python\\Python313\\Lib\\site-packages\\IPython\\core\\pylabtools.py:170: UserWarning:\n",
      "\n",
      "Glyph 21306 (\\N{CJK UNIFIED IDEOGRAPH-533A}) missing from font(s) Arial.\n",
      "\n",
      "c:\\Users\\admin\\AppData\\Local\\Programs\\Python\\Python313\\Lib\\site-packages\\IPython\\core\\pylabtools.py:170: UserWarning:\n",
      "\n",
      "Glyph 21344 (\\N{CJK UNIFIED IDEOGRAPH-5360}) missing from font(s) Arial.\n",
      "\n",
      "c:\\Users\\admin\\AppData\\Local\\Programs\\Python\\Python313\\Lib\\site-packages\\IPython\\core\\pylabtools.py:170: UserWarning:\n",
      "\n",
      "Glyph 19996 (\\N{CJK UNIFIED IDEOGRAPH-4E1C}) missing from font(s) Arial.\n",
      "\n",
      "c:\\Users\\admin\\AppData\\Local\\Programs\\Python\\Python313\\Lib\\site-packages\\IPython\\core\\pylabtools.py:170: UserWarning:\n",
      "\n",
      "Glyph 21271 (\\N{CJK UNIFIED IDEOGRAPH-5317}) missing from font(s) Arial.\n",
      "\n",
      "c:\\Users\\admin\\AppData\\Local\\Programs\\Python\\Python313\\Lib\\site-packages\\IPython\\core\\pylabtools.py:170: UserWarning:\n",
      "\n",
      "Glyph 21335 (\\N{CJK UNIFIED IDEOGRAPH-5357}) missing from font(s) Arial.\n",
      "\n",
      "c:\\Users\\admin\\AppData\\Local\\Programs\\Python\\Python313\\Lib\\site-packages\\IPython\\core\\pylabtools.py:170: UserWarning:\n",
      "\n",
      "Glyph 35199 (\\N{CJK UNIFIED IDEOGRAPH-897F}) missing from font(s) Arial.\n",
      "\n",
      "c:\\Users\\admin\\AppData\\Local\\Programs\\Python\\Python313\\Lib\\site-packages\\IPython\\core\\pylabtools.py:170: UserWarning:\n",
      "\n",
      "Glyph 21033 (\\N{CJK UNIFIED IDEOGRAPH-5229}) missing from font(s) Arial.\n",
      "\n",
      "c:\\Users\\admin\\AppData\\Local\\Programs\\Python\\Python313\\Lib\\site-packages\\IPython\\core\\pylabtools.py:170: UserWarning:\n",
      "\n",
      "Glyph 28070 (\\N{CJK UNIFIED IDEOGRAPH-6DA6}) missing from font(s) Arial.\n",
      "\n",
      "c:\\Users\\admin\\AppData\\Local\\Programs\\Python\\Python313\\Lib\\site-packages\\IPython\\core\\pylabtools.py:170: UserWarning:\n",
      "\n",
      "Glyph 19982 (\\N{CJK UNIFIED IDEOGRAPH-4E0E}) missing from font(s) Arial.\n",
      "\n",
      "c:\\Users\\admin\\AppData\\Local\\Programs\\Python\\Python313\\Lib\\site-packages\\IPython\\core\\pylabtools.py:170: UserWarning:\n",
      "\n",
      "Glyph 20851 (\\N{CJK UNIFIED IDEOGRAPH-5173}) missing from font(s) Arial.\n",
      "\n",
      "c:\\Users\\admin\\AppData\\Local\\Programs\\Python\\Python313\\Lib\\site-packages\\IPython\\core\\pylabtools.py:170: UserWarning:\n",
      "\n",
      "Glyph 31995 (\\N{CJK UNIFIED IDEOGRAPH-7CFB}) missing from font(s) Arial.\n",
      "\n"
     ]
    },
    {
     "data": {
      "image/png": "[encoded data removed]",
      "text/plain": [
       "<Figure size 1500x1000 with 5 Axes>"
      ]
     },
     "metadata": {},
     "output_type": "display_data"
    }
   ],
   "source": [
    "# 创建子图\n",
    "fig, axes = plt.subplots(2, 2, figsize=(15, 10))\n",
    "\n",
    "# 1. 折线图 - 月度销售趋势\n",
    "monthly_sales = df_sales.groupby('月份')['销售额'].sum()\n",
    "axes[0, 0].plot(monthly_sales.index, monthly_sales.values, marker='o', linewidth=2, markersize=6)\n",
    "axes[0, 0].set_title('月度销售趋势', fontsize=14, fontweight='bold')\n",
    "axes[0, 0].set_xlabel('月份')\n",
    "axes[0, 0].set_ylabel('销售额')\n",
    "axes[0, 0].grid(True, alpha=0.3)\n",
    "axes[0, 0].tick_params(axis='x', rotation=45)\n",
    "\n",
    "# 2. 柱状图 - 产品销售对比\n",
    "product_sales = df_sales.groupby('产品')['销售额'].sum()\n",
    "bars = axes[0, 1].bar(product_sales.index, product_sales.values, \n",
    "                     color=['#FF6B6B', '#4ECDC4', '#45B7D1', '#96CEB4'])\n",
    "axes[0, 1].set_title('产品销售对比', fontsize=14, fontweight='bold')\n",
    "axes[0, 1].set_xlabel('产品')\n",
    "axes[0, 1].set_ylabel('销售额')\n",
    "\n",
    "# 在柱状图上添加数值标签\n",
    "for bar in bars:\n",
    "    height = bar.get_height()\n",
    "    axes[0, 1].text(bar.get_x() + bar.get_width()/2., height + 50,\n",
    "                    f'{int(height)}', ha='center', va='bottom')\n",
    "\n",
    "# 3. 饼图 - 地区销售占比\n",
    "region_sales = df_sales.groupby('地区')['销售额'].sum()\n",
    "colors = ['#FFD93D', '#6BCF7F', '#4D96FF', '#FF6B9D']\n",
    "wedges, texts, autotexts = axes[1, 0].pie(region_sales.values, labels=region_sales.index, \n",
    "                                         autopct='%1.1f%%', colors=colors, startangle=90)\n",
    "axes[1, 0].set_title('地区销售占比', fontsize=14, fontweight='bold')\n",
    "\n",
    "# 4. 散点图 - 销售额与利润关系\n",
    "scatter = axes[1, 1].scatter(df_sales['销售额'], df_sales['利润'], \n",
    "                           alpha=0.6, c=df_sales['销售额'], cmap='viridis')\n",
    "axes[1, 1].set_title('销售额与利润关系', fontsize=14, fontweight='bold')\n",
    "axes[1, 1].set_xlabel('销售额')\n",
    "axes[1, 1].set_ylabel('利润')\n",
    "plt.colorbar(scatter, ax=axes[1, 1], label='销售额')\n",
    "\n",
    "plt.tight_layout()\n",
    "plt.show()"
   ]
  },
  {
   "cell_type": "markdown",
   "metadata": {},
   "source": [
    "## 3. Seaborn 高级图表"
   ]
  },
  {
   "cell_type": "code",
   "execution_count": 37,
   "metadata": {},
   "outputs": [
    {
     "name": "stderr",
     "output_type": "stream",
     "text": [
      "c:\\Users\\admin\\AppData\\Local\\Programs\\Python\\Python313\\Lib\\site-packages\\seaborn\\utils.py:61: UserWarning:\n",
      "\n",
      "Glyph 29677 (\\N{CJK UNIFIED IDEOGRAPH-73ED}) missing from font(s) Arial.\n",
      "\n",
      "c:\\Users\\admin\\AppData\\Local\\Programs\\Python\\Python313\\Lib\\site-packages\\seaborn\\utils.py:61: UserWarning:\n",
      "\n",
      "Glyph 32423 (\\N{CJK UNIFIED IDEOGRAPH-7EA7}) missing from font(s) Arial.\n",
      "\n",
      "c:\\Users\\admin\\AppData\\Local\\Programs\\Python\\Python313\\Lib\\site-packages\\seaborn\\utils.py:61: UserWarning:\n",
      "\n",
      "Glyph 25968 (\\N{CJK UNIFIED IDEOGRAPH-6570}) missing from font(s) Arial.\n",
      "\n",
      "c:\\Users\\admin\\AppData\\Local\\Programs\\Python\\Python313\\Lib\\site-packages\\seaborn\\utils.py:61: UserWarning:\n",
      "\n",
      "Glyph 23398 (\\N{CJK UNIFIED IDEOGRAPH-5B66}) missing from font(s) Arial.\n",
      "\n",
      "c:\\Users\\admin\\AppData\\Local\\Programs\\Python\\Python313\\Lib\\site-packages\\seaborn\\utils.py:61: UserWarning:\n",
      "\n",
      "Glyph 21508 (\\N{CJK UNIFIED IDEOGRAPH-5404}) missing from font(s) Arial.\n",
      "\n",
      "c:\\Users\\admin\\AppData\\Local\\Programs\\Python\\Python313\\Lib\\site-packages\\seaborn\\utils.py:61: UserWarning:\n",
      "\n",
      "Glyph 25104 (\\N{CJK UNIFIED IDEOGRAPH-6210}) missing from font(s) Arial.\n",
      "\n",
      "c:\\Users\\admin\\AppData\\Local\\Programs\\Python\\Python313\\Lib\\site-packages\\seaborn\\utils.py:61: UserWarning:\n",
      "\n",
      "Glyph 32489 (\\N{CJK UNIFIED IDEOGRAPH-7EE9}) missing from font(s) Arial.\n",
      "\n",
      "c:\\Users\\admin\\AppData\\Local\\Programs\\Python\\Python313\\Lib\\site-packages\\seaborn\\utils.py:61: UserWarning:\n",
      "\n",
      "Glyph 20998 (\\N{CJK UNIFIED IDEOGRAPH-5206}) missing from font(s) Arial.\n",
      "\n",
      "c:\\Users\\admin\\AppData\\Local\\Programs\\Python\\Python313\\Lib\\site-packages\\seaborn\\utils.py:61: UserWarning:\n",
      "\n",
      "Glyph 24067 (\\N{CJK UNIFIED IDEOGRAPH-5E03}) missing from font(s) Arial.\n",
      "\n",
      "c:\\Users\\admin\\AppData\\Local\\Programs\\Python\\Python313\\Lib\\site-packages\\seaborn\\utils.py:61: UserWarning:\n",
      "\n",
      "Glyph 35821 (\\N{CJK UNIFIED IDEOGRAPH-8BED}) missing from font(s) Arial.\n",
      "\n",
      "c:\\Users\\admin\\AppData\\Local\\Programs\\Python\\Python313\\Lib\\site-packages\\seaborn\\utils.py:61: UserWarning:\n",
      "\n",
      "Glyph 25991 (\\N{CJK UNIFIED IDEOGRAPH-6587}) missing from font(s) Arial.\n",
      "\n",
      "c:\\Users\\admin\\AppData\\Local\\Programs\\Python\\Python313\\Lib\\site-packages\\seaborn\\utils.py:61: UserWarning:\n",
      "\n",
      "Glyph 33521 (\\N{CJK UNIFIED IDEOGRAPH-82F1}) missing from font(s) Arial.\n",
      "\n",
      "c:\\Users\\admin\\AppData\\Local\\Programs\\Python\\Python313\\Lib\\site-packages\\seaborn\\utils.py:61: UserWarning:\n",
      "\n",
      "Glyph 31185 (\\N{CJK UNIFIED IDEOGRAPH-79D1}) missing from font(s) Arial.\n",
      "\n",
      "c:\\Users\\admin\\AppData\\Local\\Programs\\Python\\Python313\\Lib\\site-packages\\seaborn\\utils.py:61: UserWarning:\n",
      "\n",
      "Glyph 30446 (\\N{CJK UNIFIED IDEOGRAPH-76EE}) missing from font(s) Arial.\n",
      "\n",
      "C:\\Users\\admin\\AppData\\Local\\Temp\\ipykernel_28880\\2835859722.py:25: UserWarning:\n",
      "\n",
      "Glyph 31185 (\\N{CJK UNIFIED IDEOGRAPH-79D1}) missing from font(s) Arial.\n",
      "\n",
      "C:\\Users\\admin\\AppData\\Local\\Temp\\ipykernel_28880\\2835859722.py:25: UserWarning:\n",
      "\n",
      "Glyph 30446 (\\N{CJK UNIFIED IDEOGRAPH-76EE}) missing from font(s) Arial.\n",
      "\n",
      "C:\\Users\\admin\\AppData\\Local\\Temp\\ipykernel_28880\\2835859722.py:25: UserWarning:\n",
      "\n",
      "Glyph 25104 (\\N{CJK UNIFIED IDEOGRAPH-6210}) missing from font(s) Arial.\n",
      "\n",
      "C:\\Users\\admin\\AppData\\Local\\Temp\\ipykernel_28880\\2835859722.py:25: UserWarning:\n",
      "\n",
      "Glyph 32489 (\\N{CJK UNIFIED IDEOGRAPH-7EE9}) missing from font(s) Arial.\n",
      "\n",
      "C:\\Users\\admin\\AppData\\Local\\Temp\\ipykernel_28880\\2835859722.py:25: UserWarning:\n",
      "\n",
      "Glyph 30456 (\\N{CJK UNIFIED IDEOGRAPH-76F8}) missing from font(s) Arial.\n",
      "\n",
      "C:\\Users\\admin\\AppData\\Local\\Temp\\ipykernel_28880\\2835859722.py:25: UserWarning:\n",
      "\n",
      "Glyph 20851 (\\N{CJK UNIFIED IDEOGRAPH-5173}) missing from font(s) Arial.\n",
      "\n",
      "C:\\Users\\admin\\AppData\\Local\\Temp\\ipykernel_28880\\2835859722.py:25: UserWarning:\n",
      "\n",
      "Glyph 24615 (\\N{CJK UNIFIED IDEOGRAPH-6027}) missing from font(s) Arial.\n",
      "\n",
      "C:\\Users\\admin\\AppData\\Local\\Temp\\ipykernel_28880\\2835859722.py:25: UserWarning:\n",
      "\n",
      "Glyph 19996 (\\N{CJK UNIFIED IDEOGRAPH-4E1C}) missing from font(s) Arial.\n",
      "\n",
      "C:\\Users\\admin\\AppData\\Local\\Temp\\ipykernel_28880\\2835859722.py:25: UserWarning:\n",
      "\n",
      "Glyph 21306 (\\N{CJK UNIFIED IDEOGRAPH-533A}) missing from font(s) Arial.\n",
      "\n",
      "C:\\Users\\admin\\AppData\\Local\\Temp\\ipykernel_28880\\2835859722.py:25: UserWarning:\n",
      "\n",
      "Glyph 21271 (\\N{CJK UNIFIED IDEOGRAPH-5317}) missing from font(s) Arial.\n",
      "\n",
      "C:\\Users\\admin\\AppData\\Local\\Temp\\ipykernel_28880\\2835859722.py:25: UserWarning:\n",
      "\n",
      "Glyph 21335 (\\N{CJK UNIFIED IDEOGRAPH-5357}) missing from font(s) Arial.\n",
      "\n",
      "C:\\Users\\admin\\AppData\\Local\\Temp\\ipykernel_28880\\2835859722.py:25: UserWarning:\n",
      "\n",
      "Glyph 35199 (\\N{CJK UNIFIED IDEOGRAPH-897F}) missing from font(s) Arial.\n",
      "\n",
      "C:\\Users\\admin\\AppData\\Local\\Temp\\ipykernel_28880\\2835859722.py:25: UserWarning:\n",
      "\n",
      "Glyph 22320 (\\N{CJK UNIFIED IDEOGRAPH-5730}) missing from font(s) Arial.\n",
      "\n",
      "C:\\Users\\admin\\AppData\\Local\\Temp\\ipykernel_28880\\2835859722.py:25: UserWarning:\n",
      "\n",
      "Glyph 38144 (\\N{CJK UNIFIED IDEOGRAPH-9500}) missing from font(s) Arial.\n",
      "\n",
      "C:\\Users\\admin\\AppData\\Local\\Temp\\ipykernel_28880\\2835859722.py:25: UserWarning:\n",
      "\n",
      "Glyph 21806 (\\N{CJK UNIFIED IDEOGRAPH-552E}) missing from font(s) Arial.\n",
      "\n",
      "C:\\Users\\admin\\AppData\\Local\\Temp\\ipykernel_28880\\2835859722.py:25: UserWarning:\n",
      "\n",
      "Glyph 39069 (\\N{CJK UNIFIED IDEOGRAPH-989D}) missing from font(s) Arial.\n",
      "\n",
      "C:\\Users\\admin\\AppData\\Local\\Temp\\ipykernel_28880\\2835859722.py:25: UserWarning:\n",
      "\n",
      "Glyph 21508 (\\N{CJK UNIFIED IDEOGRAPH-5404}) missing from font(s) Arial.\n",
      "\n",
      "C:\\Users\\admin\\AppData\\Local\\Temp\\ipykernel_28880\\2835859722.py:25: UserWarning:\n",
      "\n",
      "Glyph 20135 (\\N{CJK UNIFIED IDEOGRAPH-4EA7}) missing from font(s) Arial.\n",
      "\n",
      "C:\\Users\\admin\\AppData\\Local\\Temp\\ipykernel_28880\\2835859722.py:25: UserWarning:\n",
      "\n",
      "Glyph 21697 (\\N{CJK UNIFIED IDEOGRAPH-54C1}) missing from font(s) Arial.\n",
      "\n",
      "C:\\Users\\admin\\AppData\\Local\\Temp\\ipykernel_28880\\2835859722.py:25: UserWarning:\n",
      "\n",
      "Glyph 24773 (\\N{CJK UNIFIED IDEOGRAPH-60C5}) missing from font(s) Arial.\n",
      "\n",
      "C:\\Users\\admin\\AppData\\Local\\Temp\\ipykernel_28880\\2835859722.py:25: UserWarning:\n",
      "\n",
      "Glyph 20917 (\\N{CJK UNIFIED IDEOGRAPH-51B5}) missing from font(s) Arial.\n",
      "\n",
      "c:\\Users\\admin\\AppData\\Local\\Programs\\Python\\Python313\\Lib\\site-packages\\IPython\\core\\pylabtools.py:170: UserWarning:\n",
      "\n",
      "Glyph 29677 (\\N{CJK UNIFIED IDEOGRAPH-73ED}) missing from font(s) Arial.\n",
      "\n",
      "c:\\Users\\admin\\AppData\\Local\\Programs\\Python\\Python313\\Lib\\site-packages\\IPython\\core\\pylabtools.py:170: UserWarning:\n",
      "\n",
      "Glyph 32423 (\\N{CJK UNIFIED IDEOGRAPH-7EA7}) missing from font(s) Arial.\n",
      "\n",
      "c:\\Users\\admin\\AppData\\Local\\Programs\\Python\\Python313\\Lib\\site-packages\\IPython\\core\\pylabtools.py:170: UserWarning:\n",
      "\n",
      "Glyph 25968 (\\N{CJK UNIFIED IDEOGRAPH-6570}) missing from font(s) Arial.\n",
      "\n",
      "c:\\Users\\admin\\AppData\\Local\\Programs\\Python\\Python313\\Lib\\site-packages\\IPython\\core\\pylabtools.py:170: UserWarning:\n",
      "\n",
      "Glyph 23398 (\\N{CJK UNIFIED IDEOGRAPH-5B66}) missing from font(s) Arial.\n",
      "\n",
      "c:\\Users\\admin\\AppData\\Local\\Programs\\Python\\Python313\\Lib\\site-packages\\IPython\\core\\pylabtools.py:170: UserWarning:\n",
      "\n",
      "Glyph 21508 (\\N{CJK UNIFIED IDEOGRAPH-5404}) missing from font(s) Arial.\n",
      "\n",
      "c:\\Users\\admin\\AppData\\Local\\Programs\\Python\\Python313\\Lib\\site-packages\\IPython\\core\\pylabtools.py:170: UserWarning:\n",
      "\n",
      "Glyph 25104 (\\N{CJK UNIFIED IDEOGRAPH-6210}) missing from font(s) Arial.\n",
      "\n",
      "c:\\Users\\admin\\AppData\\Local\\Programs\\Python\\Python313\\Lib\\site-packages\\IPython\\core\\pylabtools.py:170: UserWarning:\n",
      "\n",
      "Glyph 32489 (\\N{CJK UNIFIED IDEOGRAPH-7EE9}) missing from font(s) Arial.\n",
      "\n",
      "c:\\Users\\admin\\AppData\\Local\\Programs\\Python\\Python313\\Lib\\site-packages\\IPython\\core\\pylabtools.py:170: UserWarning:\n",
      "\n",
      "Glyph 20998 (\\N{CJK UNIFIED IDEOGRAPH-5206}) missing from font(s) Arial.\n",
      "\n",
      "c:\\Users\\admin\\AppData\\Local\\Programs\\Python\\Python313\\Lib\\site-packages\\IPython\\core\\pylabtools.py:170: UserWarning:\n",
      "\n",
      "Glyph 24067 (\\N{CJK UNIFIED IDEOGRAPH-5E03}) missing from font(s) Arial.\n",
      "\n",
      "c:\\Users\\admin\\AppData\\Local\\Programs\\Python\\Python313\\Lib\\site-packages\\IPython\\core\\pylabtools.py:170: UserWarning:\n",
      "\n",
      "Glyph 35821 (\\N{CJK UNIFIED IDEOGRAPH-8BED}) missing from font(s) Arial.\n",
      "\n",
      "c:\\Users\\admin\\AppData\\Local\\Programs\\Python\\Python313\\Lib\\site-packages\\IPython\\core\\pylabtools.py:170: UserWarning:\n",
      "\n",
      "Glyph 25991 (\\N{CJK UNIFIED IDEOGRAPH-6587}) missing from font(s) Arial.\n",
      "\n",
      "c:\\Users\\admin\\AppData\\Local\\Programs\\Python\\Python313\\Lib\\site-packages\\IPython\\core\\pylabtools.py:170: UserWarning:\n",
      "\n",
      "Glyph 33521 (\\N{CJK UNIFIED IDEOGRAPH-82F1}) missing from font(s) Arial.\n",
      "\n",
      "c:\\Users\\admin\\AppData\\Local\\Programs\\Python\\Python313\\Lib\\site-packages\\IPython\\core\\pylabtools.py:170: UserWarning:\n",
      "\n",
      "Glyph 31185 (\\N{CJK UNIFIED IDEOGRAPH-79D1}) missing from font(s) Arial.\n",
      "\n",
      "c:\\Users\\admin\\AppData\\Local\\Programs\\Python\\Python313\\Lib\\site-packages\\IPython\\core\\pylabtools.py:170: UserWarning:\n",
      "\n",
      "Glyph 30446 (\\N{CJK UNIFIED IDEOGRAPH-76EE}) missing from font(s) Arial.\n",
      "\n",
      "c:\\Users\\admin\\AppData\\Local\\Programs\\Python\\Python313\\Lib\\site-packages\\IPython\\core\\pylabtools.py:170: UserWarning:\n",
      "\n",
      "Glyph 30456 (\\N{CJK UNIFIED IDEOGRAPH-76F8}) missing from font(s) Arial.\n",
      "\n",
      "c:\\Users\\admin\\AppData\\Local\\Programs\\Python\\Python313\\Lib\\site-packages\\IPython\\core\\pylabtools.py:170: UserWarning:\n",
      "\n",
      "Glyph 20851 (\\N{CJK UNIFIED IDEOGRAPH-5173}) missing from font(s) Arial.\n",
      "\n",
      "c:\\Users\\admin\\AppData\\Local\\Programs\\Python\\Python313\\Lib\\site-packages\\IPython\\core\\pylabtools.py:170: UserWarning:\n",
      "\n",
      "Glyph 24615 (\\N{CJK UNIFIED IDEOGRAPH-6027}) missing from font(s) Arial.\n",
      "\n",
      "c:\\Users\\admin\\AppData\\Local\\Programs\\Python\\Python313\\Lib\\site-packages\\IPython\\core\\pylabtools.py:170: UserWarning:\n",
      "\n",
      "Glyph 19996 (\\N{CJK UNIFIED IDEOGRAPH-4E1C}) missing from font(s) Arial.\n",
      "\n",
      "c:\\Users\\admin\\AppData\\Local\\Programs\\Python\\Python313\\Lib\\site-packages\\IPython\\core\\pylabtools.py:170: UserWarning:\n",
      "\n",
      "Glyph 21306 (\\N{CJK UNIFIED IDEOGRAPH-533A}) missing from font(s) Arial.\n",
      "\n",
      "c:\\Users\\admin\\AppData\\Local\\Programs\\Python\\Python313\\Lib\\site-packages\\IPython\\core\\pylabtools.py:170: UserWarning:\n",
      "\n",
      "Glyph 21271 (\\N{CJK UNIFIED IDEOGRAPH-5317}) missing from font(s) Arial.\n",
      "\n",
      "c:\\Users\\admin\\AppData\\Local\\Programs\\Python\\Python313\\Lib\\site-packages\\IPython\\core\\pylabtools.py:170: UserWarning:\n",
      "\n",
      "Glyph 21335 (\\N{CJK UNIFIED IDEOGRAPH-5357}) missing from font(s) Arial.\n",
      "\n",
      "c:\\Users\\admin\\AppData\\Local\\Programs\\Python\\Python313\\Lib\\site-packages\\IPython\\core\\pylabtools.py:170: UserWarning:\n",
      "\n",
      "Glyph 35199 (\\N{CJK UNIFIED IDEOGRAPH-897F}) missing from font(s) Arial.\n",
      "\n",
      "c:\\Users\\admin\\AppData\\Local\\Programs\\Python\\Python313\\Lib\\site-packages\\IPython\\core\\pylabtools.py:170: UserWarning:\n",
      "\n",
      "Glyph 22320 (\\N{CJK UNIFIED IDEOGRAPH-5730}) missing from font(s) Arial.\n",
      "\n",
      "c:\\Users\\admin\\AppData\\Local\\Programs\\Python\\Python313\\Lib\\site-packages\\IPython\\core\\pylabtools.py:170: UserWarning:\n",
      "\n",
      "Glyph 38144 (\\N{CJK UNIFIED IDEOGRAPH-9500}) missing from font(s) Arial.\n",
      "\n",
      "c:\\Users\\admin\\AppData\\Local\\Programs\\Python\\Python313\\Lib\\site-packages\\IPython\\core\\pylabtools.py:170: UserWarning:\n",
      "\n",
      "Glyph 21806 (\\N{CJK UNIFIED IDEOGRAPH-552E}) missing from font(s) Arial.\n",
      "\n",
      "c:\\Users\\admin\\AppData\\Local\\Programs\\Python\\Python313\\Lib\\site-packages\\IPython\\core\\pylabtools.py:170: UserWarning:\n",
      "\n",
      "Glyph 39069 (\\N{CJK UNIFIED IDEOGRAPH-989D}) missing from font(s) Arial.\n",
      "\n",
      "c:\\Users\\admin\\AppData\\Local\\Programs\\Python\\Python313\\Lib\\site-packages\\IPython\\core\\pylabtools.py:170: UserWarning:\n",
      "\n",
      "Glyph 20135 (\\N{CJK UNIFIED IDEOGRAPH-4EA7}) missing from font(s) Arial.\n",
      "\n",
      "c:\\Users\\admin\\AppData\\Local\\Programs\\Python\\Python313\\Lib\\site-packages\\IPython\\core\\pylabtools.py:170: UserWarning:\n",
      "\n",
      "Glyph 21697 (\\N{CJK UNIFIED IDEOGRAPH-54C1}) missing from font(s) Arial.\n",
      "\n",
      "c:\\Users\\admin\\AppData\\Local\\Programs\\Python\\Python313\\Lib\\site-packages\\IPython\\core\\pylabtools.py:170: UserWarning:\n",
      "\n",
      "Glyph 24773 (\\N{CJK UNIFIED IDEOGRAPH-60C5}) missing from font(s) Arial.\n",
      "\n",
      "c:\\Users\\admin\\AppData\\Local\\Programs\\Python\\Python313\\Lib\\site-packages\\IPython\\core\\pylabtools.py:170: UserWarning:\n",
      "\n",
      "Glyph 20917 (\\N{CJK UNIFIED IDEOGRAPH-51B5}) missing from font(s) Arial.\n",
      "\n"
     ]
    },
    {
     "data": {
      "image/png": "[encoded data removed]",
      "text/plain": [
       "<Figure size 1500x1000 with 5 Axes>"
      ]
     },
     "metadata": {},
     "output_type": "display_data"
    }
   ],
   "source": [
    "# 创建 seaborn 图表\n",
    "fig, axes = plt.subplots(2, 2, figsize=(15, 10))\n",
    "\n",
    "# 1. 箱线图 - 各班级成绩分布\n",
    "sns.boxplot(data=df_students, x='班级', y='数学', ax=axes[0, 0])\n",
    "axes[0, 0].set_title('各班级数学成绩分布', fontsize=14, fontweight='bold')\n",
    "\n",
    "# 2. 小提琴图 - 成绩分布\n",
    "df_scores = df_students[['数学', '语文', '英语']].melt(var_name='科目', value_name='成绩')\n",
    "sns.violinplot(data=df_scores, x='科目', y='成绩', ax=axes[0, 1])\n",
    "axes[0, 1].set_title('各科目成绩分布', fontsize=14, fontweight='bold')\n",
    "\n",
    "# 3. 热力图 - 科目相关性\n",
    "correlation = df_students[['数学', '语文', '英语']].corr()\n",
    "sns.heatmap(correlation, annot=True, cmap='coolwarm', center=0, \n",
    "           square=True, ax=axes[1, 0])\n",
    "axes[1, 0].set_title('科目成绩相关性', fontsize=14, fontweight='bold')\n",
    "\n",
    "# 4. 分组柱状图 - 地区产品销售\n",
    "region_product = df_sales.groupby(['地区', '产品'])['销售额'].sum().reset_index()\n",
    "sns.barplot(data=region_product, x='地区', y='销售额', hue='产品', ax=axes[1, 1])\n",
    "axes[1, 1].set_title('各地区产品销售情况', fontsize=14, fontweight='bold')\n",
    "axes[1, 1].legend(title='产品', bbox_to_anchor=(1.05, 1), loc='upper left')\n",
    "\n",
    "plt.tight_layout()\n",
    "plt.show()"
   ]
  },
  {
   "cell_type": "markdown",
   "metadata": {},
   "source": [
    "## 4. Plotly 交互式图表"
   ]
  },
  {
   "cell_type": "code",
   "execution_count": 38,
   "metadata": {},
   "outputs": [
    {
     "data": {
      "application/vnd.plotly.v1+json": {
       "config": {
        "plotlyServerURL": "https://plot.ly"
       },
       "data": [
        {
         "hovertemplate": "产品=产品A<br>月份=%{x}<br>销售额=%{y}<extra></extra>",
         "legendgroup": "产品A",
         "line": {
          "color": "#636efa",
          "dash": "solid",
          "shape": "spline"
         },
         "marker": {
          "symbol": "circle"
         },
         "mode": "lines+markers",
         "name": "产品A",
         "orientation": "v",
         "showlegend": true,
         "type": "scatter",
         "x": [
          "10月",
          "11月",
          "12月",
          "1月",
          "2月",
          "3月",
          "4月",
          "5月",
          "6月",
          "7月",
          "8月",
          "9月"
         ],
         "xaxis": "x",
         "y": {
          "bdata": "QwJCAi8CmgGoAcABuAIdAisCFgIEAsoB",
          "dtype": "i2"
         },
         "yaxis": "y"
        },
        {
         "hovertemplate": "产品=产品B<br>月份=%{x}<br>销售额=%{y}<extra></extra>",
         "legendgroup": "产品B",
         "line": {
          "color": "#EF553B",
          "dash": "solid",
          "shape": "spline"
         },
         "marker": {
          "symbol": "circle"
         },
         "mode": "lines+markers",
         "name": "产品B",
         "orientation": "v",
         "showlegend": true,
         "type": "scatter",
         "x": [
          "10月",
          "11月",
          "12月",
          "1月",
          "2月",
          "3月",
          "4月",
          "5月",
          "6月",
          "7月",
          "8月",
          "9月"
         ],
         "xaxis": "x",
         "y": {
          "bdata": "RQI6AhwC5AEOArcCSgIbAs8ChAJDAXMC",
          "dtype": "i2"
         },
         "yaxis": "y"
        },
        {
         "hovertemplate": "产品=产品C<br>月份=%{x}<br>销售额=%{y}<extra></extra>",
         "legendgroup": "产品C",
         "line": {
          "color": "#00cc96",
          "dash": "solid",
          "shape": "spline"
         },
         "marker": {
          "symbol": "circle"
         },
         "mode": "lines+markers",
         "name": "产品C",
         "orientation": "v",
         "showlegend": true,
         "type": "scatter",
         "x": [
          "10月",
          "11月",
          "12月",
          "1月",
          "2月",
          "3月",
          "4月",
          "5月",
          "6月",
          "7月",
          "8月",
          "9月"
         ],
         "xaxis": "x",
         "y": {
          "bdata": "EAIOApsBpwFIAncBsgEBAnsCkQJkAQAC",
          "dtype": "i2"
         },
         "yaxis": "y"
        },
        {
         "hovertemplate": "产品=产品D<br>月份=%{x}<br>销售额=%{y}<extra></extra>",
         "legendgroup": "产品D",
         "line": {
          "color": "#ab63fa",
          "dash": "solid",
          "shape": "spline"
         },
         "marker": {
          "symbol": "circle"
         },
         "mode": "lines+markers",
         "name": "产品D",
         "orientation": "v",
         "showlegend": true,
         "type": "scatter",
         "x": [
          "10月",
          "11月",
          "12月",
          "1月",
          "2月",
          "3月",
          "4月",
          "5月",
          "6月",
          "7月",
          "8月",
          "9月"
         ],
         "xaxis": "x",
         "y": {
          "bdata": "1QEJAjoCeQFbAe0BVALOAWYC7wHdAYYB",
          "dtype": "i2"
         },
         "yaxis": "y"
        }
       ],
       "layout": {
        "hovermode": "x unified",
        "legend": {
         "title": {
          "text": "产品"
         },
         "tracegroupgap": 0
        },
        "template": {
         "data": {
          "bar": [
           {
            "error_x": {
             "color": "#2a3f5f"
            },
            "error_y": {
             "color": "#2a3f5f"
            },
            "marker": {
             "line": {
              "color": "#E5ECF6",
              "width": 0.5
             },
             "pattern": {
              "fillmode": "overlay",
              "size": 10,
              "solidity": 0.2
             }
            },
            "type": "bar"
           }
          ],
          "barpolar": [
           {
            "marker": {
             "line": {
              "color": "#E5ECF6",
              "width": 0.5
             },
             "pattern": {
              "fillmode": "overlay",
              "size": 10,
              "solidity": 0.2
             }
            },
            "type": "barpolar"
           }
          ],
          "carpet": [
           {
            "aaxis": {
             "endlinecolor": "#2a3f5f",
             "gridcolor": "white",
             "linecolor": "white",
             "minorgridcolor": "white",
             "startlinecolor": "#2a3f5f"
            },
            "baxis": {
             "endlinecolor": "#2a3f5f",
             "gridcolor": "white",
             "linecolor": "white",
             "minorgridcolor": "white",
             "startlinecolor": "#2a3f5f"
            },
            "type": "carpet"
           }
          ],
          "choropleth": [
           {
            "colorbar": {
             "outlinewidth": 0,
             "ticks": ""
            },
            "type": "choropleth"
           }
          ],
          "contour": [
           {
            "colorbar": {
             "outlinewidth": 0,
             "ticks": ""
            },
            "colorscale": [
             [
              0,
              "#0d0887"
             ],
             [
              0.1111111111111111,
              "#46039f"
             ],
             [
              0.2222222222222222,
              "#7201a8"
             ],
             [
              0.3333333333333333,
              "#9c179e"
             ],
             [
              0.4444444444444444,
              "#bd3786"
             ],
             [
              0.5555555555555556,
              "#d8576b"
             ],
             [
              0.6666666666666666,
              "#ed7953"
             ],
             [
              0.7777777777777778,
              "#fb9f3a"
             ],
             [
              0.8888888888888888,
              "#fdca26"
             ],
             [
              1,
              "#f0f921"
             ]
            ],
            "type": "contour"
           }
          ],
          "contourcarpet": [
           {
            "colorbar": {
             "outlinewidth": 0,
             "ticks": ""
            },
            "type": "contourcarpet"
           }
          ],
          "heatmap": [
           {
            "colorbar": {
             "outlinewidth": 0,
             "ticks": ""
            },
            "colorscale": [
             [
              0,
              "#0d0887"
             ],
             [
              0.1111111111111111,
              "#46039f"
             ],
             [
              0.2222222222222222,
              "#7201a8"
             ],
             [
              0.3333333333333333,
              "#9c179e"
             ],
             [
              0.4444444444444444,
              "#bd3786"
             ],
             [
              0.5555555555555556,
              "#d8576b"
             ],
             [
              0.6666666666666666,
              "#ed7953"
             ],
             [
              0.7777777777777778,
              "#fb9f3a"
             ],
             [
              0.8888888888888888,
              "#fdca26"
             ],
             [
              1,
              "#f0f921"
             ]
            ],
            "type": "heatmap"
           }
          ],
          "histogram": [
           {
            "marker": {
             "pattern": {
              "fillmode": "overlay",
              "size": 10,
              "solidity": 0.2
             }
            },
            "type": "histogram"
           }
          ],
          "histogram2d": [
           {
            "colorbar": {
             "outlinewidth": 0,
             "ticks": ""
            },
            "colorscale": [
             [
              0,
              "#0d0887"
             ],
             [
              0.1111111111111111,
              "#46039f"
             ],
             [
              0.2222222222222222,
              "#7201a8"
             ],
             [
              0.3333333333333333,
              "#9c179e"
             ],
             [
              0.4444444444444444,
              "#bd3786"
             ],
             [
              0.5555555555555556,
              "#d8576b"
             ],
             [
              0.6666666666666666,
              "#ed7953"
             ],
             [
              0.7777777777777778,
              "#fb9f3a"
             ],
             [
              0.8888888888888888,
              "#fdca26"
             ],
             [
              1,
              "#f0f921"
             ]
            ],
            "type": "histogram2d"
           }
          ],
          "histogram2dcontour": [
           {
            "colorbar": {
             "outlinewidth": 0,
             "ticks": ""
            },
            "colorscale": [
             [
              0,
              "#0d0887"
             ],
             [
              0.1111111111111111,
              "#46039f"
             ],
             [
              0.2222222222222222,
              "#7201a8"
             ],
             [
              0.3333333333333333,
              "#9c179e"
             ],
             [
              0.4444444444444444,
              "#bd3786"
             ],
             [
              0.5555555555555556,
              "#d8576b"
             ],
             [
              0.6666666666666666,
              "#ed7953"
             ],
             [
              0.7777777777777778,
              "#fb9f3a"
             ],
             [
              0.8888888888888888,
              "#fdca26"
             ],
             [
              1,
              "#f0f921"
             ]
            ],
            "type": "histogram2dcontour"
           }
          ],
          "mesh3d": [
           {
            "colorbar": {
             "outlinewidth": 0,
             "ticks": ""
            },
            "type": "mesh3d"
           }
          ],
          "parcoords": [
           {
            "line": {
             "colorbar": {
              "outlinewidth": 0,
              "ticks": ""
             }
            },
            "type": "parcoords"
           }
          ],
          "pie": [
           {
            "automargin": true,
            "type": "pie"
           }
          ],
          "scatter": [
           {
            "fillpattern": {
             "fillmode": "overlay",
             "size": 10,
             "solidity": 0.2
            },
            "type": "scatter"
           }
          ],
          "scatter3d": [
           {
            "line": {
             "colorbar": {
              "outlinewidth": 0,
              "ticks": ""
             }
            },
            "marker": {
             "colorbar": {
              "outlinewidth": 0,
              "ticks": ""
             }
            },
            "type": "scatter3d"
           }
          ],
          "scattercarpet": [
           {
            "marker": {
             "colorbar": {
              "outlinewidth": 0,
              "ticks": ""
             }
            },
            "type": "scattercarpet"
           }
          ],
          "scattergeo": [
           {
            "marker": {
             "colorbar": {
              "outlinewidth": 0,
              "ticks": ""
             }
            },
            "type": "scattergeo"
           }
          ],
          "scattergl": [
           {
            "marker": {
             "colorbar": {
              "outlinewidth": 0,
              "ticks": ""
             }
            },
            "type": "scattergl"
           }
          ],
          "scattermap": [
           {
            "marker": {
             "colorbar": {
              "outlinewidth": 0,
              "ticks": ""
             }
            },
            "type": "scattermap"
           }
          ],
          "scattermapbox": [
           {
            "marker": {
             "colorbar": {
              "outlinewidth": 0,
              "ticks": ""
             }
            },
            "type": "scattermapbox"
           }
          ],
          "scatterpolar": [
           {
            "marker": {
             "colorbar": {
              "outlinewidth": 0,
              "ticks": ""
             }
            },
            "type": "scatterpolar"
           }
          ],
          "scatterpolargl": [
           {
            "marker": {
             "colorbar": {
              "outlinewidth": 0,
              "ticks": ""
             }
            },
            "type": "scatterpolargl"
           }
          ],
          "scatterternary": [
           {
            "marker": {
             "colorbar": {
              "outlinewidth": 0,
              "ticks": ""
             }
            },
            "type": "scatterternary"
           }
          ],
          "surface": [
           {
            "colorbar": {
             "outlinewidth": 0,
             "ticks": ""
            },
            "colorscale": [
             [
              0,
              "#0d0887"
             ],
             [
              0.1111111111111111,
              "#46039f"
             ],
             [
              0.2222222222222222,
              "#7201a8"
             ],
             [
              0.3333333333333333,
              "#9c179e"
             ],
             [
              0.4444444444444444,
              "#bd3786"
             ],
             [
              0.5555555555555556,
              "#d8576b"
             ],
             [
              0.6666666666666666,
              "#ed7953"
             ],
             [
              0.7777777777777778,
              "#fb9f3a"
             ],
             [
              0.8888888888888888,
              "#fdca26"
             ],
             [
              1,
              "#f0f921"
             ]
            ],
            "type": "surface"
           }
          ],
          "table": [
           {
            "cells": {
             "fill": {
              "color": "#EBF0F8"
             },
             "line": {
              "color": "white"
             }
            },
            "header": {
             "fill": {
              "color": "#C8D4E3"
             },
             "line": {
              "color": "white"
             }
            },
            "type": "table"
           }
          ]
         },
         "layout": {
          "annotationdefaults": {
           "arrowcolor": "#2a3f5f",
           "arrowhead": 0,
           "arrowwidth": 1
          },
          "autotypenumbers": "strict",
          "coloraxis": {
           "colorbar": {
            "outlinewidth": 0,
            "ticks": ""
           }
          },
          "colorscale": {
           "diverging": [
            [
             0,
             "#8e0152"
            ],
            [
             0.1,
             "#c51b7d"
            ],
            [
             0.2,
             "#de77ae"
            ],
            [
             0.3,
             "#f1b6da"
            ],
            [
             0.4,
             "#fde0ef"
            ],
            [
             0.5,
             "#f7f7f7"
            ],
            [
             0.6,
             "#e6f5d0"
            ],
            [
             0.7,
             "#b8e186"
            ],
            [
             0.8,
             "#7fbc41"
            ],
            [
             0.9,
             "#4d9221"
            ],
            [
             1,
             "#276419"
            ]
           ],
           "sequential": [
            [
             0,
             "#0d0887"
            ],
            [
             0.1111111111111111,
             "#46039f"
            ],
            [
             0.2222222222222222,
             "#7201a8"
            ],
            [
             0.3333333333333333,
             "#9c179e"
            ],
            [
             0.4444444444444444,
             "#bd3786"
            ],
            [
             0.5555555555555556,
             "#d8576b"
            ],
            [
             0.6666666666666666,
             "#ed7953"
            ],
            [
             0.7777777777777778,
             "#fb9f3a"
            ],
            [
             0.8888888888888888,
             "#fdca26"
            ],
            [
             1,
             "#f0f921"
            ]
           ],
           "sequentialminus": [
            [
             0,
             "#0d0887"
            ],
            [
             0.1111111111111111,
             "#46039f"
            ],
            [
             0.2222222222222222,
             "#7201a8"
            ],
            [
             0.3333333333333333,
             "#9c179e"
            ],
            [
             0.4444444444444444,
             "#bd3786"
            ],
            [
             0.5555555555555556,
             "#d8576b"
            ],
            [
             0.6666666666666666,
             "#ed7953"
            ],
            [
             0.7777777777777778,
             "#fb9f3a"
            ],
            [
             0.8888888888888888,
             "#fdca26"
            ],
            [
             1,
             "#f0f921"
            ]
           ]
          },
          "colorway": [
           "#636efa",
           "#EF553B",
           "#00cc96",
           "#ab63fa",
           "#FFA15A",
           "#19d3f3",
           "#FF6692",
           "#B6E880",
           "#FF97FF",
           "#FECB52"
          ],
          "font": {
           "color": "#2a3f5f"
          },
          "geo": {
           "bgcolor": "white",
           "lakecolor": "white",
           "landcolor": "#E5ECF6",
           "showlakes": true,
           "showland": true,
           "subunitcolor": "white"
          },
          "hoverlabel": {
           "align": "left"
          },
          "hovermode": "closest",
          "mapbox": {
           "style": "light"
          },
          "paper_bgcolor": "white",
          "plot_bgcolor": "#E5ECF6",
          "polar": {
           "angularaxis": {
            "gridcolor": "white",
            "linecolor": "white",
            "ticks": ""
           },
           "bgcolor": "#E5ECF6",
           "radialaxis": {
            "gridcolor": "white",
            "linecolor": "white",
            "ticks": ""
           }
          },
          "scene": {
           "xaxis": {
            "backgroundcolor": "#E5ECF6",
            "gridcolor": "white",
            "gridwidth": 2,
            "linecolor": "white",
            "showbackground": true,
            "ticks": "",
            "zerolinecolor": "white"
           },
           "yaxis": {
            "backgroundcolor": "#E5ECF6",
            "gridcolor": "white",
            "gridwidth": 2,
            "linecolor": "white",
            "showbackground": true,
            "ticks": "",
            "zerolinecolor": "white"
           },
           "zaxis": {
            "backgroundcolor": "#E5ECF6",
            "gridcolor": "white",
            "gridwidth": 2,
            "linecolor": "white",
            "showbackground": true,
            "ticks": "",
            "zerolinecolor": "white"
           }
          },
          "shapedefaults": {
           "line": {
            "color": "#2a3f5f"
           }
          },
          "ternary": {
           "aaxis": {
            "gridcolor": "white",
            "linecolor": "white",
            "ticks": ""
           },
           "baxis": {
            "gridcolor": "white",
            "linecolor": "white",
            "ticks": ""
           },
           "bgcolor": "#E5ECF6",
           "caxis": {
            "gridcolor": "white",
            "linecolor": "white",
            "ticks": ""
           }
          },
          "title": {
           "x": 0.05
          },
          "xaxis": {
           "automargin": true,
           "gridcolor": "white",
           "linecolor": "white",
           "ticks": "",
           "title": {
            "standoff": 15
           },
           "zerolinecolor": "white",
           "zerolinewidth": 2
          },
          "yaxis": {
           "automargin": true,
           "gridcolor": "white",
           "linecolor": "white",
           "ticks": "",
           "title": {
            "standoff": 15
           },
           "zerolinecolor": "white",
           "zerolinewidth": 2
          }
         }
        },
        "title": {
         "font": {
          "size": 16
         },
         "text": "各产品月度销售趋势（交互式）"
        },
        "xaxis": {
         "anchor": "y",
         "domain": [
          0,
          1
         ],
         "title": {
          "text": "月份"
         }
        },
        "yaxis": {
         "anchor": "x",
         "domain": [
          0,
          1
         ],
         "title": {
          "text": "销售额"
         }
        }
       }
      }
     },
     "metadata": {},
     "output_type": "display_data"
    }
   ],
   "source": [
    "# 1. 交互式折线图\n",
    "monthly_product_sales = df_sales.groupby(['月份', '产品'])['销售额'].sum().reset_index()\n",
    "\n",
    "fig = px.line(monthly_product_sales, x='月份', y='销售额', color='产品',\n",
    "              title='各产品月度销售趋势（交互式）',\n",
    "              markers=True, line_shape='spline')\n",
    "\n",
    "fig.update_layout(\n",
    "    title_font_size=16,\n",
    "    xaxis_title='月份',\n",
    "    yaxis_title='销售额',\n",
    "    hovermode='x unified'\n",
    ")\n",
    "\n",
    "fig.show()"
   ]
  },
  {
   "cell_type": "code",
   "execution_count": 39,
   "metadata": {},
   "outputs": [
    {
     "data": {
      "application/vnd.plotly.v1+json": {
       "config": {
        "plotlyServerURL": "https://plot.ly"
       },
       "data": [
        {
         "customdata": [
          [
           "北区",
           "1月"
          ],
          [
           "南区",
           "1月"
          ],
          [
           "东区",
           "1月"
          ],
          [
           "西区",
           "1月"
          ],
          [
           "北区",
           "2月"
          ],
          [
           "南区",
           "2月"
          ],
          [
           "东区",
           "2月"
          ],
          [
           "西区",
           "2月"
          ],
          [
           "北区",
           "3月"
          ],
          [
           "南区",
           "3月"
          ],
          [
           "东区",
           "3月"
          ],
          [
           "西区",
           "3月"
          ],
          [
           "北区",
           "4月"
          ],
          [
           "南区",
           "4月"
          ],
          [
           "东区",
           "4月"
          ],
          [
           "西区",
           "4月"
          ],
          [
           "北区",
           "5月"
          ],
          [
           "南区",
           "5月"
          ],
          [
           "东区",
           "5月"
          ],
          [
           "西区",
           "5月"
          ],
          [
           "北区",
           "6月"
          ],
          [
           "南区",
           "6月"
          ],
          [
           "东区",
           "6月"
          ],
          [
           "西区",
           "6月"
          ],
          [
           "北区",
           "7月"
          ],
          [
           "南区",
           "7月"
          ],
          [
           "东区",
           "7月"
          ],
          [
           "西区",
           "7月"
          ],
          [
           "北区",
           "8月"
          ],
          [
           "南区",
           "8月"
          ],
          [
           "东区",
           "8月"
          ],
          [
           "西区",
           "8月"
          ],
          [
           "北区",
           "9月"
          ],
          [
           "南区",
           "9月"
          ],
          [
           "东区",
           "9月"
          ],
          [
           "西区",
           "9月"
          ],
          [
           "北区",
           "10月"
          ],
          [
           "南区",
           "10月"
          ],
          [
           "东区",
           "10月"
          ],
          [
           "西区",
           "10月"
          ],
          [
           "北区",
           "11月"
          ],
          [
           "南区",
           "11月"
          ],
          [
           "东区",
           "11月"
          ],
          [
           "西区",
           "11月"
          ],
          [
           "北区",
           "12月"
          ],
          [
           "南区",
           "12月"
          ],
          [
           "东区",
           "12月"
          ],
          [
           "西区",
           "12月"
          ]
         ],
         "hovertemplate": "产品=产品A<br>销售额=%{marker.size}<br>利润=%{y}<br>地区=%{customdata[0]}<br>月份=%{customdata[1]}<extra></extra>",
         "legendgroup": "产品A",
         "marker": {
          "color": "#636efa",
          "opacity": 0.7,
          "size": {
           "bdata": "mABAAEYAfAB6ALUAPwA6AEkArQBAAIoAtAC/ALoAiwCNALIAqgA0ALMAdQCsAFcAbQCyAL0AOgDCAKQARwBXAKUAdABKAGcAwQCkAI0AUQCjAMQAcABrAMEAhgBSAJYA",
           "dtype": "i2"
          },
          "sizemode": "area",
          "sizeref": 0.4975,
          "symbol": "circle"
         },
         "mode": "markers",
         "name": "产品A",
         "orientation": "v",
         "showlegend": true,
         "type": "scatter",
         "x": {
          "bdata": "mABAAEYAfAB6ALUAPwA6AEkArQBAAIoAtAC/ALoAiwCNALIAqgA0ALMAdQCsAFcAbQCyAL0AOgDCAKQARwBXAKUAdABKAGcAwQCkAI0AUQCjAMQAcABrAMEAhgBSAJYA",
          "dtype": "i2"
         },
         "xaxis": "x",
         "y": {
          "bdata": "FK5H4Xq0Q0AK16NwPYovQFyPwvUoXCJACtejcD3KN0AUrkfhepQrQHsUrkfhGkpAPQrXo3B9MED2KFyPwvUXQIXrUbgeBSlAmpmZmZnZOkAK16NwPQohQIXrUbgehURAUrgeheuxRkB7FK5H4fpCQIXrUbgehUZAuB6F61E4LUBmZmZmZiY4QClcj8L16DlASOF6FK5nRkAUrkfhehQVQBSuR+F6dEJArkfhehQuK0BI4XoUroc5QDMzMzMzMy5A16NwPQqXMEBcj8L1KBw1QAAAAAAAAERAj8L1KFwPIkCamZmZmVk/QMP1KFyPokJAH4XrUbgeJUB7FK5H4bo5QLgehetRODpAj8L1KFwPL0B7FK5H4XoqQKRwPQrXozhAw/UoXI9CNUA9CtejcH07QOxRuB6Faz5AuB6F61F4MUBxPQrXo5BAQMP1KFyPYklAKVyPwvXoNEDD9Shcj8IoQBSuR+F6FDdA16NwPQoXOkCkcD0K16MvQPYoXI/C9TpA",
          "dtype": "f8"
         },
         "yaxis": "y"
        },
        {
         "customdata": [
          [
           "北区",
           "1月"
          ],
          [
           "南区",
           "1月"
          ],
          [
           "东区",
           "1月"
          ],
          [
           "西区",
           "1月"
          ],
          [
           "北区",
           "2月"
          ],
          [
           "南区",
           "2月"
          ],
          [
           "东区",
           "2月"
          ],
          [
           "西区",
           "2月"
          ],
          [
           "北区",
           "3月"
          ],
          [
           "南区",
           "3月"
          ],
          [
           "东区",
           "3月"
          ],
          [
           "西区",
           "3月"
          ],
          [
           "北区",
           "4月"
          ],
          [
           "南区",
           "4月"
          ],
          [
           "东区",
           "4月"
          ],
          [
           "西区",
           "4月"
          ],
          [
           "北区",
           "5月"
          ],
          [
           "南区",
           "5月"
          ],
          [
           "东区",
           "5月"
          ],
          [
           "西区",
           "5月"
          ],
          [
           "北区",
           "6月"
          ],
          [
           "南区",
           "6月"
          ],
          [
           "东区",
           "6月"
          ],
          [
           "西区",
           "6月"
          ],
          [
           "北区",
           "7月"
          ],
          [
           "南区",
           "7月"
          ],
          [
           "东区",
           "7月"
          ],
          [
           "西区",
           "7月"
          ],
          [
           "北区",
           "8月"
          ],
          [
           "南区",
           "8月"
          ],
          [
           "东区",
           "8月"
          ],
          [
           "西区",
           "8月"
          ],
          [
           "北区",
           "9月"
          ],
          [
           "南区",
           "9月"
          ],
          [
           "东区",
           "9月"
          ],
          [
           "西区",
           "9月"
          ],
          [
           "北区",
           "10月"
          ],
          [
           "南区",
           "10月"
          ],
          [
           "东区",
           "10月"
          ],
          [
           "西区",
           "10月"
          ],
          [
           "北区",
           "11月"
          ],
          [
           "南区",
           "11月"
          ],
          [
           "东区",
           "11月"
          ],
          [
           "西区",
           "11月"
          ],
          [
           "北区",
           "12月"
          ],
          [
           "南区",
           "12月"
          ],
          [
           "东区",
           "12月"
          ],
          [
           "西区",
           "12月"
          ]
         ],
         "hovertemplate": "产品=产品B<br>销售额=%{marker.size}<br>利润=%{y}<br>地区=%{customdata[0]}<br>月份=%{customdata[1]}<extra></extra>",
         "legendgroup": "产品B",
         "marker": {
          "color": "#EF553B",
          "opacity": 0.7,
          "size": {
           "bdata": "pgC0ADMAVwCzAKAAOQCCAIkAuQC8ALkAcABlALUAwAC6AGQAbACRAKUAvADBAK0AxAC0AGcApQBkAEwARgBNAJkAowCHALAAhwBwAMcAhwCmALAAsgAyADsAlQC7AJEA",
           "dtype": "i2"
          },
          "sizemode": "area",
          "sizeref": 0.4975,
          "symbol": "circle"
         },
         "mode": "markers",
         "name": "产品B",
         "orientation": "v",
         "showlegend": true,
         "type": "scatter",
         "x": {
          "bdata": "pgC0ADMAVwCzAKAAOQCCAIkAuQC8ALkAcABlALUAwAC6AGQAbACRAKUAvADBAK0AxAC0AGcApQBkAEwARgBNAJkAowCHALAAhwBwAMcAhwCmALAAsgAyADsAlQC7AJEA",
          "dtype": "i2"
         },
         "xaxis": "x",
         "y": {
          "bdata": "SOF6FK5HQkA9CtejcL0yQOxRuB6F6yhA7FG4HoVrIUAzMzMzMzNFQK5H4XoU7kJAXI/C9ShcGEB7FK5H4bozQIXrUbgehThAMzMzMzOzMkBI4XoUrkc6QFyPwvUovEZAhetRuB5FP0B7FK5H4Xo1QJqZmZmZeUlAexSuR+EaSEBSuB6F61FCQEjhehSuxy5ASOF6FK7HMUCuR+F6FK4+QJqZmZmZeUhAAAAAAADASECF61G4HsVJQHE9CtejcEFASOF6FK4HSEAK16NwPWpIQB+F61G4XjpASOF6FK5HM0DXo3A9Ctc7QGZmZmZmZixAFK5H4XoULEAAAAAAAAAyQDMzMzMzczFAzczMzMwsQkCuR+F6FC43QM3MzMzM7EFAXI/C9ShcNkC4HoXrUZhAQPYoXI/CtUVAw/UoXI9CNEBI4XoUrkczQM3MzMzMDEVAuB6F61H4N0DXo3A9CtciQJqZmZmZGTFAAAAAAABAMECuR+F6FA5FQOxRuB6Fq0NA",
          "dtype": "f8"
         },
         "yaxis": "y"
        },
        {
         "customdata": [
          [
           "北区",
           "1月"
          ],
          [
           "南区",
           "1月"
          ],
          [
           "东区",
           "1月"
          ],
          [
           "西区",
           "1月"
          ],
          [
           "北区",
           "2月"
          ],
          [
           "南区",
           "2月"
          ],
          [
           "东区",
           "2月"
          ],
          [
           "西区",
           "2月"
          ],
          [
           "北区",
           "3月"
          ],
          [
           "南区",
           "3月"
          ],
          [
           "东区",
           "3月"
          ],
          [
           "西区",
           "3月"
          ],
          [
           "北区",
           "4月"
          ],
          [
           "南区",
           "4月"
          ],
          [
           "东区",
           "4月"
          ],
          [
           "西区",
           "4月"
          ],
          [
           "北区",
           "5月"
          ],
          [
           "南区",
           "5月"
          ],
          [
           "东区",
           "5月"
          ],
          [
           "西区",
           "5月"
          ],
          [
           "北区",
           "6月"
          ],
          [
           "南区",
           "6月"
          ],
          [
           "东区",
           "6月"
          ],
          [
           "西区",
           "6月"
          ],
          [
           "北区",
           "7月"
          ],
          [
           "南区",
           "7月"
          ],
          [
           "东区",
           "7月"
          ],
          [
           "西区",
           "7月"
          ],
          [
           "北区",
           "8月"
          ],
          [
           "南区",
           "8月"
          ],
          [
           "东区",
           "8月"
          ],
          [
           "西区",
           "8月"
          ],
          [
           "北区",
           "9月"
          ],
          [
           "南区",
           "9月"
          ],
          [
           "东区",
           "9月"
          ],
          [
           "西区",
           "9月"
          ],
          [
           "北区",
           "10月"
          ],
          [
           "南区",
           "10月"
          ],
          [
           "东区",
           "10月"
          ],
          [
           "西区",
           "10月"
          ],
          [
           "北区",
           "11月"
          ],
          [
           "南区",
           "11月"
          ],
          [
           "东区",
           "11月"
          ],
          [
           "西区",
           "11月"
          ],
          [
           "北区",
           "12月"
          ],
          [
           "南区",
           "12月"
          ],
          [
           "东区",
           "12月"
          ],
          [
           "西区",
           "12月"
          ]
         ],
         "hovertemplate": "产品=产品C<br>销售额=%{marker.size}<br>利润=%{y}<br>地区=%{customdata[0]}<br>月份=%{customdata[1]}<extra></extra>",
         "legendgroup": "产品C",
         "marker": {
          "color": "#00cc96",
          "opacity": 0.7,
          "size": {
           "bdata": "RgBrAIoAbACZALcANQDDAFIAWgB5AFIAVQB4AIcAXgCiAGUAWACiAI4AxADEAGUAmQChAJQAwwBuADUAYgBfALMAmQBcAFgAdwCWAGYAnQCRAGEApgB2AHYAQQAzALEA",
           "dtype": "i2"
          },
          "sizemode": "area",
          "sizeref": 0.4975,
          "symbol": "circle"
         },
         "mode": "markers",
         "name": "产品C",
         "orientation": "v",
         "showlegend": true,
         "type": "scatter",
         "x": {
          "bdata": "RgBrAIoAbACZALcANQDDAFIAWgB5AFIAVQB4AIcAXgCiAGUAWACiAI4AxADEAGUAmQChAJQAwwBuADUAYgBfALMAmQBcAFgAdwCWAGYAnQCRAGEApgB2AHYAQQAzALEA",
          "dtype": "i2"
         },
         "xaxis": "x",
         "y": {
          "bdata": "SOF6FK5HL0CuR+F6FO41QNejcD0K1zVAcT0K16NwM0AUrkfhejRDQClcj8L16DlACtejcD0KHUA9CtejcN1IQKRwPQrXIzJAuB6F61F4OUB7FK5H4fo2QHsUrkfheiJASOF6FK6HOEAzMzMzM/MyQMP1KFyPokJA7FG4HoXrLUDNzMzMzEwyQK5H4XoULi5AzczMzMyMMUAAAAAAAAA1QArXo3A9SkNAPQrXo3C9R0DD9Shcj6JAQJqZmZmZGT1ArkfhehTuQEAfhetRuF4zQI/C9Shcz0VAhetRuB7FOUB7FK5H4fo1QD0K16NwPRZAzczMzMxMJUDhehSuR+E6QDMzMzMzcz1AcT0K16NQQkA9CtejcD02QHE9Ctej8CtAH4XrUbgeM0DsUbgehas+QHsUrkfhei9A4XoUrkehQUCuR+F6FG4+QAAAAAAAgCpAhetRuB7lQkA9CtejcD06QHE9Ctej8DtArkfhehSuHUB7FK5H4XoVQD0K16NwHURA",
          "dtype": "f8"
         },
         "yaxis": "y"
        },
        {
         "customdata": [
          [
           "北区",
           "1月"
          ],
          [
           "南区",
           "1月"
          ],
          [
           "东区",
           "1月"
          ],
          [
           "西区",
           "1月"
          ],
          [
           "北区",
           "2月"
          ],
          [
           "南区",
           "2月"
          ],
          [
           "东区",
           "2月"
          ],
          [
           "西区",
           "2月"
          ],
          [
           "北区",
           "3月"
          ],
          [
           "南区",
           "3月"
          ],
          [
           "东区",
           "3月"
          ],
          [
           "西区",
           "3月"
          ],
          [
           "北区",
           "4月"
          ],
          [
           "南区",
           "4月"
          ],
          [
           "东区",
           "4月"
          ],
          [
           "西区",
           "4月"
          ],
          [
           "北区",
           "5月"
          ],
          [
           "南区",
           "5月"
          ],
          [
           "东区",
           "5月"
          ],
          [
           "西区",
           "5月"
          ],
          [
           "北区",
           "6月"
          ],
          [
           "南区",
           "6月"
          ],
          [
           "东区",
           "6月"
          ],
          [
           "西区",
           "6月"
          ],
          [
           "北区",
           "7月"
          ],
          [
           "南区",
           "7月"
          ],
          [
           "东区",
           "7月"
          ],
          [
           "西区",
           "7月"
          ],
          [
           "北区",
           "8月"
          ],
          [
           "南区",
           "8月"
          ],
          [
           "东区",
           "8月"
          ],
          [
           "西区",
           "8月"
          ],
          [
           "北区",
           "9月"
          ],
          [
           "南区",
           "9月"
          ],
          [
           "东区",
           "9月"
          ],
          [
           "西区",
           "9月"
          ],
          [
           "北区",
           "10月"
          ],
          [
           "南区",
           "10月"
          ],
          [
           "东区",
           "10月"
          ],
          [
           "西区",
           "10月"
          ],
          [
           "北区",
           "11月"
          ],
          [
           "南区",
           "11月"
          ],
          [
           "东区",
           "11月"
          ],
          [
           "西区",
           "11月"
          ],
          [
           "北区",
           "12月"
          ],
          [
           "南区",
           "12月"
          ],
          [
           "东区",
           "12月"
          ],
          [
           "西区",
           "12月"
          ]
         ],
         "hovertemplate": "产品=产品D<br>销售额=%{marker.size}<br>利润=%{y}<br>地区=%{customdata[0]}<br>月份=%{customdata[1]}<extra></extra>",
         "legendgroup": "产品D",
         "marker": {
          "color": "#ab63fa",
          "opacity": 0.7,
          "size": {
           "bdata": "QABkAHEAZAA/AEAAWQCDAG8AlABUAJYAtwCdAE8AsQCCADMAZwCyALEAmQBbAMEAgwB1AEYAsQCUAFYAXwCUAEsAPgC4AEUANwClAJQAZQB9AIcAdgCPAIUArQCWAHIA",
           "dtype": "i2"
          },
          "sizemode": "area",
          "sizeref": 0.4975,
          "symbol": "circle"
         },
         "mode": "markers",
         "name": "产品D",
         "orientation": "v",
         "showlegend": true,
         "type": "scatter",
         "x": {
          "bdata": "QABkAHEAZAA/AEAAWQCDAG8AlABUAJYAtwCdAE8AsQCCADMAZwCyALEAmQBbAMEAgwB1AEYAsQCUAFYAXwCUAEsAPgC4AEUANwClAJQAZQB9AIcAdgCPAIUArQCWAHIA",
          "dtype": "i2"
         },
         "xaxis": "x",
         "y": {
          "bdata": "exSuR+F6KEBmZmZmZqYxQJqZmZmZ2TVAXI/C9SicN0DsUbgehesuQB+F61G4Hh5ArkfhehTuN0A9CtejcD07QFK4HoXrUTJAZmZmZmYmQEAUrkfhelQwQDMzMzMzE0ZA4XoUrkeBQUCPwvUoXI81QFyPwvUo3DVApHA9CtcjR0BxPQrXo/AzQPYoXI/CdSRA9ihcj8L1JUAUrkfhelQ6QKRwPQrXA0JAw/UoXI+CM0AUrkfhepQrQOxRuB6Fa0lAUrgehevROUAAAAAAAEAxQAAAAAAAACNAhetRuB4FRkDXo3A9CndCQFK4HoXrkThAH4XrUbjeO0ApXI/C9ehFQGZmZmZmpjNA16NwPQrXHECuR+F6FG5CQD0K16NwvS9ASOF6FK5HGEBSuB6F6xE+QPYoXI/C1UBAj8L1KFyPKUBmZmZmZqY6QEjhehSuxytACtejcD0KLEDD9Shcj2JDQFyPwvUonDxAAAAAAADANUCkcD0K1+NAQClcj8L1qEBA",
          "dtype": "f8"
         },
         "yaxis": "y"
        }
       ],
       "layout": {
        "legend": {
         "itemsizing": "constant",
         "title": {
          "text": "产品"
         },
         "tracegroupgap": 0
        },
        "template": {
         "data": {
          "bar": [
           {
            "error_x": {
             "color": "#2a3f5f"
            },
            "error_y": {
             "color": "#2a3f5f"
            },
            "marker": {
             "line": {
              "color": "#E5ECF6",
              "width": 0.5
             },
             "pattern": {
              "fillmode": "overlay",
              "size": 10,
              "solidity": 0.2
             }
            },
            "type": "bar"
           }
          ],
          "barpolar": [
           {
            "marker": {
             "line": {
              "color": "#E5ECF6",
              "width": 0.5
             },
             "pattern": {
              "fillmode": "overlay",
              "size": 10,
              "solidity": 0.2
             }
            },
            "type": "barpolar"
           }
          ],
          "carpet": [
           {
            "aaxis": {
             "endlinecolor": "#2a3f5f",
             "gridcolor": "white",
             "linecolor": "white",
             "minorgridcolor": "white",
             "startlinecolor": "#2a3f5f"
            },
            "baxis": {
             "endlinecolor": "#2a3f5f",
             "gridcolor": "white",
             "linecolor": "white",
             "minorgridcolor": "white",
             "startlinecolor": "#2a3f5f"
            },
            "type": "carpet"
           }
          ],
          "choropleth": [
           {
            "colorbar": {
             "outlinewidth": 0,
             "ticks": ""
            },
            "type": "choropleth"
           }
          ],
          "contour": [
           {
            "colorbar": {
             "outlinewidth": 0,
             "ticks": ""
            },
            "colorscale": [
             [
              0,
              "#0d0887"
             ],
             [
              0.1111111111111111,
              "#46039f"
             ],
             [
              0.2222222222222222,
              "#7201a8"
             ],
             [
              0.3333333333333333,
              "#9c179e"
             ],
             [
              0.4444444444444444,
              "#bd3786"
             ],
             [
              0.5555555555555556,
              "#d8576b"
             ],
             [
              0.6666666666666666,
              "#ed7953"
             ],
             [
              0.7777777777777778,
              "#fb9f3a"
             ],
             [
              0.8888888888888888,
              "#fdca26"
             ],
             [
              1,
              "#f0f921"
             ]
            ],
            "type": "contour"
           }
          ],
          "contourcarpet": [
           {
            "colorbar": {
             "outlinewidth": 0,
             "ticks": ""
            },
            "type": "contourcarpet"
           }
          ],
          "heatmap": [
           {
            "colorbar": {
             "outlinewidth": 0,
             "ticks": ""
            },
            "colorscale": [
             [
              0,
              "#0d0887"
             ],
             [
              0.1111111111111111,
              "#46039f"
             ],
             [
              0.2222222222222222,
              "#7201a8"
             ],
             [
              0.3333333333333333,
              "#9c179e"
             ],
             [
              0.4444444444444444,
              "#bd3786"
             ],
             [
              0.5555555555555556,
              "#d8576b"
             ],
             [
              0.6666666666666666,
              "#ed7953"
             ],
             [
              0.7777777777777778,
              "#fb9f3a"
             ],
             [
              0.8888888888888888,
              "#fdca26"
             ],
             [
              1,
              "#f0f921"
             ]
            ],
            "type": "heatmap"
           }
          ],
          "histogram": [
           {
            "marker": {
             "pattern": {
              "fillmode": "overlay",
              "size": 10,
              "solidity": 0.2
             }
            },
            "type": "histogram"
           }
          ],
          "histogram2d": [
           {
            "colorbar": {
             "outlinewidth": 0,
             "ticks": ""
            },
            "colorscale": [
             [
              0,
              "#0d0887"
             ],
             [
              0.1111111111111111,
              "#46039f"
             ],
             [
              0.2222222222222222,
              "#7201a8"
             ],
             [
              0.3333333333333333,
              "#9c179e"
             ],
             [
              0.4444444444444444,
              "#bd3786"
             ],
             [
              0.5555555555555556,
              "#d8576b"
             ],
             [
              0.6666666666666666,
              "#ed7953"
             ],
             [
              0.7777777777777778,
              "#fb9f3a"
             ],
             [
              0.8888888888888888,
              "#fdca26"
             ],
             [
              1,
              "#f0f921"
             ]
            ],
            "type": "histogram2d"
           }
          ],
          "histogram2dcontour": [
           {
            "colorbar": {
             "outlinewidth": 0,
             "ticks": ""
            },
            "colorscale": [
             [
              0,
              "#0d0887"
             ],
             [
              0.1111111111111111,
              "#46039f"
             ],
             [
              0.2222222222222222,
              "#7201a8"
             ],
             [
              0.3333333333333333,
              "#9c179e"
             ],
             [
              0.4444444444444444,
              "#bd3786"
             ],
             [
              0.5555555555555556,
              "#d8576b"
             ],
             [
              0.6666666666666666,
              "#ed7953"
             ],
             [
              0.7777777777777778,
              "#fb9f3a"
             ],
             [
              0.8888888888888888,
              "#fdca26"
             ],
             [
              1,
              "#f0f921"
             ]
            ],
            "type": "histogram2dcontour"
           }
          ],
          "mesh3d": [
           {
            "colorbar": {
             "outlinewidth": 0,
             "ticks": ""
            },
            "type": "mesh3d"
           }
          ],
          "parcoords": [
           {
            "line": {
             "colorbar": {
              "outlinewidth": 0,
              "ticks": ""
             }
            },
            "type": "parcoords"
           }
          ],
          "pie": [
           {
            "automargin": true,
            "type": "pie"
           }
          ],
          "scatter": [
           {
            "fillpattern": {
             "fillmode": "overlay",
             "size": 10,
             "solidity": 0.2
            },
            "type": "scatter"
           }
          ],
          "scatter3d": [
           {
            "line": {
             "colorbar": {
              "outlinewidth": 0,
              "ticks": ""
             }
            },
            "marker": {
             "colorbar": {
              "outlinewidth": 0,
              "ticks": ""
             }
            },
            "type": "scatter3d"
           }
          ],
          "scattercarpet": [
           {
            "marker": {
             "colorbar": {
              "outlinewidth": 0,
              "ticks": ""
             }
            },
            "type": "scattercarpet"
           }
          ],
          "scattergeo": [
           {
            "marker": {
             "colorbar": {
              "outlinewidth": 0,
              "ticks": ""
             }
            },
            "type": "scattergeo"
           }
          ],
          "scattergl": [
           {
            "marker": {
             "colorbar": {
              "outlinewidth": 0,
              "ticks": ""
             }
            },
            "type": "scattergl"
           }
          ],
          "scattermap": [
           {
            "marker": {
             "colorbar": {
              "outlinewidth": 0,
              "ticks": ""
             }
            },
            "type": "scattermap"
           }
          ],
          "scattermapbox": [
           {
            "marker": {
             "colorbar": {
              "outlinewidth": 0,
              "ticks": ""
             }
            },
            "type": "scattermapbox"
           }
          ],
          "scatterpolar": [
           {
            "marker": {
             "colorbar": {
              "outlinewidth": 0,
              "ticks": ""
             }
            },
            "type": "scatterpolar"
           }
          ],
          "scatterpolargl": [
           {
            "marker": {
             "colorbar": {
              "outlinewidth": 0,
              "ticks": ""
             }
            },
            "type": "scatterpolargl"
           }
          ],
          "scatterternary": [
           {
            "marker": {
             "colorbar": {
              "outlinewidth": 0,
              "ticks": ""
             }
            },
            "type": "scatterternary"
           }
          ],
          "surface": [
           {
            "colorbar": {
             "outlinewidth": 0,
             "ticks": ""
            },
            "colorscale": [
             [
              0,
              "#0d0887"
             ],
             [
              0.1111111111111111,
              "#46039f"
             ],
             [
              0.2222222222222222,
              "#7201a8"
             ],
             [
              0.3333333333333333,
              "#9c179e"
             ],
             [
              0.4444444444444444,
              "#bd3786"
             ],
             [
              0.5555555555555556,
              "#d8576b"
             ],
             [
              0.6666666666666666,
              "#ed7953"
             ],
             [
              0.7777777777777778,
              "#fb9f3a"
             ],
             [
              0.8888888888888888,
              "#fdca26"
             ],
             [
              1,
              "#f0f921"
             ]
            ],
            "type": "surface"
           }
          ],
          "table": [
           {
            "cells": {
             "fill": {
              "color": "#EBF0F8"
             },
             "line": {
              "color": "white"
             }
            },
            "header": {
             "fill": {
              "color": "#C8D4E3"
             },
             "line": {
              "color": "white"
             }
            },
            "type": "table"
           }
          ]
         },
         "layout": {
          "annotationdefaults": {
           "arrowcolor": "#2a3f5f",
           "arrowhead": 0,
           "arrowwidth": 1
          },
          "autotypenumbers": "strict",
          "coloraxis": {
           "colorbar": {
            "outlinewidth": 0,
            "ticks": ""
           }
          },
          "colorscale": {
           "diverging": [
            [
             0,
             "#8e0152"
            ],
            [
             0.1,
             "#c51b7d"
            ],
            [
             0.2,
             "#de77ae"
            ],
            [
             0.3,
             "#f1b6da"
            ],
            [
             0.4,
             "#fde0ef"
            ],
            [
             0.5,
             "#f7f7f7"
            ],
            [
             0.6,
             "#e6f5d0"
            ],
            [
             0.7,
             "#b8e186"
            ],
            [
             0.8,
             "#7fbc41"
            ],
            [
             0.9,
             "#4d9221"
            ],
            [
             1,
             "#276419"
            ]
           ],
           "sequential": [
            [
             0,
             "#0d0887"
            ],
            [
             0.1111111111111111,
             "#46039f"
            ],
            [
             0.2222222222222222,
             "#7201a8"
            ],
            [
             0.3333333333333333,
             "#9c179e"
            ],
            [
             0.4444444444444444,
             "#bd3786"
            ],
            [
             0.5555555555555556,
             "#d8576b"
            ],
            [
             0.6666666666666666,
             "#ed7953"
            ],
            [
             0.7777777777777778,
             "#fb9f3a"
            ],
            [
             0.8888888888888888,
             "#fdca26"
            ],
            [
             1,
             "#f0f921"
            ]
           ],
           "sequentialminus": [
            [
             0,
             "#0d0887"
            ],
            [
             0.1111111111111111,
             "#46039f"
            ],
            [
             0.2222222222222222,
             "#7201a8"
            ],
            [
             0.3333333333333333,
             "#9c179e"
            ],
            [
             0.4444444444444444,
             "#bd3786"
            ],
            [
             0.5555555555555556,
             "#d8576b"
            ],
            [
             0.6666666666666666,
             "#ed7953"
            ],
            [
             0.7777777777777778,
             "#fb9f3a"
            ],
            [
             0.8888888888888888,
             "#fdca26"
            ],
            [
             1,
             "#f0f921"
            ]
           ]
          },
          "colorway": [
           "#636efa",
           "#EF553B",
           "#00cc96",
           "#ab63fa",
           "#FFA15A",
           "#19d3f3",
           "#FF6692",
           "#B6E880",
           "#FF97FF",
           "#FECB52"
          ],
          "font": {
           "color": "#2a3f5f"
          },
          "geo": {
           "bgcolor": "white",
           "lakecolor": "white",
           "landcolor": "#E5ECF6",
           "showlakes": true,
           "showland": true,
           "subunitcolor": "white"
          },
          "hoverlabel": {
           "align": "left"
          },
          "hovermode": "closest",
          "mapbox": {
           "style": "light"
          },
          "paper_bgcolor": "white",
          "plot_bgcolor": "#E5ECF6",
          "polar": {
           "angularaxis": {
            "gridcolor": "white",
            "linecolor": "white",
            "ticks": ""
           },
           "bgcolor": "#E5ECF6",
           "radialaxis": {
            "gridcolor": "white",
            "linecolor": "white",
            "ticks": ""
           }
          },
          "scene": {
           "xaxis": {
            "backgroundcolor": "#E5ECF6",
            "gridcolor": "white",
            "gridwidth": 2,
            "linecolor": "white",
            "showbackground": true,
            "ticks": "",
            "zerolinecolor": "white"
           },
           "yaxis": {
            "backgroundcolor": "#E5ECF6",
            "gridcolor": "white",
            "gridwidth": 2,
            "linecolor": "white",
            "showbackground": true,
            "ticks": "",
            "zerolinecolor": "white"
           },
           "zaxis": {
            "backgroundcolor": "#E5ECF6",
            "gridcolor": "white",
            "gridwidth": 2,
            "linecolor": "white",
            "showbackground": true,
            "ticks": "",
            "zerolinecolor": "white"
           }
          },
          "shapedefaults": {
           "line": {
            "color": "#2a3f5f"
           }
          },
          "ternary": {
           "aaxis": {
            "gridcolor": "white",
            "linecolor": "white",
            "ticks": ""
           },
           "baxis": {
            "gridcolor": "white",
            "linecolor": "white",
            "ticks": ""
           },
           "bgcolor": "#E5ECF6",
           "caxis": {
            "gridcolor": "white",
            "linecolor": "white",
            "ticks": ""
           }
          },
          "title": {
           "x": 0.05
          },
          "xaxis": {
           "automargin": true,
           "gridcolor": "white",
           "linecolor": "white",
           "ticks": "",
           "title": {
            "standoff": 15
           },
           "zerolinecolor": "white",
           "zerolinewidth": 2
          },
          "yaxis": {
           "automargin": true,
           "gridcolor": "white",
           "linecolor": "white",
           "ticks": "",
           "title": {
            "standoff": 15
           },
           "zerolinecolor": "white",
           "zerolinewidth": 2
          }
         }
        },
        "title": {
         "font": {
          "size": 16
         },
         "text": "销售额与利润关系（交互式）"
        },
        "xaxis": {
         "anchor": "y",
         "domain": [
          0,
          1
         ],
         "title": {
          "text": "销售额"
         }
        },
        "yaxis": {
         "anchor": "x",
         "domain": [
          0,
          1
         ],
         "title": {
          "text": "利润"
         }
        }
       }
      }
     },
     "metadata": {},
     "output_type": "display_data"
    }
   ],
   "source": [
    "# 2. 交互式散点图\n",
    "fig = px.scatter(df_sales, x='销售额', y='利润', color='产品', size='销售额',\n",
    "                hover_data=['地区', '月份'],\n",
    "                title='销售额与利润关系（交互式）',\n",
    "                opacity=0.7)\n",
    "\n",
    "fig.update_layout(\n",
    "    title_font_size=16,\n",
    "    xaxis_title='销售额',\n",
    "    yaxis_title='利润'\n",
    ")\n",
    "\n",
    "fig.show()"
   ]
  },
  {
   "cell_type": "code",
   "execution_count": 40,
   "metadata": {},
   "outputs": [
    {
     "data": {
      "application/vnd.plotly.v1+json": {
       "config": {
        "plotlyServerURL": "https://plot.ly"
       },
       "data": [
        {
         "hovertemplate": "班级=C班<br>数学=%{x}<br>语文=%{y}<br>英语=%{z}<extra></extra>",
         "legendgroup": "C班",
         "marker": {
          "color": "#636efa",
          "opacity": 0.7,
          "symbol": "circle"
         },
         "mode": "markers",
         "name": "C班",
         "scene": "scene",
         "showlegend": true,
         "type": "scatter3d",
         "x": {
          "bdata": "Q05YQUVZYEFYU1xiVWVURE4=",
          "dtype": "i1"
         },
         "y": {
          "bdata": "XUpIN2JMT19ZVVVQVGFPU0I=",
          "dtype": "i1"
         },
         "z": {
          "bdata": "SksZREVKS0ApLUBKHktARU0=",
          "dtype": "i1"
         }
        },
        {
         "hovertemplate": "班级=A班<br>数学=%{x}<br>语文=%{y}<br>英语=%{z}<extra></extra>",
         "legendgroup": "A班",
         "marker": {
          "color": "#EF553B",
          "opacity": 0.7,
          "symbol": "circle"
         },
         "mode": "markers",
         "name": "A班",
         "scene": "scene",
         "showlegend": true,
         "type": "scatter3d",
         "x": {
          "bdata": "RFNAOEREWFlXRkFEVkArRlNY",
          "dtype": "i1"
         },
         "y": {
          "bdata": "YE9RRVtVVGZlTls/OVZYWFRO",
          "dtype": "i1"
         },
         "z": {
          "bdata": "NUtPYWpIWkhBYFVfST1XRVos",
          "dtype": "i1"
         }
        },
        {
         "hovertemplate": "班级=B班<br>数学=%{x}<br>语文=%{y}<br>英语=%{z}<extra></extra>",
         "legendgroup": "B班",
         "marker": {
          "color": "#00cc96",
          "opacity": 0.7,
          "symbol": "circle"
         },
         "mode": "markers",
         "name": "B班",
         "scene": "scene",
         "showlegend": true,
         "type": "scatter3d",
         "x": {
          "bdata": "UDBATktDR2daMF05Sldf",
          "dtype": "i1"
         },
         "y": {
          "bdata": "Rz5LUGtKXj5ZTlw6W05M",
          "dtype": "i1"
         },
         "z": {
          "bdata": "YVk3YUlYMz4/JlVDXlQo",
          "dtype": "i1"
         }
        }
       ],
       "layout": {
        "legend": {
         "title": {
          "text": "班级"
         },
         "tracegroupgap": 0
        },
        "scene": {
         "domain": {
          "x": [
           0,
           1
          ],
          "y": [
           0,
           1
          ]
         },
         "xaxis": {
          "title": {
           "text": "数学成绩"
          }
         },
         "yaxis": {
          "title": {
           "text": "语文成绩"
          }
         },
         "zaxis": {
          "title": {
           "text": "英语成绩"
          }
         }
        },
        "template": {
         "data": {
          "bar": [
           {
            "error_x": {
             "color": "#2a3f5f"
            },
            "error_y": {
             "color": "#2a3f5f"
            },
            "marker": {
             "line": {
              "color": "#E5ECF6",
              "width": 0.5
             },
             "pattern": {
              "fillmode": "overlay",
              "size": 10,
              "solidity": 0.2
             }
            },
            "type": "bar"
           }
          ],
          "barpolar": [
           {
            "marker": {
             "line": {
              "color": "#E5ECF6",
              "width": 0.5
             },
             "pattern": {
              "fillmode": "overlay",
              "size": 10,
              "solidity": 0.2
             }
            },
            "type": "barpolar"
           }
          ],
          "carpet": [
           {
            "aaxis": {
             "endlinecolor": "#2a3f5f",
             "gridcolor": "white",
             "linecolor": "white",
             "minorgridcolor": "white",
             "startlinecolor": "#2a3f5f"
            },
            "baxis": {
             "endlinecolor": "#2a3f5f",
             "gridcolor": "white",
             "linecolor": "white",
             "minorgridcolor": "white",
             "startlinecolor": "#2a3f5f"
            },
            "type": "carpet"
           }
          ],
          "choropleth": [
           {
            "colorbar": {
             "outlinewidth": 0,
             "ticks": ""
            },
            "type": "choropleth"
           }
          ],
          "contour": [
           {
            "colorbar": {
             "outlinewidth": 0,
             "ticks": ""
            },
            "colorscale": [
             [
              0,
              "#0d0887"
             ],
             [
              0.1111111111111111,
              "#46039f"
             ],
             [
              0.2222222222222222,
              "#7201a8"
             ],
             [
              0.3333333333333333,
              "#9c179e"
             ],
             [
              0.4444444444444444,
              "#bd3786"
             ],
             [
              0.5555555555555556,
              "#d8576b"
             ],
             [
              0.6666666666666666,
              "#ed7953"
             ],
             [
              0.7777777777777778,
              "#fb9f3a"
             ],
             [
              0.8888888888888888,
              "#fdca26"
             ],
             [
              1,
              "#f0f921"
             ]
            ],
            "type": "contour"
           }
          ],
          "contourcarpet": [
           {
            "colorbar": {
             "outlinewidth": 0,
             "ticks": ""
            },
            "type": "contourcarpet"
           }
          ],
          "heatmap": [
           {
            "colorbar": {
             "outlinewidth": 0,
             "ticks": ""
            },
            "colorscale": [
             [
              0,
              "#0d0887"
             ],
             [
              0.1111111111111111,
              "#46039f"
             ],
             [
              0.2222222222222222,
              "#7201a8"
             ],
             [
              0.3333333333333333,
              "#9c179e"
             ],
             [
              0.4444444444444444,
              "#bd3786"
             ],
             [
              0.5555555555555556,
              "#d8576b"
             ],
             [
              0.6666666666666666,
              "#ed7953"
             ],
             [
              0.7777777777777778,
              "#fb9f3a"
             ],
             [
              0.8888888888888888,
              "#fdca26"
             ],
             [
              1,
              "#f0f921"
             ]
            ],
            "type": "heatmap"
           }
          ],
          "histogram": [
           {
            "marker": {
             "pattern": {
              "fillmode": "overlay",
              "size": 10,
              "solidity": 0.2
             }
            },
            "type": "histogram"
           }
          ],
          "histogram2d": [
           {
            "colorbar": {
             "outlinewidth": 0,
             "ticks": ""
            },
            "colorscale": [
             [
              0,
              "#0d0887"
             ],
             [
              0.1111111111111111,
              "#46039f"
             ],
             [
              0.2222222222222222,
              "#7201a8"
             ],
             [
              0.3333333333333333,
              "#9c179e"
             ],
             [
              0.4444444444444444,
              "#bd3786"
             ],
             [
              0.5555555555555556,
              "#d8576b"
             ],
             [
              0.6666666666666666,
              "#ed7953"
             ],
             [
              0.7777777777777778,
              "#fb9f3a"
             ],
             [
              0.8888888888888888,
              "#fdca26"
             ],
             [
              1,
              "#f0f921"
             ]
            ],
            "type": "histogram2d"
           }
          ],
          "histogram2dcontour": [
           {
            "colorbar": {
             "outlinewidth": 0,
             "ticks": ""
            },
            "colorscale": [
             [
              0,
              "#0d0887"
             ],
             [
              0.1111111111111111,
              "#46039f"
             ],
             [
              0.2222222222222222,
              "#7201a8"
             ],
             [
              0.3333333333333333,
              "#9c179e"
             ],
             [
              0.4444444444444444,
              "#bd3786"
             ],
             [
              0.5555555555555556,
              "#d8576b"
             ],
             [
              0.6666666666666666,
              "#ed7953"
             ],
             [
              0.7777777777777778,
              "#fb9f3a"
             ],
             [
              0.8888888888888888,
              "#fdca26"
             ],
             [
              1,
              "#f0f921"
             ]
            ],
            "type": "histogram2dcontour"
           }
          ],
          "mesh3d": [
           {
            "colorbar": {
             "outlinewidth": 0,
             "ticks": ""
            },
            "type": "mesh3d"
           }
          ],
          "parcoords": [
           {
            "line": {
             "colorbar": {
              "outlinewidth": 0,
              "ticks": ""
             }
            },
            "type": "parcoords"
           }
          ],
          "pie": [
           {
            "automargin": true,
            "type": "pie"
           }
          ],
          "scatter": [
           {
            "fillpattern": {
             "fillmode": "overlay",
             "size": 10,
             "solidity": 0.2
            },
            "type": "scatter"
           }
          ],
          "scatter3d": [
           {
            "line": {
             "colorbar": {
              "outlinewidth": 0,
              "ticks": ""
             }
            },
            "marker": {
             "colorbar": {
              "outlinewidth": 0,
              "ticks": ""
             }
            },
            "type": "scatter3d"
           }
          ],
          "scattercarpet": [
           {
            "marker": {
             "colorbar": {
              "outlinewidth": 0,
              "ticks": ""
             }
            },
            "type": "scattercarpet"
           }
          ],
          "scattergeo": [
           {
            "marker": {
             "colorbar": {
              "outlinewidth": 0,
              "ticks": ""
             }
            },
            "type": "scattergeo"
           }
          ],
          "scattergl": [
           {
            "marker": {
             "colorbar": {
              "outlinewidth": 0,
              "ticks": ""
             }
            },
            "type": "scattergl"
           }
          ],
          "scattermap": [
           {
            "marker": {
             "colorbar": {
              "outlinewidth": 0,
              "ticks": ""
             }
            },
            "type": "scattermap"
           }
          ],
          "scattermapbox": [
           {
            "marker": {
             "colorbar": {
              "outlinewidth": 0,
              "ticks": ""
             }
            },
            "type": "scattermapbox"
           }
          ],
          "scatterpolar": [
           {
            "marker": {
             "colorbar": {
              "outlinewidth": 0,
              "ticks": ""
             }
            },
            "type": "scatterpolar"
           }
          ],
          "scatterpolargl": [
           {
            "marker": {
             "colorbar": {
              "outlinewidth": 0,
              "ticks": ""
             }
            },
            "type": "scatterpolargl"
           }
          ],
          "scatterternary": [
           {
            "marker": {
             "colorbar": {
              "outlinewidth": 0,
              "ticks": ""
             }
            },
            "type": "scatterternary"
           }
          ],
          "surface": [
           {
            "colorbar": {
             "outlinewidth": 0,
             "ticks": ""
            },
            "colorscale": [
             [
              0,
              "#0d0887"
             ],
             [
              0.1111111111111111,
              "#46039f"
             ],
             [
              0.2222222222222222,
              "#7201a8"
             ],
             [
              0.3333333333333333,
              "#9c179e"
             ],
             [
              0.4444444444444444,
              "#bd3786"
             ],
             [
              0.5555555555555556,
              "#d8576b"
             ],
             [
              0.6666666666666666,
              "#ed7953"
             ],
             [
              0.7777777777777778,
              "#fb9f3a"
             ],
             [
              0.8888888888888888,
              "#fdca26"
             ],
             [
              1,
              "#f0f921"
             ]
            ],
            "type": "surface"
           }
          ],
          "table": [
           {
            "cells": {
             "fill": {
              "color": "#EBF0F8"
             },
             "line": {
              "color": "white"
             }
            },
            "header": {
             "fill": {
              "color": "#C8D4E3"
             },
             "line": {
              "color": "white"
             }
            },
            "type": "table"
           }
          ]
         },
         "layout": {
          "annotationdefaults": {
           "arrowcolor": "#2a3f5f",
           "arrowhead": 0,
           "arrowwidth": 1
          },
          "autotypenumbers": "strict",
          "coloraxis": {
           "colorbar": {
            "outlinewidth": 0,
            "ticks": ""
           }
          },
          "colorscale": {
           "diverging": [
            [
             0,
             "#8e0152"
            ],
            [
             0.1,
             "#c51b7d"
            ],
            [
             0.2,
             "#de77ae"
            ],
            [
             0.3,
             "#f1b6da"
            ],
            [
             0.4,
             "#fde0ef"
            ],
            [
             0.5,
             "#f7f7f7"
            ],
            [
             0.6,
             "#e6f5d0"
            ],
            [
             0.7,
             "#b8e186"
            ],
            [
             0.8,
             "#7fbc41"
            ],
            [
             0.9,
             "#4d9221"
            ],
            [
             1,
             "#276419"
            ]
           ],
           "sequential": [
            [
             0,
             "#0d0887"
            ],
            [
             0.1111111111111111,
             "#46039f"
            ],
            [
             0.2222222222222222,
             "#7201a8"
            ],
            [
             0.3333333333333333,
             "#9c179e"
            ],
            [
             0.4444444444444444,
             "#bd3786"
            ],
            [
             0.5555555555555556,
             "#d8576b"
            ],
            [
             0.6666666666666666,
             "#ed7953"
            ],
            [
             0.7777777777777778,
             "#fb9f3a"
            ],
            [
             0.8888888888888888,
             "#fdca26"
            ],
            [
             1,
             "#f0f921"
            ]
           ],
           "sequentialminus": [
            [
             0,
             "#0d0887"
            ],
            [
             0.1111111111111111,
             "#46039f"
            ],
            [
             0.2222222222222222,
             "#7201a8"
            ],
            [
             0.3333333333333333,
             "#9c179e"
            ],
            [
             0.4444444444444444,
             "#bd3786"
            ],
            [
             0.5555555555555556,
             "#d8576b"
            ],
            [
             0.6666666666666666,
             "#ed7953"
            ],
            [
             0.7777777777777778,
             "#fb9f3a"
            ],
            [
             0.8888888888888888,
             "#fdca26"
            ],
            [
             1,
             "#f0f921"
            ]
           ]
          },
          "colorway": [
           "#636efa",
           "#EF553B",
           "#00cc96",
           "#ab63fa",
           "#FFA15A",
           "#19d3f3",
           "#FF6692",
           "#B6E880",
           "#FF97FF",
           "#FECB52"
          ],
          "font": {
           "color": "#2a3f5f"
          },
          "geo": {
           "bgcolor": "white",
           "lakecolor": "white",
           "landcolor": "#E5ECF6",
           "showlakes": true,
           "showland": true,
           "subunitcolor": "white"
          },
          "hoverlabel": {
           "align": "left"
          },
          "hovermode": "closest",
          "mapbox": {
           "style": "light"
          },
          "paper_bgcolor": "white",
          "plot_bgcolor": "#E5ECF6",
          "polar": {
           "angularaxis": {
            "gridcolor": "white",
            "linecolor": "white",
            "ticks": ""
           },
           "bgcolor": "#E5ECF6",
           "radialaxis": {
            "gridcolor": "white",
            "linecolor": "white",
            "ticks": ""
           }
          },
          "scene": {
           "xaxis": {
            "backgroundcolor": "#E5ECF6",
            "gridcolor": "white",
            "gridwidth": 2,
            "linecolor": "white",
            "showbackground": true,
            "ticks": "",
            "zerolinecolor": "white"
           },
           "yaxis": {
            "backgroundcolor": "#E5ECF6",
            "gridcolor": "white",
            "gridwidth": 2,
            "linecolor": "white",
            "showbackground": true,
            "ticks": "",
            "zerolinecolor": "white"
           },
           "zaxis": {
            "backgroundcolor": "#E5ECF6",
            "gridcolor": "white",
            "gridwidth": 2,
            "linecolor": "white",
            "showbackground": true,
            "ticks": "",
            "zerolinecolor": "white"
           }
          },
          "shapedefaults": {
           "line": {
            "color": "#2a3f5f"
           }
          },
          "ternary": {
           "aaxis": {
            "gridcolor": "white",
            "linecolor": "white",
            "ticks": ""
           },
           "baxis": {
            "gridcolor": "white",
            "linecolor": "white",
            "ticks": ""
           },
           "bgcolor": "#E5ECF6",
           "caxis": {
            "gridcolor": "white",
            "linecolor": "white",
            "ticks": ""
           }
          },
          "title": {
           "x": 0.05
          },
          "xaxis": {
           "automargin": true,
           "gridcolor": "white",
           "linecolor": "white",
           "ticks": "",
           "title": {
            "standoff": 15
           },
           "zerolinecolor": "white",
           "zerolinewidth": 2
          },
          "yaxis": {
           "automargin": true,
           "gridcolor": "white",
           "linecolor": "white",
           "ticks": "",
           "title": {
            "standoff": 15
           },
           "zerolinecolor": "white",
           "zerolinewidth": 2
          }
         }
        },
        "title": {
         "font": {
          "size": 16
         },
         "text": "三科成绩3D分布"
        }
       }
      }
     },
     "metadata": {},
     "output_type": "display_data"
    }
   ],
   "source": [
    "# 3. 3D 散点图\n",
    "fig = px.scatter_3d(df_students, x='数学', y='语文', z='英语', color='班级',\n",
    "                   title='三科成绩3D分布',\n",
    "                   opacity=0.7)\n",
    "\n",
    "fig.update_layout(\n",
    "    title_font_size=16,\n",
    "    scene=dict(\n",
    "        xaxis_title='数学成绩',\n",
    "        yaxis_title='语文成绩',\n",
    "        zaxis_title='英语成绩'\n",
    "    )\n",
    ")\n",
    "\n",
    "fig.show()"
   ]
  },
  {
   "cell_type": "markdown",
   "metadata": {},
   "source": [
    "## 5. 综合仪表板"
   ]
  },
  {
   "cell_type": "code",
   "execution_count": 41,
   "metadata": {},
   "outputs": [
    {
     "data": {
      "application/vnd.plotly.v1+json": {
       "config": {
        "plotlyServerURL": "https://plot.ly"
       },
       "data": [
        {
         "line": {
          "color": "#1f77b4",
          "width": 3
         },
         "mode": "lines+markers",
         "name": "月度销售",
         "type": "scatter",
         "x": [
          "10月",
          "11月",
          "12月",
          "1月",
          "2月",
          "3月",
          "4月",
          "5月",
          "6月",
          "7月",
          "8月",
          "9月"
         ],
         "xaxis": "x",
         "y": {
          "bdata": "bQiTCCAIngZZB9sHCAkHCNsJGgmIBsMH",
          "dtype": "i2"
         },
         "yaxis": "y"
        },
        {
         "domain": {
          "x": [
           0.55,
           1
          ],
          "y": [
           0.625,
           1
          ]
         },
         "labels": [
          "产品A",
          "产品B",
          "产品C",
          "产品D"
         ],
         "name": "产品占比",
         "type": "pie",
         "values": {
          "bdata": "mhiyGkIXsxY=",
          "dtype": "i2"
         }
        },
        {
         "marker": {
          "color": "lightblue"
         },
         "name": "地区销售",
         "type": "bar",
         "x": [
          "东区",
          "北区",
          "南区",
          "西区"
         ],
         "xaxis": "x2",
         "y": {
          "bdata": "fBaDGXEZ0Rc=",
          "dtype": "i2"
         },
         "yaxis": "y2"
        },
        {
         "marker": {
          "color": {
           "bdata": "mABAAEYAfACmALQAMwBXAEYAawCKAGwAQABkAHEAZAB6ALUAPwA6ALMAoAA5AIIAmQC3ADUAwwA/AEAAWQCDAEkArQBAAIoAiQC5ALwAuQBSAFoAeQBSAG8AlABUAJYAtAC/ALoAiwBwAGUAtQDAAFUAeACHAF4AtwCdAE8AsQCNALIAqgA0ALoAZABsAJEAogBlAFgAogCCADMAZwCyALMAdQCsAFcApQC8AMEArQCOAMQAxABlALEAmQBbAMEAbQCyAL0AOgDEALQAZwClAJkAoQCUAMMAgwB1AEYAsQDCAKQARwBXAGQATABGAE0AbgA1AGIAXwCUAFYAXwCUAKUAdABKAGcAmQCjAIcAsACzAJkAXABYAEsAPgC4AEUAwQCkAI0AUQCHAHAAxwCHAHcAlgBmAJ0ANwClAJQAZQCjAMQAcABrAKYAsACyADIAkQBhAKYAdgB9AIcAdgCPAMEAhgBSAJYAOwCVALsAkQB2AEEAMwCxAIUArQCWAHIA",
           "dtype": "i2"
          },
          "colorscale": [
           [
            0,
            "#440154"
           ],
           [
            0.1111111111111111,
            "#482878"
           ],
           [
            0.2222222222222222,
            "#3e4989"
           ],
           [
            0.3333333333333333,
            "#31688e"
           ],
           [
            0.4444444444444444,
            "#26828e"
           ],
           [
            0.5555555555555556,
            "#1f9e89"
           ],
           [
            0.6666666666666666,
            "#35b779"
           ],
           [
            0.7777777777777778,
            "#6ece58"
           ],
           [
            0.8888888888888888,
            "#b5de2b"
           ],
           [
            1,
            "#fde725"
           ]
          ],
          "opacity": 0.7,
          "showscale": true,
          "size": 8
         },
         "mode": "markers",
         "name": "销售利润",
         "type": "scatter",
         "x": {
          "bdata": "mABAAEYAfACmALQAMwBXAEYAawCKAGwAQABkAHEAZAB6ALUAPwA6ALMAoAA5AIIAmQC3ADUAwwA/AEAAWQCDAEkArQBAAIoAiQC5ALwAuQBSAFoAeQBSAG8AlABUAJYAtAC/ALoAiwBwAGUAtQDAAFUAeACHAF4AtwCdAE8AsQCNALIAqgA0ALoAZABsAJEAogBlAFgAogCCADMAZwCyALMAdQCsAFcApQC8AMEArQCOAMQAxABlALEAmQBbAMEAbQCyAL0AOgDEALQAZwClAJkAoQCUAMMAgwB1AEYAsQDCAKQARwBXAGQATABGAE0AbgA1AGIAXwCUAFYAXwCUAKUAdABKAGcAmQCjAIcAsACzAJkAXABYAEsAPgC4AEUAwQCkAI0AUQCHAHAAxwCHAHcAlgBmAJ0ANwClAJQAZQCjAMQAcABrAKYAsACyADIAkQBhAKYAdgB9AIcAdgCPAMEAhgBSAJYAOwCVALsAkQB2AEEAMwCxAIUArQCWAHIA",
          "dtype": "i2"
         },
         "xaxis": "x3",
         "y": {
          "bdata": "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",
          "dtype": "f8"
         },
         "yaxis": "y3"
        }
       ],
       "layout": {
        "annotations": [
         {
          "font": {
           "size": 16
          },
          "showarrow": false,
          "text": "月度销售趋势",
          "x": 0.225,
          "xanchor": "center",
          "xref": "paper",
          "y": 1,
          "yanchor": "bottom",
          "yref": "paper"
         },
         {
          "font": {
           "size": 16
          },
          "showarrow": false,
          "text": "产品销售占比",
          "x": 0.775,
          "xanchor": "center",
          "xref": "paper",
          "y": 1,
          "yanchor": "bottom",
          "yref": "paper"
         },
         {
          "font": {
           "size": 16
          },
          "showarrow": false,
          "text": "地区销售对比",
          "x": 0.225,
          "xanchor": "center",
          "xref": "paper",
          "y": 0.375,
          "yanchor": "bottom",
          "yref": "paper"
         },
         {
          "font": {
           "size": 16
          },
          "showarrow": false,
          "text": "销售利润分析",
          "x": 0.775,
          "xanchor": "center",
          "xref": "paper",
          "y": 0.375,
          "yanchor": "bottom",
          "yref": "paper"
         }
        ],
        "height": 800,
        "showlegend": false,
        "template": {
         "data": {
          "bar": [
           {
            "error_x": {
             "color": "#2a3f5f"
            },
            "error_y": {
             "color": "#2a3f5f"
            },
            "marker": {
             "line": {
              "color": "#E5ECF6",
              "width": 0.5
             },
             "pattern": {
              "fillmode": "overlay",
              "size": 10,
              "solidity": 0.2
             }
            },
            "type": "bar"
           }
          ],
          "barpolar": [
           {
            "marker": {
             "line": {
              "color": "#E5ECF6",
              "width": 0.5
             },
             "pattern": {
              "fillmode": "overlay",
              "size": 10,
              "solidity": 0.2
             }
            },
            "type": "barpolar"
           }
          ],
          "carpet": [
           {
            "aaxis": {
             "endlinecolor": "#2a3f5f",
             "gridcolor": "white",
             "linecolor": "white",
             "minorgridcolor": "white",
             "startlinecolor": "#2a3f5f"
            },
            "baxis": {
             "endlinecolor": "#2a3f5f",
             "gridcolor": "white",
             "linecolor": "white",
             "minorgridcolor": "white",
             "startlinecolor": "#2a3f5f"
            },
            "type": "carpet"
           }
          ],
          "choropleth": [
           {
            "colorbar": {
             "outlinewidth": 0,
             "ticks": ""
            },
            "type": "choropleth"
           }
          ],
          "contour": [
           {
            "colorbar": {
             "outlinewidth": 0,
             "ticks": ""
            },
            "colorscale": [
             [
              0,
              "#0d0887"
             ],
             [
              0.1111111111111111,
              "#46039f"
             ],
             [
              0.2222222222222222,
              "#7201a8"
             ],
             [
              0.3333333333333333,
              "#9c179e"
             ],
             [
              0.4444444444444444,
              "#bd3786"
             ],
             [
              0.5555555555555556,
              "#d8576b"
             ],
             [
              0.6666666666666666,
              "#ed7953"
             ],
             [
              0.7777777777777778,
              "#fb9f3a"
             ],
             [
              0.8888888888888888,
              "#fdca26"
             ],
             [
              1,
              "#f0f921"
             ]
            ],
            "type": "contour"
           }
          ],
          "contourcarpet": [
           {
            "colorbar": {
             "outlinewidth": 0,
             "ticks": ""
            },
            "type": "contourcarpet"
           }
          ],
          "heatmap": [
           {
            "colorbar": {
             "outlinewidth": 0,
             "ticks": ""
            },
            "colorscale": [
             [
              0,
              "#0d0887"
             ],
             [
              0.1111111111111111,
              "#46039f"
             ],
             [
              0.2222222222222222,
              "#7201a8"
             ],
             [
              0.3333333333333333,
              "#9c179e"
             ],
             [
              0.4444444444444444,
              "#bd3786"
             ],
             [
              0.5555555555555556,
              "#d8576b"
             ],
             [
              0.6666666666666666,
              "#ed7953"
             ],
             [
              0.7777777777777778,
              "#fb9f3a"
             ],
             [
              0.8888888888888888,
              "#fdca26"
             ],
             [
              1,
              "#f0f921"
             ]
            ],
            "type": "heatmap"
           }
          ],
          "histogram": [
           {
            "marker": {
             "pattern": {
              "fillmode": "overlay",
              "size": 10,
              "solidity": 0.2
             }
            },
            "type": "histogram"
           }
          ],
          "histogram2d": [
           {
            "colorbar": {
             "outlinewidth": 0,
             "ticks": ""
            },
            "colorscale": [
             [
              0,
              "#0d0887"
             ],
             [
              0.1111111111111111,
              "#46039f"
             ],
             [
              0.2222222222222222,
              "#7201a8"
             ],
             [
              0.3333333333333333,
              "#9c179e"
             ],
             [
              0.4444444444444444,
              "#bd3786"
             ],
             [
              0.5555555555555556,
              "#d8576b"
             ],
             [
              0.6666666666666666,
              "#ed7953"
             ],
             [
              0.7777777777777778,
              "#fb9f3a"
             ],
             [
              0.8888888888888888,
              "#fdca26"
             ],
             [
              1,
              "#f0f921"
             ]
            ],
            "type": "histogram2d"
           }
          ],
          "histogram2dcontour": [
           {
            "colorbar": {
             "outlinewidth": 0,
             "ticks": ""
            },
            "colorscale": [
             [
              0,
              "#0d0887"
             ],
             [
              0.1111111111111111,
              "#46039f"
             ],
             [
              0.2222222222222222,
              "#7201a8"
             ],
             [
              0.3333333333333333,
              "#9c179e"
             ],
             [
              0.4444444444444444,
              "#bd3786"
             ],
             [
              0.5555555555555556,
              "#d8576b"
             ],
             [
              0.6666666666666666,
              "#ed7953"
             ],
             [
              0.7777777777777778,
              "#fb9f3a"
             ],
             [
              0.8888888888888888,
              "#fdca26"
             ],
             [
              1,
              "#f0f921"
             ]
            ],
            "type": "histogram2dcontour"
           }
          ],
          "mesh3d": [
           {
            "colorbar": {
             "outlinewidth": 0,
             "ticks": ""
            },
            "type": "mesh3d"
           }
          ],
          "parcoords": [
           {
            "line": {
             "colorbar": {
              "outlinewidth": 0,
              "ticks": ""
             }
            },
            "type": "parcoords"
           }
          ],
          "pie": [
           {
            "automargin": true,
            "type": "pie"
           }
          ],
          "scatter": [
           {
            "fillpattern": {
             "fillmode": "overlay",
             "size": 10,
             "solidity": 0.2
            },
            "type": "scatter"
           }
          ],
          "scatter3d": [
           {
            "line": {
             "colorbar": {
              "outlinewidth": 0,
              "ticks": ""
             }
            },
            "marker": {
             "colorbar": {
              "outlinewidth": 0,
              "ticks": ""
             }
            },
            "type": "scatter3d"
           }
          ],
          "scattercarpet": [
           {
            "marker": {
             "colorbar": {
              "outlinewidth": 0,
              "ticks": ""
             }
            },
            "type": "scattercarpet"
           }
          ],
          "scattergeo": [
           {
            "marker": {
             "colorbar": {
              "outlinewidth": 0,
              "ticks": ""
             }
            },
            "type": "scattergeo"
           }
          ],
          "scattergl": [
           {
            "marker": {
             "colorbar": {
              "outlinewidth": 0,
              "ticks": ""
             }
            },
            "type": "scattergl"
           }
          ],
          "scattermap": [
           {
            "marker": {
             "colorbar": {
              "outlinewidth": 0,
              "ticks": ""
             }
            },
            "type": "scattermap"
           }
          ],
          "scattermapbox": [
           {
            "marker": {
             "colorbar": {
              "outlinewidth": 0,
              "ticks": ""
             }
            },
            "type": "scattermapbox"
           }
          ],
          "scatterpolar": [
           {
            "marker": {
             "colorbar": {
              "outlinewidth": 0,
              "ticks": ""
             }
            },
            "type": "scatterpolar"
           }
          ],
          "scatterpolargl": [
           {
            "marker": {
             "colorbar": {
              "outlinewidth": 0,
              "ticks": ""
             }
            },
            "type": "scatterpolargl"
           }
          ],
          "scatterternary": [
           {
            "marker": {
             "colorbar": {
              "outlinewidth": 0,
              "ticks": ""
             }
            },
            "type": "scatterternary"
           }
          ],
          "surface": [
           {
            "colorbar": {
             "outlinewidth": 0,
             "ticks": ""
            },
            "colorscale": [
             [
              0,
              "#0d0887"
             ],
             [
              0.1111111111111111,
              "#46039f"
             ],
             [
              0.2222222222222222,
              "#7201a8"
             ],
             [
              0.3333333333333333,
              "#9c179e"
             ],
             [
              0.4444444444444444,
              "#bd3786"
             ],
             [
              0.5555555555555556,
              "#d8576b"
             ],
             [
              0.6666666666666666,
              "#ed7953"
             ],
             [
              0.7777777777777778,
              "#fb9f3a"
             ],
             [
              0.8888888888888888,
              "#fdca26"
             ],
             [
              1,
              "#f0f921"
             ]
            ],
            "type": "surface"
           }
          ],
          "table": [
           {
            "cells": {
             "fill": {
              "color": "#EBF0F8"
             },
             "line": {
              "color": "white"
             }
            },
            "header": {
             "fill": {
              "color": "#C8D4E3"
             },
             "line": {
              "color": "white"
             }
            },
            "type": "table"
           }
          ]
         },
         "layout": {
          "annotationdefaults": {
           "arrowcolor": "#2a3f5f",
           "arrowhead": 0,
           "arrowwidth": 1
          },
          "autotypenumbers": "strict",
          "coloraxis": {
           "colorbar": {
            "outlinewidth": 0,
            "ticks": ""
           }
          },
          "colorscale": {
           "diverging": [
            [
             0,
             "#8e0152"
            ],
            [
             0.1,
             "#c51b7d"
            ],
            [
             0.2,
             "#de77ae"
            ],
            [
             0.3,
             "#f1b6da"
            ],
            [
             0.4,
             "#fde0ef"
            ],
            [
             0.5,
             "#f7f7f7"
            ],
            [
             0.6,
             "#e6f5d0"
            ],
            [
             0.7,
             "#b8e186"
            ],
            [
             0.8,
             "#7fbc41"
            ],
            [
             0.9,
             "#4d9221"
            ],
            [
             1,
             "#276419"
            ]
           ],
           "sequential": [
            [
             0,
             "#0d0887"
            ],
            [
             0.1111111111111111,
             "#46039f"
            ],
            [
             0.2222222222222222,
             "#7201a8"
            ],
            [
             0.3333333333333333,
             "#9c179e"
            ],
            [
             0.4444444444444444,
             "#bd3786"
            ],
            [
             0.5555555555555556,
             "#d8576b"
            ],
            [
             0.6666666666666666,
             "#ed7953"
            ],
            [
             0.7777777777777778,
             "#fb9f3a"
            ],
            [
             0.8888888888888888,
             "#fdca26"
            ],
            [
             1,
             "#f0f921"
            ]
           ],
           "sequentialminus": [
            [
             0,
             "#0d0887"
            ],
            [
             0.1111111111111111,
             "#46039f"
            ],
            [
             0.2222222222222222,
             "#7201a8"
            ],
            [
             0.3333333333333333,
             "#9c179e"
            ],
            [
             0.4444444444444444,
             "#bd3786"
            ],
            [
             0.5555555555555556,
             "#d8576b"
            ],
            [
             0.6666666666666666,
             "#ed7953"
            ],
            [
             0.7777777777777778,
             "#fb9f3a"
            ],
            [
             0.8888888888888888,
             "#fdca26"
            ],
            [
             1,
             "#f0f921"
            ]
           ]
          },
          "colorway": [
           "#636efa",
           "#EF553B",
           "#00cc96",
           "#ab63fa",
           "#FFA15A",
           "#19d3f3",
           "#FF6692",
           "#B6E880",
           "#FF97FF",
           "#FECB52"
          ],
          "font": {
           "color": "#2a3f5f"
          },
          "geo": {
           "bgcolor": "white",
           "lakecolor": "white",
           "landcolor": "#E5ECF6",
           "showlakes": true,
           "showland": true,
           "subunitcolor": "white"
          },
          "hoverlabel": {
           "align": "left"
          },
          "hovermode": "closest",
          "mapbox": {
           "style": "light"
          },
          "paper_bgcolor": "white",
          "plot_bgcolor": "#E5ECF6",
          "polar": {
           "angularaxis": {
            "gridcolor": "white",
            "linecolor": "white",
            "ticks": ""
           },
           "bgcolor": "#E5ECF6",
           "radialaxis": {
            "gridcolor": "white",
            "linecolor": "white",
            "ticks": ""
           }
          },
          "scene": {
           "xaxis": {
            "backgroundcolor": "#E5ECF6",
            "gridcolor": "white",
            "gridwidth": 2,
            "linecolor": "white",
            "showbackground": true,
            "ticks": "",
            "zerolinecolor": "white"
           },
           "yaxis": {
            "backgroundcolor": "#E5ECF6",
            "gridcolor": "white",
            "gridwidth": 2,
            "linecolor": "white",
            "showbackground": true,
            "ticks": "",
            "zerolinecolor": "white"
           },
           "zaxis": {
            "backgroundcolor": "#E5ECF6",
            "gridcolor": "white",
            "gridwidth": 2,
            "linecolor": "white",
            "showbackground": true,
            "ticks": "",
            "zerolinecolor": "white"
           }
          },
          "shapedefaults": {
           "line": {
            "color": "#2a3f5f"
           }
          },
          "ternary": {
           "aaxis": {
            "gridcolor": "white",
            "linecolor": "white",
            "ticks": ""
           },
           "baxis": {
            "gridcolor": "white",
            "linecolor": "white",
            "ticks": ""
           },
           "bgcolor": "#E5ECF6",
           "caxis": {
            "gridcolor": "white",
            "linecolor": "white",
            "ticks": ""
           }
          },
          "title": {
           "x": 0.05
          },
          "xaxis": {
           "automargin": true,
           "gridcolor": "white",
           "linecolor": "white",
           "ticks": "",
           "title": {
            "standoff": 15
           },
           "zerolinecolor": "white",
           "zerolinewidth": 2
          },
          "yaxis": {
           "automargin": true,
           "gridcolor": "white",
           "linecolor": "white",
           "ticks": "",
           "title": {
            "standoff": 15
           },
           "zerolinecolor": "white",
           "zerolinewidth": 2
          }
         }
        },
        "title": {
         "font": {
          "size": 20
         },
         "text": "销售数据综合仪表板"
        },
        "xaxis": {
         "anchor": "y",
         "domain": [
          0,
          0.45
         ]
        },
        "xaxis2": {
         "anchor": "y2",
         "domain": [
          0,
          0.45
         ]
        },
        "xaxis3": {
         "anchor": "y3",
         "domain": [
          0.55,
          1
         ]
        },
        "yaxis": {
         "anchor": "x",
         "domain": [
          0.625,
          1
         ]
        },
        "yaxis2": {
         "anchor": "x2",
         "domain": [
          0,
          0.375
         ]
        },
        "yaxis3": {
         "anchor": "x3",
         "domain": [
          0,
          0.375
         ]
        }
       }
      }
     },
     "metadata": {},
     "output_type": "display_data"
    }
   ],
   "source": [
    "# 创建综合仪表板\n",
    "fig = make_subplots(\n",
    "    rows=2, cols=2,\n",
    "    subplot_titles=('月度销售趋势', '产品销售占比', '地区销售对比', '销售利润分析'),\n",
    "    specs=[[{'type': 'scatter'}, {'type': 'pie'}],\n",
    "           [{'type': 'bar'}, {'type': 'scatter'}]]\n",
    ")\n",
    "\n",
    "# 1. 月度销售趋势\n",
    "monthly_total = df_sales.groupby('月份')['销售额'].sum()\n",
    "fig.add_trace(\n",
    "    go.Scatter(x=monthly_total.index, y=monthly_total.values,\n",
    "              mode='lines+markers', name='月度销售',\n",
    "              line=dict(color='#1f77b4', width=3)),\n",
    "    row=1, col=1\n",
    ")\n",
    "\n",
    "# 2. 产品销售占比\n",
    "product_total = df_sales.groupby('产品')['销售额'].sum()\n",
    "fig.add_trace(\n",
    "    go.Pie(labels=product_total.index, values=product_total.values,\n",
    "          name='产品占比'),\n",
    "    row=1, col=2\n",
    ")\n",
    "\n",
    "# 3. 地区销售对比\n",
    "region_total = df_sales.groupby('地区')['销售额'].sum()\n",
    "fig.add_trace(\n",
    "    go.Bar(x=region_total.index, y=region_total.values,\n",
    "          name='地区销售', marker_color='lightblue'),\n",
    "    row=2, col=1\n",
    ")\n",
    "\n",
    "# 4. 销售利润分析\n",
    "fig.add_trace(\n",
    "    go.Scatter(x=df_sales['销售额'], y=df_sales['利润'],\n",
    "              mode='markers', name='销售利润',\n",
    "              marker=dict(color=df_sales['销售额'], colorscale='Viridis',\n",
    "                         showscale=True, size=8, opacity=0.7)),\n",
    "    row=2, col=2\n",
    ")\n",
    "\n",
    "# 更新布局\n",
    "fig.update_layout(\n",
    "    title_text='销售数据综合仪表板',\n",
    "    title_font_size=20,\n",
    "    showlegend=False,\n",
    "    height=800\n",
    ")\n",
    "\n",
    "fig.show()"
   ]
  },
  {
   "cell_type": "markdown",
   "metadata": {},
   "source": [
    "## 6. 动画图表"
   ]
  },
  {
   "cell_type": "code",
   "execution_count": 42,
   "metadata": {},
   "outputs": [
    {
     "data": {
      "application/vnd.plotly.v1+json": {
       "config": {
        "plotlyServerURL": "https://plot.ly"
       },
       "data": [
        {
         "hovertemplate": "产品=%{x}<br>月份=10月<br>销售额=%{y}<extra></extra>",
         "legendgroup": "产品A",
         "marker": {
          "color": "#636efa",
          "pattern": {
           "shape": ""
          }
         },
         "name": "产品A",
         "orientation": "v",
         "showlegend": true,
         "textposition": "auto",
         "type": "bar",
         "x": [
          "产品A"
         ],
         "xaxis": "x",
         "y": {
          "bdata": "QwI=",
          "dtype": "i2"
         },
         "yaxis": "y"
        },
        {
         "hovertemplate": "产品=%{x}<br>月份=10月<br>销售额=%{y}<extra></extra>",
         "legendgroup": "产品B",
         "marker": {
          "color": "#EF553B",
          "pattern": {
           "shape": ""
          }
         },
         "name": "产品B",
         "orientation": "v",
         "showlegend": true,
         "textposition": "auto",
         "type": "bar",
         "x": [
          "产品B"
         ],
         "xaxis": "x",
         "y": {
          "bdata": "RQI=",
          "dtype": "i2"
         },
         "yaxis": "y"
        },
        {
         "hovertemplate": "产品=%{x}<br>月份=10月<br>销售额=%{y}<extra></extra>",
         "legendgroup": "产品C",
         "marker": {
          "color": "#00cc96",
          "pattern": {
           "shape": ""
          }
         },
         "name": "产品C",
         "orientation": "v",
         "showlegend": true,
         "textposition": "auto",
         "type": "bar",
         "x": [
          "产品C"
         ],
         "xaxis": "x",
         "y": {
          "bdata": "EAI=",
          "dtype": "i2"
         },
         "yaxis": "y"
        },
        {
         "hovertemplate": "产品=%{x}<br>月份=10月<br>销售额=%{y}<extra></extra>",
         "legendgroup": "产品D",
         "marker": {
          "color": "#ab63fa",
          "pattern": {
           "shape": ""
          }
         },
         "name": "产品D",
         "orientation": "v",
         "showlegend": true,
         "textposition": "auto",
         "type": "bar",
         "x": [
          "产品D"
         ],
         "xaxis": "x",
         "y": {
          "bdata": "1QE=",
          "dtype": "i2"
         },
         "yaxis": "y"
        }
       ],
       "frames": [
        {
         "data": [
          {
           "hovertemplate": "产品=%{x}<br>月份=10月<br>销售额=%{y}<extra></extra>",
           "legendgroup": "产品A",
           "marker": {
            "color": "#636efa",
            "pattern": {
             "shape": ""
            }
           },
           "name": "产品A",
           "orientation": "v",
           "showlegend": true,
           "textposition": "auto",
           "type": "bar",
           "x": [
            "产品A"
           ],
           "xaxis": "x",
           "y": {
            "bdata": "QwI=",
            "dtype": "i2"
           },
           "yaxis": "y"
          },
          {
           "hovertemplate": "产品=%{x}<br>月份=10月<br>销售额=%{y}<extra></extra>",
           "legendgroup": "产品B",
           "marker": {
            "color": "#EF553B",
            "pattern": {
             "shape": ""
            }
           },
           "name": "产品B",
           "orientation": "v",
           "showlegend": true,
           "textposition": "auto",
           "type": "bar",
           "x": [
            "产品B"
           ],
           "xaxis": "x",
           "y": {
            "bdata": "RQI=",
            "dtype": "i2"
           },
           "yaxis": "y"
          },
          {
           "hovertemplate": "产品=%{x}<br>月份=10月<br>销售额=%{y}<extra></extra>",
           "legendgroup": "产品C",
           "marker": {
            "color": "#00cc96",
            "pattern": {
             "shape": ""
            }
           },
           "name": "产品C",
           "orientation": "v",
           "showlegend": true,
           "textposition": "auto",
           "type": "bar",
           "x": [
            "产品C"
           ],
           "xaxis": "x",
           "y": {
            "bdata": "EAI=",
            "dtype": "i2"
           },
           "yaxis": "y"
          },
          {
           "hovertemplate": "产品=%{x}<br>月份=10月<br>销售额=%{y}<extra></extra>",
           "legendgroup": "产品D",
           "marker": {
            "color": "#ab63fa",
            "pattern": {
             "shape": ""
            }
           },
           "name": "产品D",
           "orientation": "v",
           "showlegend": true,
           "textposition": "auto",
           "type": "bar",
           "x": [
            "产品D"
           ],
           "xaxis": "x",
           "y": {
            "bdata": "1QE=",
            "dtype": "i2"
           },
           "yaxis": "y"
          }
         ],
         "name": "10月"
        },
        {
         "data": [
          {
           "hovertemplate": "产品=%{x}<br>月份=11月<br>销售额=%{y}<extra></extra>",
           "legendgroup": "产品A",
           "marker": {
            "color": "#636efa",
            "pattern": {
             "shape": ""
            }
           },
           "name": "产品A",
           "orientation": "v",
           "showlegend": true,
           "textposition": "auto",
           "type": "bar",
           "x": [
            "产品A"
           ],
           "xaxis": "x",
           "y": {
            "bdata": "QgI=",
            "dtype": "i2"
           },
           "yaxis": "y"
          },
          {
           "hovertemplate": "产品=%{x}<br>月份=11月<br>销售额=%{y}<extra></extra>",
           "legendgroup": "产品B",
           "marker": {
            "color": "#EF553B",
            "pattern": {
             "shape": ""
            }
           },
           "name": "产品B",
           "orientation": "v",
           "showlegend": true,
           "textposition": "auto",
           "type": "bar",
           "x": [
            "产品B"
           ],
           "xaxis": "x",
           "y": {
            "bdata": "OgI=",
            "dtype": "i2"
           },
           "yaxis": "y"
          },
          {
           "hovertemplate": "产品=%{x}<br>月份=11月<br>销售额=%{y}<extra></extra>",
           "legendgroup": "产品C",
           "marker": {
            "color": "#00cc96",
            "pattern": {
             "shape": ""
            }
           },
           "name": "产品C",
           "orientation": "v",
           "showlegend": true,
           "textposition": "auto",
           "type": "bar",
           "x": [
            "产品C"
           ],
           "xaxis": "x",
           "y": {
            "bdata": "DgI=",
            "dtype": "i2"
           },
           "yaxis": "y"
          },
          {
           "hovertemplate": "产品=%{x}<br>月份=11月<br>销售额=%{y}<extra></extra>",
           "legendgroup": "产品D",
           "marker": {
            "color": "#ab63fa",
            "pattern": {
             "shape": ""
            }
           },
           "name": "产品D",
           "orientation": "v",
           "showlegend": true,
           "textposition": "auto",
           "type": "bar",
           "x": [
            "产品D"
           ],
           "xaxis": "x",
           "y": {
            "bdata": "CQI=",
            "dtype": "i2"
           },
           "yaxis": "y"
          }
         ],
         "name": "11月"
        },
        {
         "data": [
          {
           "hovertemplate": "产品=%{x}<br>月份=12月<br>销售额=%{y}<extra></extra>",
           "legendgroup": "产品A",
           "marker": {
            "color": "#636efa",
            "pattern": {
             "shape": ""
            }
           },
           "name": "产品A",
           "orientation": "v",
           "showlegend": true,
           "textposition": "auto",
           "type": "bar",
           "x": [
            "产品A"
           ],
           "xaxis": "x",
           "y": {
            "bdata": "LwI=",
            "dtype": "i2"
           },
           "yaxis": "y"
          },
          {
           "hovertemplate": "产品=%{x}<br>月份=12月<br>销售额=%{y}<extra></extra>",
           "legendgroup": "产品B",
           "marker": {
            "color": "#EF553B",
            "pattern": {
             "shape": ""
            }
           },
           "name": "产品B",
           "orientation": "v",
           "showlegend": true,
           "textposition": "auto",
           "type": "bar",
           "x": [
            "产品B"
           ],
           "xaxis": "x",
           "y": {
            "bdata": "HAI=",
            "dtype": "i2"
           },
           "yaxis": "y"
          },
          {
           "hovertemplate": "产品=%{x}<br>月份=12月<br>销售额=%{y}<extra></extra>",
           "legendgroup": "产品C",
           "marker": {
            "color": "#00cc96",
            "pattern": {
             "shape": ""
            }
           },
           "name": "产品C",
           "orientation": "v",
           "showlegend": true,
           "textposition": "auto",
           "type": "bar",
           "x": [
            "产品C"
           ],
           "xaxis": "x",
           "y": {
            "bdata": "mwE=",
            "dtype": "i2"
           },
           "yaxis": "y"
          },
          {
           "hovertemplate": "产品=%{x}<br>月份=12月<br>销售额=%{y}<extra></extra>",
           "legendgroup": "产品D",
           "marker": {
            "color": "#ab63fa",
            "pattern": {
             "shape": ""
            }
           },
           "name": "产品D",
           "orientation": "v",
           "showlegend": true,
           "textposition": "auto",
           "type": "bar",
           "x": [
            "产品D"
           ],
           "xaxis": "x",
           "y": {
            "bdata": "OgI=",
            "dtype": "i2"
           },
           "yaxis": "y"
          }
         ],
         "name": "12月"
        },
        {
         "data": [
          {
           "hovertemplate": "产品=%{x}<br>月份=1月<br>销售额=%{y}<extra></extra>",
           "legendgroup": "产品A",
           "marker": {
            "color": "#636efa",
            "pattern": {
             "shape": ""
            }
           },
           "name": "产品A",
           "orientation": "v",
           "showlegend": true,
           "textposition": "auto",
           "type": "bar",
           "x": [
            "产品A"
           ],
           "xaxis": "x",
           "y": {
            "bdata": "mgE=",
            "dtype": "i2"
           },
           "yaxis": "y"
          },
          {
           "hovertemplate": "产品=%{x}<br>月份=1月<br>销售额=%{y}<extra></extra>",
           "legendgroup": "产品B",
           "marker": {
            "color": "#EF553B",
            "pattern": {
             "shape": ""
            }
           },
           "name": "产品B",
           "orientation": "v",
           "showlegend": true,
           "textposition": "auto",
           "type": "bar",
           "x": [
            "产品B"
           ],
           "xaxis": "x",
           "y": {
            "bdata": "5AE=",
            "dtype": "i2"
           },
           "yaxis": "y"
          },
          {
           "hovertemplate": "产品=%{x}<br>月份=1月<br>销售额=%{y}<extra></extra>",
           "legendgroup": "产品C",
           "marker": {
            "color": "#00cc96",
            "pattern": {
             "shape": ""
            }
           },
           "name": "产品C",
           "orientation": "v",
           "showlegend": true,
           "textposition": "auto",
           "type": "bar",
           "x": [
            "产品C"
           ],
           "xaxis": "x",
           "y": {
            "bdata": "pwE=",
            "dtype": "i2"
           },
           "yaxis": "y"
          },
          {
           "hovertemplate": "产品=%{x}<br>月份=1月<br>销售额=%{y}<extra></extra>",
           "legendgroup": "产品D",
           "marker": {
            "color": "#ab63fa",
            "pattern": {
             "shape": ""
            }
           },
           "name": "产品D",
           "orientation": "v",
           "showlegend": true,
           "textposition": "auto",
           "type": "bar",
           "x": [
            "产品D"
           ],
           "xaxis": "x",
           "y": {
            "bdata": "eQE=",
            "dtype": "i2"
           },
           "yaxis": "y"
          }
         ],
         "name": "1月"
        },
        {
         "data": [
          {
           "hovertemplate": "产品=%{x}<br>月份=2月<br>销售额=%{y}<extra></extra>",
           "legendgroup": "产品A",
           "marker": {
            "color": "#636efa",
            "pattern": {
             "shape": ""
            }
           },
           "name": "产品A",
           "orientation": "v",
           "showlegend": true,
           "textposition": "auto",
           "type": "bar",
           "x": [
            "产品A"
           ],
           "xaxis": "x",
           "y": {
            "bdata": "qAE=",
            "dtype": "i2"
           },
           "yaxis": "y"
          },
          {
           "hovertemplate": "产品=%{x}<br>月份=2月<br>销售额=%{y}<extra></extra>",
           "legendgroup": "产品B",
           "marker": {
            "color": "#EF553B",
            "pattern": {
             "shape": ""
            }
           },
           "name": "产品B",
           "orientation": "v",
           "showlegend": true,
           "textposition": "auto",
           "type": "bar",
           "x": [
            "产品B"
           ],
           "xaxis": "x",
           "y": {
            "bdata": "DgI=",
            "dtype": "i2"
           },
           "yaxis": "y"
          },
          {
           "hovertemplate": "产品=%{x}<br>月份=2月<br>销售额=%{y}<extra></extra>",
           "legendgroup": "产品C",
           "marker": {
            "color": "#00cc96",
            "pattern": {
             "shape": ""
            }
           },
           "name": "产品C",
           "orientation": "v",
           "showlegend": true,
           "textposition": "auto",
           "type": "bar",
           "x": [
            "产品C"
           ],
           "xaxis": "x",
           "y": {
            "bdata": "SAI=",
            "dtype": "i2"
           },
           "yaxis": "y"
          },
          {
           "hovertemplate": "产品=%{x}<br>月份=2月<br>销售额=%{y}<extra></extra>",
           "legendgroup": "产品D",
           "marker": {
            "color": "#ab63fa",
            "pattern": {
             "shape": ""
            }
           },
           "name": "产品D",
           "orientation": "v",
           "showlegend": true,
           "textposition": "auto",
           "type": "bar",
           "x": [
            "产品D"
           ],
           "xaxis": "x",
           "y": {
            "bdata": "WwE=",
            "dtype": "i2"
           },
           "yaxis": "y"
          }
         ],
         "name": "2月"
        },
        {
         "data": [
          {
           "hovertemplate": "产品=%{x}<br>月份=3月<br>销售额=%{y}<extra></extra>",
           "legendgroup": "产品A",
           "marker": {
            "color": "#636efa",
            "pattern": {
             "shape": ""
            }
           },
           "name": "产品A",
           "orientation": "v",
           "showlegend": true,
           "textposition": "auto",
           "type": "bar",
           "x": [
            "产品A"
           ],
           "xaxis": "x",
           "y": {
            "bdata": "wAE=",
            "dtype": "i2"
           },
           "yaxis": "y"
          },
          {
           "hovertemplate": "产品=%{x}<br>月份=3月<br>销售额=%{y}<extra></extra>",
           "legendgroup": "产品B",
           "marker": {
            "color": "#EF553B",
            "pattern": {
             "shape": ""
            }
           },
           "name": "产品B",
           "orientation": "v",
           "showlegend": true,
           "textposition": "auto",
           "type": "bar",
           "x": [
            "产品B"
           ],
           "xaxis": "x",
           "y": {
            "bdata": "twI=",
            "dtype": "i2"
           },
           "yaxis": "y"
          },
          {
           "hovertemplate": "产品=%{x}<br>月份=3月<br>销售额=%{y}<extra></extra>",
           "legendgroup": "产品C",
           "marker": {
            "color": "#00cc96",
            "pattern": {
             "shape": ""
            }
           },
           "name": "产品C",
           "orientation": "v",
           "showlegend": true,
           "textposition": "auto",
           "type": "bar",
           "x": [
            "产品C"
           ],
           "xaxis": "x",
           "y": {
            "bdata": "dwE=",
            "dtype": "i2"
           },
           "yaxis": "y"
          },
          {
           "hovertemplate": "产品=%{x}<br>月份=3月<br>销售额=%{y}<extra></extra>",
           "legendgroup": "产品D",
           "marker": {
            "color": "#ab63fa",
            "pattern": {
             "shape": ""
            }
           },
           "name": "产品D",
           "orientation": "v",
           "showlegend": true,
           "textposition": "auto",
           "type": "bar",
           "x": [
            "产品D"
           ],
           "xaxis": "x",
           "y": {
            "bdata": "7QE=",
            "dtype": "i2"
           },
           "yaxis": "y"
          }
         ],
         "name": "3月"
        },
        {
         "data": [
          {
           "hovertemplate": "产品=%{x}<br>月份=4月<br>销售额=%{y}<extra></extra>",
           "legendgroup": "产品A",
           "marker": {
            "color": "#636efa",
            "pattern": {
             "shape": ""
            }
           },
           "name": "产品A",
           "orientation": "v",
           "showlegend": true,
           "textposition": "auto",
           "type": "bar",
           "x": [
            "产品A"
           ],
           "xaxis": "x",
           "y": {
            "bdata": "uAI=",
            "dtype": "i2"
           },
           "yaxis": "y"
          },
          {
           "hovertemplate": "产品=%{x}<br>月份=4月<br>销售额=%{y}<extra></extra>",
           "legendgroup": "产品B",
           "marker": {
            "color": "#EF553B",
            "pattern": {
             "shape": ""
            }
           },
           "name": "产品B",
           "orientation": "v",
           "showlegend": true,
           "textposition": "auto",
           "type": "bar",
           "x": [
            "产品B"
           ],
           "xaxis": "x",
           "y": {
            "bdata": "SgI=",
            "dtype": "i2"
           },
           "yaxis": "y"
          },
          {
           "hovertemplate": "产品=%{x}<br>月份=4月<br>销售额=%{y}<extra></extra>",
           "legendgroup": "产品C",
           "marker": {
            "color": "#00cc96",
            "pattern": {
             "shape": ""
            }
           },
           "name": "产品C",
           "orientation": "v",
           "showlegend": true,
           "textposition": "auto",
           "type": "bar",
           "x": [
            "产品C"
           ],
           "xaxis": "x",
           "y": {
            "bdata": "sgE=",
            "dtype": "i2"
           },
           "yaxis": "y"
          },
          {
           "hovertemplate": "产品=%{x}<br>月份=4月<br>销售额=%{y}<extra></extra>",
           "legendgroup": "产品D",
           "marker": {
            "color": "#ab63fa",
            "pattern": {
             "shape": ""
            }
           },
           "name": "产品D",
           "orientation": "v",
           "showlegend": true,
           "textposition": "auto",
           "type": "bar",
           "x": [
            "产品D"
           ],
           "xaxis": "x",
           "y": {
            "bdata": "VAI=",
            "dtype": "i2"
           },
           "yaxis": "y"
          }
         ],
         "name": "4月"
        },
        {
         "data": [
          {
           "hovertemplate": "产品=%{x}<br>月份=5月<br>销售额=%{y}<extra></extra>",
           "legendgroup": "产品A",
           "marker": {
            "color": "#636efa",
            "pattern": {
             "shape": ""
            }
           },
           "name": "产品A",
           "orientation": "v",
           "showlegend": true,
           "textposition": "auto",
           "type": "bar",
           "x": [
            "产品A"
           ],
           "xaxis": "x",
           "y": {
            "bdata": "HQI=",
            "dtype": "i2"
           },
           "yaxis": "y"
          },
          {
           "hovertemplate": "产品=%{x}<br>月份=5月<br>销售额=%{y}<extra></extra>",
           "legendgroup": "产品B",
           "marker": {
            "color": "#EF553B",
            "pattern": {
             "shape": ""
            }
           },
           "name": "产品B",
           "orientation": "v",
           "showlegend": true,
           "textposition": "auto",
           "type": "bar",
           "x": [
            "产品B"
           ],
           "xaxis": "x",
           "y": {
            "bdata": "GwI=",
            "dtype": "i2"
           },
           "yaxis": "y"
          },
          {
           "hovertemplate": "产品=%{x}<br>月份=5月<br>销售额=%{y}<extra></extra>",
           "legendgroup": "产品C",
           "marker": {
            "color": "#00cc96",
            "pattern": {
             "shape": ""
            }
           },
           "name": "产品C",
           "orientation": "v",
           "showlegend": true,
           "textposition": "auto",
           "type": "bar",
           "x": [
            "产品C"
           ],
           "xaxis": "x",
           "y": {
            "bdata": "AQI=",
            "dtype": "i2"
           },
           "yaxis": "y"
          },
          {
           "hovertemplate": "产品=%{x}<br>月份=5月<br>销售额=%{y}<extra></extra>",
           "legendgroup": "产品D",
           "marker": {
            "color": "#ab63fa",
            "pattern": {
             "shape": ""
            }
           },
           "name": "产品D",
           "orientation": "v",
           "showlegend": true,
           "textposition": "auto",
           "type": "bar",
           "x": [
            "产品D"
           ],
           "xaxis": "x",
           "y": {
            "bdata": "zgE=",
            "dtype": "i2"
           },
           "yaxis": "y"
          }
         ],
         "name": "5月"
        },
        {
         "data": [
          {
           "hovertemplate": "产品=%{x}<br>月份=6月<br>销售额=%{y}<extra></extra>",
           "legendgroup": "产品A",
           "marker": {
            "color": "#636efa",
            "pattern": {
             "shape": ""
            }
           },
           "name": "产品A",
           "orientation": "v",
           "showlegend": true,
           "textposition": "auto",
           "type": "bar",
           "x": [
            "产品A"
           ],
           "xaxis": "x",
           "y": {
            "bdata": "KwI=",
            "dtype": "i2"
           },
           "yaxis": "y"
          },
          {
           "hovertemplate": "产品=%{x}<br>月份=6月<br>销售额=%{y}<extra></extra>",
           "legendgroup": "产品B",
           "marker": {
            "color": "#EF553B",
            "pattern": {
             "shape": ""
            }
           },
           "name": "产品B",
           "orientation": "v",
           "showlegend": true,
           "textposition": "auto",
           "type": "bar",
           "x": [
            "产品B"
           ],
           "xaxis": "x",
           "y": {
            "bdata": "zwI=",
            "dtype": "i2"
           },
           "yaxis": "y"
          },
          {
           "hovertemplate": "产品=%{x}<br>月份=6月<br>销售额=%{y}<extra></extra>",
           "legendgroup": "产品C",
           "marker": {
            "color": "#00cc96",
            "pattern": {
             "shape": ""
            }
           },
           "name": "产品C",
           "orientation": "v",
           "showlegend": true,
           "textposition": "auto",
           "type": "bar",
           "x": [
            "产品C"
           ],
           "xaxis": "x",
           "y": {
            "bdata": "ewI=",
            "dtype": "i2"
           },
           "yaxis": "y"
          },
          {
           "hovertemplate": "产品=%{x}<br>月份=6月<br>销售额=%{y}<extra></extra>",
           "legendgroup": "产品D",
           "marker": {
            "color": "#ab63fa",
            "pattern": {
             "shape": ""
            }
           },
           "name": "产品D",
           "orientation": "v",
           "showlegend": true,
           "textposition": "auto",
           "type": "bar",
           "x": [
            "产品D"
           ],
           "xaxis": "x",
           "y": {
            "bdata": "ZgI=",
            "dtype": "i2"
           },
           "yaxis": "y"
          }
         ],
         "name": "6月"
        },
        {
         "data": [
          {
           "hovertemplate": "产品=%{x}<br>月份=7月<br>销售额=%{y}<extra></extra>",
           "legendgroup": "产品A",
           "marker": {
            "color": "#636efa",
            "pattern": {
             "shape": ""
            }
           },
           "name": "产品A",
           "orientation": "v",
           "showlegend": true,
           "textposition": "auto",
           "type": "bar",
           "x": [
            "产品A"
           ],
           "xaxis": "x",
           "y": {
            "bdata": "FgI=",
            "dtype": "i2"
           },
           "yaxis": "y"
          },
          {
           "hovertemplate": "产品=%{x}<br>月份=7月<br>销售额=%{y}<extra></extra>",
           "legendgroup": "产品B",
           "marker": {
            "color": "#EF553B",
            "pattern": {
             "shape": ""
            }
           },
           "name": "产品B",
           "orientation": "v",
           "showlegend": true,
           "textposition": "auto",
           "type": "bar",
           "x": [
            "产品B"
           ],
           "xaxis": "x",
           "y": {
            "bdata": "hAI=",
            "dtype": "i2"
           },
           "yaxis": "y"
          },
          {
           "hovertemplate": "产品=%{x}<br>月份=7月<br>销售额=%{y}<extra></extra>",
           "legendgroup": "产品C",
           "marker": {
            "color": "#00cc96",
            "pattern": {
             "shape": ""
            }
           },
           "name": "产品C",
           "orientation": "v",
           "showlegend": true,
           "textposition": "auto",
           "type": "bar",
           "x": [
            "产品C"
           ],
           "xaxis": "x",
           "y": {
            "bdata": "kQI=",
            "dtype": "i2"
           },
           "yaxis": "y"
          },
          {
           "hovertemplate": "产品=%{x}<br>月份=7月<br>销售额=%{y}<extra></extra>",
           "legendgroup": "产品D",
           "marker": {
            "color": "#ab63fa",
            "pattern": {
             "shape": ""
            }
           },
           "name": "产品D",
           "orientation": "v",
           "showlegend": true,
           "textposition": "auto",
           "type": "bar",
           "x": [
            "产品D"
           ],
           "xaxis": "x",
           "y": {
            "bdata": "7wE=",
            "dtype": "i2"
           },
           "yaxis": "y"
          }
         ],
         "name": "7月"
        },
        {
         "data": [
          {
           "hovertemplate": "产品=%{x}<br>月份=8月<br>销售额=%{y}<extra></extra>",
           "legendgroup": "产品A",
           "marker": {
            "color": "#636efa",
            "pattern": {
             "shape": ""
            }
           },
           "name": "产品A",
           "orientation": "v",
           "showlegend": true,
           "textposition": "auto",
           "type": "bar",
           "x": [
            "产品A"
           ],
           "xaxis": "x",
           "y": {
            "bdata": "BAI=",
            "dtype": "i2"
           },
           "yaxis": "y"
          },
          {
           "hovertemplate": "产品=%{x}<br>月份=8月<br>销售额=%{y}<extra></extra>",
           "legendgroup": "产品B",
           "marker": {
            "color": "#EF553B",
            "pattern": {
             "shape": ""
            }
           },
           "name": "产品B",
           "orientation": "v",
           "showlegend": true,
           "textposition": "auto",
           "type": "bar",
           "x": [
            "产品B"
           ],
           "xaxis": "x",
           "y": {
            "bdata": "QwE=",
            "dtype": "i2"
           },
           "yaxis": "y"
          },
          {
           "hovertemplate": "产品=%{x}<br>月份=8月<br>销售额=%{y}<extra></extra>",
           "legendgroup": "产品C",
           "marker": {
            "color": "#00cc96",
            "pattern": {
             "shape": ""
            }
           },
           "name": "产品C",
           "orientation": "v",
           "showlegend": true,
           "textposition": "auto",
           "type": "bar",
           "x": [
            "产品C"
           ],
           "xaxis": "x",
           "y": {
            "bdata": "ZAE=",
            "dtype": "i2"
           },
           "yaxis": "y"
          },
          {
           "hovertemplate": "产品=%{x}<br>月份=8月<br>销售额=%{y}<extra></extra>",
           "legendgroup": "产品D",
           "marker": {
            "color": "#ab63fa",
            "pattern": {
             "shape": ""
            }
           },
           "name": "产品D",
           "orientation": "v",
           "showlegend": true,
           "textposition": "auto",
           "type": "bar",
           "x": [
            "产品D"
           ],
           "xaxis": "x",
           "y": {
            "bdata": "3QE=",
            "dtype": "i2"
           },
           "yaxis": "y"
          }
         ],
         "name": "8月"
        },
        {
         "data": [
          {
           "hovertemplate": "产品=%{x}<br>月份=9月<br>销售额=%{y}<extra></extra>",
           "legendgroup": "产品A",
           "marker": {
            "color": "#636efa",
            "pattern": {
             "shape": ""
            }
           },
           "name": "产品A",
           "orientation": "v",
           "showlegend": true,
           "textposition": "auto",
           "type": "bar",
           "x": [
            "产品A"
           ],
           "xaxis": "x",
           "y": {
            "bdata": "ygE=",
            "dtype": "i2"
           },
           "yaxis": "y"
          },
          {
           "hovertemplate": "产品=%{x}<br>月份=9月<br>销售额=%{y}<extra></extra>",
           "legendgroup": "产品B",
           "marker": {
            "color": "#EF553B",
            "pattern": {
             "shape": ""
            }
           },
           "name": "产品B",
           "orientation": "v",
           "showlegend": true,
           "textposition": "auto",
           "type": "bar",
           "x": [
            "产品B"
           ],
           "xaxis": "x",
           "y": {
            "bdata": "cwI=",
            "dtype": "i2"
           },
           "yaxis": "y"
          },
          {
           "hovertemplate": "产品=%{x}<br>月份=9月<br>销售额=%{y}<extra></extra>",
           "legendgroup": "产品C",
           "marker": {
            "color": "#00cc96",
            "pattern": {
             "shape": ""
            }
           },
           "name": "产品C",
           "orientation": "v",
           "showlegend": true,
           "textposition": "auto",
           "type": "bar",
           "x": [
            "产品C"
           ],
           "xaxis": "x",
           "y": {
            "bdata": "AAI=",
            "dtype": "i2"
           },
           "yaxis": "y"
          },
          {
           "hovertemplate": "产品=%{x}<br>月份=9月<br>销售额=%{y}<extra></extra>",
           "legendgroup": "产品D",
           "marker": {
            "color": "#ab63fa",
            "pattern": {
             "shape": ""
            }
           },
           "name": "产品D",
           "orientation": "v",
           "showlegend": true,
           "textposition": "auto",
           "type": "bar",
           "x": [
            "产品D"
           ],
           "xaxis": "x",
           "y": {
            "bdata": "hgE=",
            "dtype": "i2"
           },
           "yaxis": "y"
          }
         ],
         "name": "9月"
        }
       ],
       "layout": {
        "barmode": "relative",
        "legend": {
         "title": {
          "text": "产品"
         },
         "tracegroupgap": 0
        },
        "sliders": [
         {
          "active": 0,
          "currentvalue": {
           "prefix": "月份="
          },
          "len": 0.9,
          "pad": {
           "b": 10,
           "t": 60
          },
          "steps": [
           {
            "args": [
             [
              "10月"
             ],
             {
              "frame": {
               "duration": 0,
               "redraw": true
              },
              "fromcurrent": true,
              "mode": "immediate",
              "transition": {
               "duration": 0,
               "easing": "linear"
              }
             }
            ],
            "label": "10月",
            "method": "animate"
           },
           {
            "args": [
             [
              "11月"
             ],
             {
              "frame": {
               "duration": 0,
               "redraw": true
              },
              "fromcurrent": true,
              "mode": "immediate",
              "transition": {
               "duration": 0,
               "easing": "linear"
              }
             }
            ],
            "label": "11月",
            "method": "animate"
           },
           {
            "args": [
             [
              "12月"
             ],
             {
              "frame": {
               "duration": 0,
               "redraw": true
              },
              "fromcurrent": true,
              "mode": "immediate",
              "transition": {
               "duration": 0,
               "easing": "linear"
              }
             }
            ],
            "label": "12月",
            "method": "animate"
           },
           {
            "args": [
             [
              "1月"
             ],
             {
              "frame": {
               "duration": 0,
               "redraw": true
              },
              "fromcurrent": true,
              "mode": "immediate",
              "transition": {
               "duration": 0,
               "easing": "linear"
              }
             }
            ],
            "label": "1月",
            "method": "animate"
           },
           {
            "args": [
             [
              "2月"
             ],
             {
              "frame": {
               "duration": 0,
               "redraw": true
              },
              "fromcurrent": true,
              "mode": "immediate",
              "transition": {
               "duration": 0,
               "easing": "linear"
              }
             }
            ],
            "label": "2月",
            "method": "animate"
           },
           {
            "args": [
             [
              "3月"
             ],
             {
              "frame": {
               "duration": 0,
               "redraw": true
              },
              "fromcurrent": true,
              "mode": "immediate",
              "transition": {
               "duration": 0,
               "easing": "linear"
              }
             }
            ],
            "label": "3月",
            "method": "animate"
           },
           {
            "args": [
             [
              "4月"
             ],
             {
              "frame": {
               "duration": 0,
               "redraw": true
              },
              "fromcurrent": true,
              "mode": "immediate",
              "transition": {
               "duration": 0,
               "easing": "linear"
              }
             }
            ],
            "label": "4月",
            "method": "animate"
           },
           {
            "args": [
             [
              "5月"
             ],
             {
              "frame": {
               "duration": 0,
               "redraw": true
              },
              "fromcurrent": true,
              "mode": "immediate",
              "transition": {
               "duration": 0,
               "easing": "linear"
              }
             }
            ],
            "label": "5月",
            "method": "animate"
           },
           {
            "args": [
             [
              "6月"
             ],
             {
              "frame": {
               "duration": 0,
               "redraw": true
              },
              "fromcurrent": true,
              "mode": "immediate",
              "transition": {
               "duration": 0,
               "easing": "linear"
              }
             }
            ],
            "label": "6月",
            "method": "animate"
           },
           {
            "args": [
             [
              "7月"
             ],
             {
              "frame": {
               "duration": 0,
               "redraw": true
              },
              "fromcurrent": true,
              "mode": "immediate",
              "transition": {
               "duration": 0,
               "easing": "linear"
              }
             }
            ],
            "label": "7月",
            "method": "animate"
           },
           {
            "args": [
             [
              "8月"
             ],
             {
              "frame": {
               "duration": 0,
               "redraw": true
              },
              "fromcurrent": true,
              "mode": "immediate",
              "transition": {
               "duration": 0,
               "easing": "linear"
              }
             }
            ],
            "label": "8月",
            "method": "animate"
           },
           {
            "args": [
             [
              "9月"
             ],
             {
              "frame": {
               "duration": 0,
               "redraw": true
              },
              "fromcurrent": true,
              "mode": "immediate",
              "transition": {
               "duration": 0,
               "easing": "linear"
              }
             }
            ],
            "label": "9月",
            "method": "animate"
           }
          ],
          "x": 0.1,
          "xanchor": "left",
          "y": 0,
          "yanchor": "top"
         }
        ],
        "template": {
         "data": {
          "bar": [
           {
            "error_x": {
             "color": "#2a3f5f"
            },
            "error_y": {
             "color": "#2a3f5f"
            },
            "marker": {
             "line": {
              "color": "#E5ECF6",
              "width": 0.5
             },
             "pattern": {
              "fillmode": "overlay",
              "size": 10,
              "solidity": 0.2
             }
            },
            "type": "bar"
           }
          ],
          "barpolar": [
           {
            "marker": {
             "line": {
              "color": "#E5ECF6",
              "width": 0.5
             },
             "pattern": {
              "fillmode": "overlay",
              "size": 10,
              "solidity": 0.2
             }
            },
            "type": "barpolar"
           }
          ],
          "carpet": [
           {
            "aaxis": {
             "endlinecolor": "#2a3f5f",
             "gridcolor": "white",
             "linecolor": "white",
             "minorgridcolor": "white",
             "startlinecolor": "#2a3f5f"
            },
            "baxis": {
             "endlinecolor": "#2a3f5f",
             "gridcolor": "white",
             "linecolor": "white",
             "minorgridcolor": "white",
             "startlinecolor": "#2a3f5f"
            },
            "type": "carpet"
           }
          ],
          "choropleth": [
           {
            "colorbar": {
             "outlinewidth": 0,
             "ticks": ""
            },
            "type": "choropleth"
           }
          ],
          "contour": [
           {
            "colorbar": {
             "outlinewidth": 0,
             "ticks": ""
            },
            "colorscale": [
             [
              0,
              "#0d0887"
             ],
             [
              0.1111111111111111,
              "#46039f"
             ],
             [
              0.2222222222222222,
              "#7201a8"
             ],
             [
              0.3333333333333333,
              "#9c179e"
             ],
             [
              0.4444444444444444,
              "#bd3786"
             ],
             [
              0.5555555555555556,
              "#d8576b"
             ],
             [
              0.6666666666666666,
              "#ed7953"
             ],
             [
              0.7777777777777778,
              "#fb9f3a"
             ],
             [
              0.8888888888888888,
              "#fdca26"
             ],
             [
              1,
              "#f0f921"
             ]
            ],
            "type": "contour"
           }
          ],
          "contourcarpet": [
           {
            "colorbar": {
             "outlinewidth": 0,
             "ticks": ""
            },
            "type": "contourcarpet"
           }
          ],
          "heatmap": [
           {
            "colorbar": {
             "outlinewidth": 0,
             "ticks": ""
            },
            "colorscale": [
             [
              0,
              "#0d0887"
             ],
             [
              0.1111111111111111,
              "#46039f"
             ],
             [
              0.2222222222222222,
              "#7201a8"
             ],
             [
              0.3333333333333333,
              "#9c179e"
             ],
             [
              0.4444444444444444,
              "#bd3786"
             ],
             [
              0.5555555555555556,
              "#d8576b"
             ],
             [
              0.6666666666666666,
              "#ed7953"
             ],
             [
              0.7777777777777778,
              "#fb9f3a"
             ],
             [
              0.8888888888888888,
              "#fdca26"
             ],
             [
              1,
              "#f0f921"
             ]
            ],
            "type": "heatmap"
           }
          ],
          "histogram": [
           {
            "marker": {
             "pattern": {
              "fillmode": "overlay",
              "size": 10,
              "solidity": 0.2
             }
            },
            "type": "histogram"
           }
          ],
          "histogram2d": [
           {
            "colorbar": {
             "outlinewidth": 0,
             "ticks": ""
            },
            "colorscale": [
             [
              0,
              "#0d0887"
             ],
             [
              0.1111111111111111,
              "#46039f"
             ],
             [
              0.2222222222222222,
              "#7201a8"
             ],
             [
              0.3333333333333333,
              "#9c179e"
             ],
             [
              0.4444444444444444,
              "#bd3786"
             ],
             [
              0.5555555555555556,
              "#d8576b"
             ],
             [
              0.6666666666666666,
              "#ed7953"
             ],
             [
              0.7777777777777778,
              "#fb9f3a"
             ],
             [
              0.8888888888888888,
              "#fdca26"
             ],
             [
              1,
              "#f0f921"
             ]
            ],
            "type": "histogram2d"
           }
          ],
          "histogram2dcontour": [
           {
            "colorbar": {
             "outlinewidth": 0,
             "ticks": ""
            },
            "colorscale": [
             [
              0,
              "#0d0887"
             ],
             [
              0.1111111111111111,
              "#46039f"
             ],
             [
              0.2222222222222222,
              "#7201a8"
             ],
             [
              0.3333333333333333,
              "#9c179e"
             ],
             [
              0.4444444444444444,
              "#bd3786"
             ],
             [
              0.5555555555555556,
              "#d8576b"
             ],
             [
              0.6666666666666666,
              "#ed7953"
             ],
             [
              0.7777777777777778,
              "#fb9f3a"
             ],
             [
              0.8888888888888888,
              "#fdca26"
             ],
             [
              1,
              "#f0f921"
             ]
            ],
            "type": "histogram2dcontour"
           }
          ],
          "mesh3d": [
           {
            "colorbar": {
             "outlinewidth": 0,
             "ticks": ""
            },
            "type": "mesh3d"
           }
          ],
          "parcoords": [
           {
            "line": {
             "colorbar": {
              "outlinewidth": 0,
              "ticks": ""
             }
            },
            "type": "parcoords"
           }
          ],
          "pie": [
           {
            "automargin": true,
            "type": "pie"
           }
          ],
          "scatter": [
           {
            "fillpattern": {
             "fillmode": "overlay",
             "size": 10,
             "solidity": 0.2
            },
            "type": "scatter"
           }
          ],
          "scatter3d": [
           {
            "line": {
             "colorbar": {
              "outlinewidth": 0,
              "ticks": ""
             }
            },
            "marker": {
             "colorbar": {
              "outlinewidth": 0,
              "ticks": ""
             }
            },
            "type": "scatter3d"
           }
          ],
          "scattercarpet": [
           {
            "marker": {
             "colorbar": {
              "outlinewidth": 0,
              "ticks": ""
             }
            },
            "type": "scattercarpet"
           }
          ],
          "scattergeo": [
           {
            "marker": {
             "colorbar": {
              "outlinewidth": 0,
              "ticks": ""
             }
            },
            "type": "scattergeo"
           }
          ],
          "scattergl": [
           {
            "marker": {
             "colorbar": {
              "outlinewidth": 0,
              "ticks": ""
             }
            },
            "type": "scattergl"
           }
          ],
          "scattermap": [
           {
            "marker": {
             "colorbar": {
              "outlinewidth": 0,
              "ticks": ""
             }
            },
            "type": "scattermap"
           }
          ],
          "scattermapbox": [
           {
            "marker": {
             "colorbar": {
              "outlinewidth": 0,
              "ticks": ""
             }
            },
            "type": "scattermapbox"
           }
          ],
          "scatterpolar": [
           {
            "marker": {
             "colorbar": {
              "outlinewidth": 0,
              "ticks": ""
             }
            },
            "type": "scatterpolar"
           }
          ],
          "scatterpolargl": [
           {
            "marker": {
             "colorbar": {
              "outlinewidth": 0,
              "ticks": ""
             }
            },
            "type": "scatterpolargl"
           }
          ],
          "scatterternary": [
           {
            "marker": {
             "colorbar": {
              "outlinewidth": 0,
              "ticks": ""
             }
            },
            "type": "scatterternary"
           }
          ],
          "surface": [
           {
            "colorbar": {
             "outlinewidth": 0,
             "ticks": ""
            },
            "colorscale": [
             [
              0,
              "#0d0887"
             ],
             [
              0.1111111111111111,
              "#46039f"
             ],
             [
              0.2222222222222222,
              "#7201a8"
             ],
             [
              0.3333333333333333,
              "#9c179e"
             ],
             [
              0.4444444444444444,
              "#bd3786"
             ],
             [
              0.5555555555555556,
              "#d8576b"
             ],
             [
              0.6666666666666666,
              "#ed7953"
             ],
             [
              0.7777777777777778,
              "#fb9f3a"
             ],
             [
              0.8888888888888888,
              "#fdca26"
             ],
             [
              1,
              "#f0f921"
             ]
            ],
            "type": "surface"
           }
          ],
          "table": [
           {
            "cells": {
             "fill": {
              "color": "#EBF0F8"
             },
             "line": {
              "color": "white"
             }
            },
            "header": {
             "fill": {
              "color": "#C8D4E3"
             },
             "line": {
              "color": "white"
             }
            },
            "type": "table"
           }
          ]
         },
         "layout": {
          "annotationdefaults": {
           "arrowcolor": "#2a3f5f",
           "arrowhead": 0,
           "arrowwidth": 1
          },
          "autotypenumbers": "strict",
          "coloraxis": {
           "colorbar": {
            "outlinewidth": 0,
            "ticks": ""
           }
          },
          "colorscale": {
           "diverging": [
            [
             0,
             "#8e0152"
            ],
            [
             0.1,
             "#c51b7d"
            ],
            [
             0.2,
             "#de77ae"
            ],
            [
             0.3,
             "#f1b6da"
            ],
            [
             0.4,
             "#fde0ef"
            ],
            [
             0.5,
             "#f7f7f7"
            ],
            [
             0.6,
             "#e6f5d0"
            ],
            [
             0.7,
             "#b8e186"
            ],
            [
             0.8,
             "#7fbc41"
            ],
            [
             0.9,
             "#4d9221"
            ],
            [
             1,
             "#276419"
            ]
           ],
           "sequential": [
            [
             0,
             "#0d0887"
            ],
            [
             0.1111111111111111,
             "#46039f"
            ],
            [
             0.2222222222222222,
             "#7201a8"
            ],
            [
             0.3333333333333333,
             "#9c179e"
            ],
            [
             0.4444444444444444,
             "#bd3786"
            ],
            [
             0.5555555555555556,
             "#d8576b"
            ],
            [
             0.6666666666666666,
             "#ed7953"
            ],
            [
             0.7777777777777778,
             "#fb9f3a"
            ],
            [
             0.8888888888888888,
             "#fdca26"
            ],
            [
             1,
             "#f0f921"
            ]
           ],
           "sequentialminus": [
            [
             0,
             "#0d0887"
            ],
            [
             0.1111111111111111,
             "#46039f"
            ],
            [
             0.2222222222222222,
             "#7201a8"
            ],
            [
             0.3333333333333333,
             "#9c179e"
            ],
            [
             0.4444444444444444,
             "#bd3786"
            ],
            [
             0.5555555555555556,
             "#d8576b"
            ],
            [
             0.6666666666666666,
             "#ed7953"
            ],
            [
             0.7777777777777778,
             "#fb9f3a"
            ],
            [
             0.8888888888888888,
             "#fdca26"
            ],
            [
             1,
             "#f0f921"
            ]
           ]
          },
          "colorway": [
           "#636efa",
           "#EF553B",
           "#00cc96",
           "#ab63fa",
           "#FFA15A",
           "#19d3f3",
           "#FF6692",
           "#B6E880",
           "#FF97FF",
           "#FECB52"
          ],
          "font": {
           "color": "#2a3f5f"
          },
          "geo": {
           "bgcolor": "white",
           "lakecolor": "white",
           "landcolor": "#E5ECF6",
           "showlakes": true,
           "showland": true,
           "subunitcolor": "white"
          },
          "hoverlabel": {
           "align": "left"
          },
          "hovermode": "closest",
          "mapbox": {
           "style": "light"
          },
          "paper_bgcolor": "white",
          "plot_bgcolor": "#E5ECF6",
          "polar": {
           "angularaxis": {
            "gridcolor": "white",
            "linecolor": "white",
            "ticks": ""
           },
           "bgcolor": "#E5ECF6",
           "radialaxis": {
            "gridcolor": "white",
            "linecolor": "white",
            "ticks": ""
           }
          },
          "scene": {
           "xaxis": {
            "backgroundcolor": "#E5ECF6",
            "gridcolor": "white",
            "gridwidth": 2,
            "linecolor": "white",
            "showbackground": true,
            "ticks": "",
            "zerolinecolor": "white"
           },
           "yaxis": {
            "backgroundcolor": "#E5ECF6",
            "gridcolor": "white",
            "gridwidth": 2,
            "linecolor": "white",
            "showbackground": true,
            "ticks": "",
            "zerolinecolor": "white"
           },
           "zaxis": {
            "backgroundcolor": "#E5ECF6",
            "gridcolor": "white",
            "gridwidth": 2,
            "linecolor": "white",
            "showbackground": true,
            "ticks": "",
            "zerolinecolor": "white"
           }
          },
          "shapedefaults": {
           "line": {
            "color": "#2a3f5f"
           }
          },
          "ternary": {
           "aaxis": {
            "gridcolor": "white",
            "linecolor": "white",
            "ticks": ""
           },
           "baxis": {
            "gridcolor": "white",
            "linecolor": "white",
            "ticks": ""
           },
           "bgcolor": "#E5ECF6",
           "caxis": {
            "gridcolor": "white",
            "linecolor": "white",
            "ticks": ""
           }
          },
          "title": {
           "x": 0.05
          },
          "xaxis": {
           "automargin": true,
           "gridcolor": "white",
           "linecolor": "white",
           "ticks": "",
           "title": {
            "standoff": 15
           },
           "zerolinecolor": "white",
           "zerolinewidth": 2
          },
          "yaxis": {
           "automargin": true,
           "gridcolor": "white",
           "linecolor": "white",
           "ticks": "",
           "title": {
            "standoff": 15
           },
           "zerolinecolor": "white",
           "zerolinewidth": 2
          }
         }
        },
        "title": {
         "font": {
          "size": 16
         },
         "text": "各产品月度销售动画"
        },
        "updatemenus": [
         {
          "buttons": [
           {
            "args": [
             null,
             {
              "frame": {
               "duration": 500,
               "redraw": true
              },
              "fromcurrent": true,
              "mode": "immediate",
              "transition": {
               "duration": 500,
               "easing": "linear"
              }
             }
            ],
            "label": "&#9654;",
            "method": "animate"
           },
           {
            "args": [
             [
              null
             ],
             {
              "frame": {
               "duration": 0,
               "redraw": true
              },
              "fromcurrent": true,
              "mode": "immediate",
              "transition": {
               "duration": 0,
               "easing": "linear"
              }
             }
            ],
            "label": "&#9724;",
            "method": "animate"
           }
          ],
          "direction": "left",
          "pad": {
           "r": 10,
           "t": 70
          },
          "showactive": false,
          "type": "buttons",
          "x": 0.1,
          "xanchor": "right",
          "y": 0,
          "yanchor": "top"
         }
        ],
        "xaxis": {
         "anchor": "y",
         "categoryarray": [
          "产品A",
          "产品B",
          "产品C",
          "产品D"
         ],
         "categoryorder": "array",
         "domain": [
          0,
          1
         ],
         "title": {
          "text": "产品"
         }
        },
        "yaxis": {
         "anchor": "x",
         "domain": [
          0,
          1
         ],
         "range": [
          0,
          790.9000000000001
         ],
         "title": {
          "text": "销售额"
         }
        }
       }
      }
     },
     "metadata": {},
     "output_type": "display_data"
    }
   ],
   "source": [
    "# 创建动画柱状图\n",
    "# 准备动画数据\n",
    "monthly_product = df_sales.groupby(['月份', '产品'])['销售额'].sum().reset_index()\n",
    "\n",
    "fig = px.bar(monthly_product, x='产品', y='销售额', color='产品',\n",
    "            animation_frame='月份',\n",
    "            title='各产品月度销售动画',\n",
    "            range_y=[0, monthly_product['销售额'].max() * 1.1])\n",
    "\n",
    "fig.update_layout(\n",
    "    title_font_size=16,\n",
    "    xaxis_title='产品',\n",
    "    yaxis_title='销售额'\n",
    ")\n",
    "\n",
    "fig.show()"
   ]
  },
  {
   "cell_type": "markdown",
   "metadata": {},
   "source": [
    "## 7. 自定义图表样式"
   ]
  },
  {
   "cell_type": "code",
   "execution_count": 43,
   "metadata": {},
   "outputs": [
    {
     "name": "stderr",
     "output_type": "stream",
     "text": [
      "C:\\Users\\admin\\AppData\\Local\\Temp\\ipykernel_28880\\543461571.py:36: UserWarning:\n",
      "\n",
      "Glyph 26376 (\\N{CJK UNIFIED IDEOGRAPH-6708}) missing from font(s) Arial.\n",
      "\n",
      "C:\\Users\\admin\\AppData\\Local\\Temp\\ipykernel_28880\\543461571.py:36: UserWarning:\n",
      "\n",
      "Glyph 20221 (\\N{CJK UNIFIED IDEOGRAPH-4EFD}) missing from font(s) Arial.\n",
      "\n",
      "C:\\Users\\admin\\AppData\\Local\\Temp\\ipykernel_28880\\543461571.py:36: UserWarning:\n",
      "\n",
      "Glyph 38144 (\\N{CJK UNIFIED IDEOGRAPH-9500}) missing from font(s) Arial.\n",
      "\n",
      "C:\\Users\\admin\\AppData\\Local\\Temp\\ipykernel_28880\\543461571.py:36: UserWarning:\n",
      "\n",
      "Glyph 21806 (\\N{CJK UNIFIED IDEOGRAPH-552E}) missing from font(s) Arial.\n",
      "\n",
      "C:\\Users\\admin\\AppData\\Local\\Temp\\ipykernel_28880\\543461571.py:36: UserWarning:\n",
      "\n",
      "Glyph 39069 (\\N{CJK UNIFIED IDEOGRAPH-989D}) missing from font(s) Arial.\n",
      "\n",
      "C:\\Users\\admin\\AppData\\Local\\Temp\\ipykernel_28880\\543461571.py:36: UserWarning:\n",
      "\n",
      "Glyph 65288 (\\N{FULLWIDTH LEFT PARENTHESIS}) missing from font(s) Arial.\n",
      "\n",
      "C:\\Users\\admin\\AppData\\Local\\Temp\\ipykernel_28880\\543461571.py:36: UserWarning:\n",
      "\n",
      "Glyph 19975 (\\N{CJK UNIFIED IDEOGRAPH-4E07}) missing from font(s) Arial.\n",
      "\n",
      "C:\\Users\\admin\\AppData\\Local\\Temp\\ipykernel_28880\\543461571.py:36: UserWarning:\n",
      "\n",
      "Glyph 20803 (\\N{CJK UNIFIED IDEOGRAPH-5143}) missing from font(s) Arial.\n",
      "\n",
      "C:\\Users\\admin\\AppData\\Local\\Temp\\ipykernel_28880\\543461571.py:36: UserWarning:\n",
      "\n",
      "Glyph 65289 (\\N{FULLWIDTH RIGHT PARENTHESIS}) missing from font(s) Arial.\n",
      "\n",
      "C:\\Users\\admin\\AppData\\Local\\Temp\\ipykernel_28880\\543461571.py:36: UserWarning:\n",
      "\n",
      "Glyph 24180 (\\N{CJK UNIFIED IDEOGRAPH-5E74}) missing from font(s) Arial.\n",
      "\n",
      "C:\\Users\\admin\\AppData\\Local\\Temp\\ipykernel_28880\\543461571.py:36: UserWarning:\n",
      "\n",
      "Glyph 24230 (\\N{CJK UNIFIED IDEOGRAPH-5EA6}) missing from font(s) Arial.\n",
      "\n",
      "C:\\Users\\admin\\AppData\\Local\\Temp\\ipykernel_28880\\543461571.py:36: UserWarning:\n",
      "\n",
      "Glyph 19994 (\\N{CJK UNIFIED IDEOGRAPH-4E1A}) missing from font(s) Arial.\n",
      "\n",
      "C:\\Users\\admin\\AppData\\Local\\Temp\\ipykernel_28880\\543461571.py:36: UserWarning:\n",
      "\n",
      "Glyph 32489 (\\N{CJK UNIFIED IDEOGRAPH-7EE9}) missing from font(s) Arial.\n",
      "\n",
      "C:\\Users\\admin\\AppData\\Local\\Temp\\ipykernel_28880\\543461571.py:36: UserWarning:\n",
      "\n",
      "Glyph 25253 (\\N{CJK UNIFIED IDEOGRAPH-62A5}) missing from font(s) Arial.\n",
      "\n",
      "C:\\Users\\admin\\AppData\\Local\\Temp\\ipykernel_28880\\543461571.py:36: UserWarning:\n",
      "\n",
      "Glyph 21578 (\\N{CJK UNIFIED IDEOGRAPH-544A}) missing from font(s) Arial.\n",
      "\n",
      "c:\\Users\\admin\\AppData\\Local\\Programs\\Python\\Python313\\Lib\\site-packages\\IPython\\core\\pylabtools.py:170: UserWarning:\n",
      "\n",
      "Glyph 38144 (\\N{CJK UNIFIED IDEOGRAPH-9500}) missing from font(s) Arial.\n",
      "\n",
      "c:\\Users\\admin\\AppData\\Local\\Programs\\Python\\Python313\\Lib\\site-packages\\IPython\\core\\pylabtools.py:170: UserWarning:\n",
      "\n",
      "Glyph 21806 (\\N{CJK UNIFIED IDEOGRAPH-552E}) missing from font(s) Arial.\n",
      "\n",
      "c:\\Users\\admin\\AppData\\Local\\Programs\\Python\\Python313\\Lib\\site-packages\\IPython\\core\\pylabtools.py:170: UserWarning:\n",
      "\n",
      "Glyph 39640 (\\N{CJK UNIFIED IDEOGRAPH-9AD8}) missing from font(s) Arial.\n",
      "\n",
      "c:\\Users\\admin\\AppData\\Local\\Programs\\Python\\Python313\\Lib\\site-packages\\IPython\\core\\pylabtools.py:170: UserWarning:\n",
      "\n",
      "Glyph 23792 (\\N{CJK UNIFIED IDEOGRAPH-5CF0}) missing from font(s) Arial.\n",
      "\n",
      "c:\\Users\\admin\\AppData\\Local\\Programs\\Python\\Python313\\Lib\\site-packages\\IPython\\core\\pylabtools.py:170: UserWarning:\n",
      "\n",
      "Glyph 26376 (\\N{CJK UNIFIED IDEOGRAPH-6708}) missing from font(s) Arial.\n",
      "\n",
      "c:\\Users\\admin\\AppData\\Local\\Programs\\Python\\Python313\\Lib\\site-packages\\IPython\\core\\pylabtools.py:170: UserWarning:\n",
      "\n",
      "Glyph 20221 (\\N{CJK UNIFIED IDEOGRAPH-4EFD}) missing from font(s) Arial.\n",
      "\n",
      "c:\\Users\\admin\\AppData\\Local\\Programs\\Python\\Python313\\Lib\\site-packages\\IPython\\core\\pylabtools.py:170: UserWarning:\n",
      "\n",
      "Glyph 39069 (\\N{CJK UNIFIED IDEOGRAPH-989D}) missing from font(s) Arial.\n",
      "\n",
      "c:\\Users\\admin\\AppData\\Local\\Programs\\Python\\Python313\\Lib\\site-packages\\IPython\\core\\pylabtools.py:170: UserWarning:\n",
      "\n",
      "Glyph 65288 (\\N{FULLWIDTH LEFT PARENTHESIS}) missing from font(s) Arial.\n",
      "\n",
      "c:\\Users\\admin\\AppData\\Local\\Programs\\Python\\Python313\\Lib\\site-packages\\IPython\\core\\pylabtools.py:170: UserWarning:\n",
      "\n",
      "Glyph 19975 (\\N{CJK UNIFIED IDEOGRAPH-4E07}) missing from font(s) Arial.\n",
      "\n",
      "c:\\Users\\admin\\AppData\\Local\\Programs\\Python\\Python313\\Lib\\site-packages\\IPython\\core\\pylabtools.py:170: UserWarning:\n",
      "\n",
      "Glyph 20803 (\\N{CJK UNIFIED IDEOGRAPH-5143}) missing from font(s) Arial.\n",
      "\n",
      "c:\\Users\\admin\\AppData\\Local\\Programs\\Python\\Python313\\Lib\\site-packages\\IPython\\core\\pylabtools.py:170: UserWarning:\n",
      "\n",
      "Glyph 65289 (\\N{FULLWIDTH RIGHT PARENTHESIS}) missing from font(s) Arial.\n",
      "\n",
      "c:\\Users\\admin\\AppData\\Local\\Programs\\Python\\Python313\\Lib\\site-packages\\IPython\\core\\pylabtools.py:170: UserWarning:\n",
      "\n",
      "Glyph 24180 (\\N{CJK UNIFIED IDEOGRAPH-5E74}) missing from font(s) Arial.\n",
      "\n",
      "c:\\Users\\admin\\AppData\\Local\\Programs\\Python\\Python313\\Lib\\site-packages\\IPython\\core\\pylabtools.py:170: UserWarning:\n",
      "\n",
      "Glyph 24230 (\\N{CJK UNIFIED IDEOGRAPH-5EA6}) missing from font(s) Arial.\n",
      "\n",
      "c:\\Users\\admin\\AppData\\Local\\Programs\\Python\\Python313\\Lib\\site-packages\\IPython\\core\\pylabtools.py:170: UserWarning:\n",
      "\n",
      "Glyph 19994 (\\N{CJK UNIFIED IDEOGRAPH-4E1A}) missing from font(s) Arial.\n",
      "\n",
      "c:\\Users\\admin\\AppData\\Local\\Programs\\Python\\Python313\\Lib\\site-packages\\IPython\\core\\pylabtools.py:170: UserWarning:\n",
      "\n",
      "Glyph 32489 (\\N{CJK UNIFIED IDEOGRAPH-7EE9}) missing from font(s) Arial.\n",
      "\n",
      "c:\\Users\\admin\\AppData\\Local\\Programs\\Python\\Python313\\Lib\\site-packages\\IPython\\core\\pylabtools.py:170: UserWarning:\n",
      "\n",
      "Glyph 25253 (\\N{CJK UNIFIED IDEOGRAPH-62A5}) missing from font(s) Arial.\n",
      "\n",
      "c:\\Users\\admin\\AppData\\Local\\Programs\\Python\\Python313\\Lib\\site-packages\\IPython\\core\\pylabtools.py:170: UserWarning:\n",
      "\n",
      "Glyph 21578 (\\N{CJK UNIFIED IDEOGRAPH-544A}) missing from font(s) Arial.\n",
      "\n"
     ]
    },
    {
     "data": {
      "image/png": "[encoded data removed]",
      "text/plain": [
       "<Figure size 1200x800 with 1 Axes>"
      ]
     },
     "metadata": {},
     "output_type": "display_data"
    }
   ],
   "source": [
    "# 创建美观的自定义图表\n",
    "plt.style.use('seaborn-v0_8')  # 使用 seaborn 样式\n",
    "\n",
    "fig, ax = plt.subplots(figsize=(12, 8))\n",
    "\n",
    "# 数据准备\n",
    "monthly_sales = df_sales.groupby('月份')['销售额'].sum()\n",
    "\n",
    "# 创建渐变色\n",
    "colors = plt.cm.viridis(np.linspace(0, 1, len(monthly_sales)))\n",
    "\n",
    "# 绘制柱状图\n",
    "bars = ax.bar(monthly_sales.index, monthly_sales.values, color=colors, \n",
    "             edgecolor='white', linewidth=1.5, alpha=0.8)\n",
    "\n",
    "# 添加数值标签\n",
    "for bar in bars:\n",
    "    height = bar.get_height()\n",
    "    ax.text(bar.get_x() + bar.get_width()/2., height + 20,\n",
    "           f'{int(height)}', ha='center', va='bottom', \n",
    "           fontsize=10, fontweight='bold')\n",
    "\n",
    "# 自定义样式\n",
    "ax.set_title('2023年月度销售业绩报告', fontsize=18, fontweight='bold', pad=20)\n",
    "ax.set_xlabel('月份', fontsize=14, fontweight='bold')\n",
    "ax.set_ylabel('销售额（万元）', fontsize=14, fontweight='bold')\n",
    "\n",
    "# 设置网格\n",
    "ax.grid(True, alpha=0.3, linestyle='--')\n",
    "ax.set_axisbelow(True)\n",
    "\n",
    "# 旋转x轴标签\n",
    "plt.xticks(rotation=45)\n",
    "\n",
    "# 调整布局\n",
    "plt.tight_layout()\n",
    "\n",
    "# 添加注释\n",
    "ax.annotate('销售高峰', xy=(monthly_sales.idxmax(), monthly_sales.max()),\n",
    "           xytext=(monthly_sales.idxmax(), monthly_sales.max() + 200),\n",
    "           arrowprops=dict(arrowstyle='->', color='red', lw=2),\n",
    "           fontsize=12, fontweight='bold', color='red')\n",
    "\n",
    "plt.show()"
   ]
  },
  {
   "cell_type": "markdown",
   "metadata": {},
   "source": [
    "## 8. 实践练习"
   ]
  },
  {
   "cell_type": "code",
   "execution_count": 44,
   "metadata": {},
   "outputs": [
    {
     "name": "stdout",
     "output_type": "stream",
     "text": [
      "=== 数据可视化分析报告 ===\n",
      "\n",
      "📊 总体业绩概况：\n",
      "   总销售额：24,897 万元\n",
      "   总利润：4,917.16 万元\n",
      "   平均利润率：19.8%\n",
      "\n",
      "🏆 最佳表现：\n",
      "   最佳销售月份：6月\n",
      "   最佳销售产品：产品B\n",
      "   最佳销售地区：北区\n",
      "\n",
      "📚 学生成绩分析：\n",
      "   数学：平均76.6分，最高103分，最低43分\n",
      "   语文：平均81.6分，最高107分，最低55分\n",
      "   英语：平均71.1分，最高106分，最低25分\n",
      "\n",
      "✅ 数据可视化学习完成！\n"
     ]
    }
   ],
   "source": [
    "# 练习：创建一个完整的数据分析报告\n",
    "print('=== 数据可视化分析报告 ===')\n",
    "print()\n",
    "\n",
    "# 1. 总体概况\n",
    "total_sales = df_sales['销售额'].sum()\n",
    "total_profit = df_sales['利润'].sum()\n",
    "avg_profit_margin = (total_profit / total_sales) * 100\n",
    "\n",
    "print(f'📊 总体业绩概况：')\n",
    "print(f'   总销售额：{total_sales:,} 万元')\n",
    "print(f'   总利润：{total_profit:,.2f} 万元')\n",
    "print(f'   平均利润率：{avg_profit_margin:.1f}%')\n",
    "print()\n",
    "\n",
    "# 2. 最佳表现\n",
    "best_month = df_sales.groupby('月份')['销售额'].sum().idxmax()\n",
    "best_product = df_sales.groupby('产品')['销售额'].sum().idxmax()\n",
    "best_region = df_sales.groupby('地区')['销售额'].sum().idxmax()\n",
    "\n",
    "print(f'🏆 最佳表现：')\n",
    "print(f'   最佳销售月份：{best_month}')\n",
    "print(f'   最佳销售产品：{best_product}')\n",
    "print(f'   最佳销售地区：{best_region}')\n",
    "print()\n",
    "\n",
    "# 3. 学生成绩分析\n",
    "print(f'📚 学生成绩分析：')\n",
    "for subject in ['数学', '语文', '英语']:\n",
    "    avg_score = df_students[subject].mean()\n",
    "    max_score = df_students[subject].max()\n",
    "    min_score = df_students[subject].min()\n",
    "    print(f'   {subject}：平均{avg_score:.1f}分，最高{max_score}分，最低{min_score}分')\n",
    "\n",
    "print('\\n✅ 数据可视化学习完成！')"
   ]
  },
  {
   "cell_type": "markdown",
   "metadata": {},
   "source": [
    "## 总结\n",
    "\n",
    "在这个 Notebook 中，我们学习了：\n",
    "\n",
    "### 📈 图表类型\n",
    "- **折线图**：显示趋势变化\n",
    "- **柱状图**：比较不同类别\n",
    "- **饼图**：显示占比关系\n",
    "- **散点图**：显示相关性\n",
    "- **箱线图**：显示数据分布\n",
    "- **热力图**：显示相关性矩阵\n",
    "\n",
    "### 🛠️ 工具库\n",
    "- **Matplotlib**：基础绘图库，灵活性高\n",
    "- **Seaborn**：统计图表，样式美观\n",
    "- **Plotly**：交互式图表，功能强大\n",
    "\n",
    "### 💡 最佳实践\n",
    "1. **选择合适的图表类型**\n",
    "2. **使用清晰的标题和标签**\n",
    "3. **选择合适的颜色方案**\n",
    "4. **添加必要的注释和说明**\n",
    "5. **保持图表简洁明了**\n",
    "\n",
    "### 🎯 下一步学习\n",
    "- 学习更多高级可视化技巧\n",
    "- 探索其他可视化库（如 Bokeh、Altair）\n",
    "- 学习制作交互式仪表板\n",
    "- 掌握地理数据可视化\n",
    "\n",
    "恭喜您完成了 Jupyter Notebook 的学习之旅！🎉"
   ]
  }
 ],
 "metadata": {
  "kernelspec": {
   "display_name": "Python 3",
   "language": "python",
   "name": "python3"
  },
  "language_info": {
   "codemirror_mode": {
    "name": "ipython",
    "version": 3
   },
   "file_extension": ".py",
   "mimetype": "text/x-python",
   "name": "python",
   "nbconvert_exporter": "python",
   "pygments_lexer": "ipython3",
   "version": "3.13.5"
  }
 },
 "nbformat": 4,
 "nbformat_minor": 4
}
