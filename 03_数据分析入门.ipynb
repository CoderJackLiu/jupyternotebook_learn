{
 "cells": [
  {
   "cell_type": "markdown",
   "metadata": {},
   "source": [
    "# 数据分析入门\n",
    "\n",
    "在这个 Notebook 中，我们将学习使用 pandas 和 numpy 进行基础数据分析。"
   ]
  },
  {
   "cell_type": "markdown",
   "metadata": {},
   "source": [
    "## 1. 导入必要的库"
   ]
  },
  {
   "cell_type": "code",
   "execution_count": null,
   "metadata": {},
   "outputs": [],
   "source": [
    "import pandas as pd\n",
    "import numpy as np\n",
    "import matplotlib.pyplot as plt\n",
    "\n",
    "# 设置中文字体（解决中文显示问题）\n",
    "plt.rcParams['font.sans-serif'] = ['SimHei']  # 用来正常显示中文标签\n",
    "plt.rcParams['axes.unicode_minus'] = False   # 用来正常显示负号\n",
    "\n",
    "print('库导入成功！')"
   ]
  },
  {
   "cell_type": "markdown",
   "metadata": {},
   "source": [
    "## 2. 创建数据"
   ]
  },
  {
   "cell_type": "code",
   "execution_count": null,
   "metadata": {},
   "outputs": [],
   "source": [
    "# 创建示例数据\n",
    "data = {\n",
    "    '姓名': ['张三', '李四', '王五', '赵六', '钱七', '孙八', '周九', '吴十'],\n",
    "    '年龄': [25, 30, 35, 28, 32, 27, 29, 31],\n",
    "    '城市': ['北京', '上海', '广州', '深圳', '杭州', '南京', '成都', '武汉'],\n",
    "    '薪资': [8000, 12000, 15000, 11000, 13000, 9000, 10000, 14000],\n",
    "    '部门': ['技术', '销售', '技术', '市场', '技术', '销售', '市场', '技术']\n",
    "}\n",
    "\n",
    "# 创建 DataFrame\n",
    "df = pd.DataFrame(data)\n",
    "print('数据创建成功！')\n",
    "print(f'数据形状：{df.shape}')  # (行数, 列数)\n",
    "df"
   ]
  },
  {
   "cell_type": "markdown",
   "metadata": {},
   "source": [
    "## 3. 数据探索"
   ]
  },
  {
   "cell_type": "code",
   "execution_count": null,
   "metadata": {},
   "outputs": [],
   "source": [
    "# 查看数据基本信息\n",
    "print('=== 数据基本信息 ===')\n",
    "print(f'数据形状：{df.shape}')\n",
    "print(f'列名：{list(df.columns)}')\n",
    "print(f'数据类型：')\n",
    "print(df.dtypes)"
   ]
  },
  {
   "cell_type": "code",
   "execution_count": null,
   "metadata": {},
   "outputs": [],
   "source": [
    "# 查看前几行和后几行\n",
    "print('=== 前3行数据 ===')\n",
    "print(df.head(3))\n",
    "\n",
    "print('=== 后3行数据 ===')\n",
    "print(df.tail(3))"
   ]
  },
  {
   "cell_type": "code",
   "execution_count": null,
   "metadata": {},
   "outputs": [],
   "source": [
    "# 描述性统计\n",
    "print('=== 数值列的描述性统计 ===')\n",
    "df.describe()"
   ]
  },
  {
   "cell_type": "markdown",
   "metadata": {},
   "source": [
    "## 4. 数据选择和过滤"
   ]
  },
  {
   "cell_type": "code",
   "execution_count": null,
   "metadata": {},
   "outputs": [],
   "source": [
    "# 选择单列\n",
    "print('=== 选择姓名列 ===')\n",
    "print(df['姓名'])\n",
    "\n",
    "# 选择多列\n",
    "print('=== 选择姓名和薪资列 ===')\n",
    "print(df[['姓名', '薪资']])"
   ]
  },
  {
   "cell_type": "code",
   "execution_count": null,
   "metadata": {},
   "outputs": [],
   "source": [
    "# 条件过滤\n",
    "print('=== 薪资大于10000的员工 ===')\n",
    "high_salary = df[df['薪资'] > 10000]\n",
    "print(high_salary)\n",
    "\n",
    "print('=== 技术部门的员工 ===')\n",
    "tech_dept = df[df['部门'] == '技术']\n",
    "print(tech_dept[['姓名', '薪资', '部门']])"
   ]
  },
  {
   "cell_type": "code",
   "execution_count": null,
   "metadata": {},
   "outputs": [],
   "source": [
    "# 多条件过滤\n",
    "print('=== 年龄大于28且薪资大于10000的员工 ===')\n",
    "condition = (df['年龄'] > 28) & (df['薪资'] > 10000)\n",
    "result = df[condition]\n",
    "print(result[['姓名', '年龄', '薪资']])"
   ]
  },
  {
   "cell_type": "markdown",
   "metadata": {},
   "source": [
    "## 5. 数据分组和聚合"
   ]
  },
  {
   "cell_type": "code",
   "execution_count": null,
   "metadata": {},
   "outputs": [],
   "source": [
    "# 按部门分组统计\n",
    "print('=== 按部门分组统计 ===')\n",
    "dept_stats = df.groupby('部门').agg({\n",
    "    '薪资': ['mean', 'max', 'min', 'count'],\n",
    "    '年龄': 'mean'\n",
    "})\n",
    "\n",
    "print(dept_stats)\n",
    "\n",
    "# 简化版本\n",
    "print('=== 各部门平均薪资 ===')\n",
    "avg_salary_by_dept = df.groupby('部门')['薪资'].mean()\n",
    "print(avg_salary_by_dept)"
   ]
  },
  {
   "cell_type": "code",
   "execution_count": null,
   "metadata": {},
   "outputs": [],
   "source": [
    "# 按城市分组\n",
    "print('=== 各城市员工数量 ===')\n",
    "city_count = df['城市'].value_counts()\n",
    "print(city_count)\n",
    "\n",
    "print('=== 各城市平均薪资 ===')\n",
    "city_salary = df.groupby('城市')['薪资'].mean().sort_values(ascending=False)\n",
    "print(city_salary)"
   ]
  },
  {
   "cell_type": "markdown",
   "metadata": {},
   "source": [
    "## 6. 数据可视化基础"
   ]
  },
  {
   "cell_type": "code",
   "execution_count": null,
   "metadata": {},
   "outputs": [],
   "source": [
    "# 薪资分布直方图\n",
    "plt.figure(figsize=(10, 6))\n",
    "\n",
    "plt.subplot(2, 2, 1)\n",
    "plt.hist(df['薪资'], bins=5, alpha=0.7, color='skyblue')\n",
    "plt.title('薪资分布')\n",
    "plt.xlabel('薪资')\n",
    "plt.ylabel('人数')\n",
    "\n",
    "# 年龄分布\n",
    "plt.subplot(2, 2, 2)\n",
    "plt.hist(df['年龄'], bins=5, alpha=0.7, color='lightgreen')\n",
    "plt.title('年龄分布')\n",
    "plt.xlabel('年龄')\n",
    "plt.ylabel('人数')\n",
    "\n",
    "# 部门人数\n",
    "plt.subplot(2, 2, 3)\n",
    "dept_counts = df['部门'].value_counts()\n",
    "plt.bar(dept_counts.index, dept_counts.values, color=['orange', 'pink', 'lightblue'])\n",
    "plt.title('各部门人数')\n",
    "plt.xlabel('部门')\n",
    "plt.ylabel('人数')\n",
    "\n",
    "# 薪资散点图\n",
    "plt.subplot(2, 2, 4)\n",
    "plt.scatter(df['年龄'], df['薪资'], alpha=0.7, color='red')\n",
    "plt.title('年龄与薪资关系')\n",
    "plt.xlabel('年龄')\n",
    "plt.ylabel('薪资')\n",
    "\n",
    "plt.tight_layout()\n",
    "plt.show()"
   ]
  },
  {
   "cell_type": "markdown",
   "metadata": {},
   "source": [
    "## 7. 数据处理操作"
   ]
  },
  {
   "cell_type": "code",
   "execution_count": null,
   "metadata": {},
   "outputs": [],
   "source": [
    "# 添加新列\n",
    "df_copy = df.copy()  # 创建副本避免修改原数据\n",
    "\n",
    "# 计算薪资等级\n",
    "def salary_level(salary):\n",
    "    if salary >= 13000:\n",
    "        return '高薪'\n",
    "    elif salary >= 10000:\n",
    "        return '中薪'\n",
    "    else:\n",
    "        return '低薪'\n",
    "\n",
    "df_copy['薪资等级'] = df_copy['薪资'].apply(salary_level)\n",
    "\n",
    "# 计算年薪\n",
    "df_copy['年薪'] = df_copy['薪资'] * 12\n",
    "\n",
    "print('=== 添加新列后的数据 ===')\n",
    "print(df_copy[['姓名', '薪资', '薪资等级', '年薪']])"
   ]
  },
  {
   "cell_type": "code",
   "execution_count": null,
   "metadata": {},
   "outputs": [],
   "source": [
    "# 数据排序\n",
    "print('=== 按薪资降序排列 ===')\n",
    "sorted_by_salary = df.sort_values('薪资', ascending=False)\n",
    "print(sorted_by_salary[['姓名', '薪资', '部门']])\n",
    "\n",
    "print('=== 按年龄升序，薪资降序排列 ===')\n",
    "sorted_multi = df.sort_values(['年龄', '薪资'], ascending=[True, False])\n",
    "print(sorted_multi[['姓名', '年龄', '薪资']])"
   ]
  },
  {
   "cell_type": "markdown",
   "metadata": {},
   "source": [
    "## 8. 数据透视表"
   ]
  },
  {
   "cell_type": "code",
   "execution_count": null,
   "metadata": {},
   "outputs": [],
   "source": [
    "# 创建数据透视表\n",
    "print('=== 部门薪资统计透视表 ===')\n",
    "pivot_table = df.pivot_table(\n",
    "    values='薪资',\n",
    "    index='部门',\n",
    "    aggfunc=['mean', 'max', 'min', 'count']\n",
    ")\n",
    "\n",
    "print(pivot_table)"
   ]
  },
  {
   "cell_type": "markdown",
   "metadata": {},
   "source": [
    "## 9. 实践练习"
   ]
  },
  {
   "cell_type": "code",
   "execution_count": null,
   "metadata": {},
   "outputs": [],
   "source": [
    "# 练习：分析数据并回答问题\n",
    "print('=== 数据分析报告 ===')\n",
    "print(f'1. 总员工数：{len(df)}人')\n",
    "print(f'2. 平均薪资：{df[\"薪资\"].mean():.0f}元')\n",
    "print(f'3. 最高薪资：{df[\"薪资\"].max()}元')\n",
    "print(f'4. 最低薪资：{df[\"薪资\"].min()}元')\n",
    "print(f'5. 平均年龄：{df[\"年龄\"].mean():.1f}岁')\n",
    "\n",
    "print('6. 各部门情况：')\n",
    "for dept in df['部门'].unique():\n",
    "    dept_data = df[df['部门'] == dept]\n",
    "    avg_salary = dept_data['薪资'].mean()\n",
    "    count = len(dept_data)\n",
    "    print(f'   {dept}部：{count}人，平均薪资{avg_salary:.0f}元')\n",
    "\n",
    "print('7. 薪资最高的员工：')\n",
    "top_earner = df[df['薪资'] == df['薪资'].max()]\n",
    "print(f'   {top_earner.iloc[0][\"姓名\"]}，薪资{top_earner.iloc[0][\"薪资\"]}元')"
   ]
  },
  {
   "cell_type": "code",
   "execution_count": null,
   "metadata": {},
   "outputs": [],
   "source": [
    "# 保存数据到文件\n",
    "# df.to_csv('员工数据.csv', index=False, encoding='utf-8-sig')\n",
    "# print('数据已保存到 员工数据.csv')\n",
    "\n",
    "# 从文件读取数据\n",
    "# df_loaded = pd.read_csv('员工数据.csv', encoding='utf-8-sig')\n",
    "# print('数据已从文件加载')\n",
    "\n",
    "print('数据保存和加载示例（已注释，可以取消注释运行）')"
   ]
  },
  {
   "cell_type": "markdown",
   "metadata": {},
   "source": [
    "## 总结\n",
    "\n",
    "在这个 Notebook 中，我们学习了：\n",
    "\n",
    "1. **pandas 基础**：DataFrame 创建和基本操作\n",
    "2. **数据探索**：查看数据形状、类型、统计信息\n",
    "3. **数据选择**：列选择、条件过滤\n",
    "4. **数据分组**：groupby 操作和聚合函数\n",
    "5. **数据可视化**：使用 matplotlib 创建图表\n",
    "6. **数据处理**：添加列、排序、数据透视表\n",
    "7. **实践应用**：综合分析和报告生成\n",
    "\n",
    "接下来可以学习：\n",
    "- `04_可视化示例.ipynb` - 更多数据可视化技巧\n",
    "- 更高级的数据分析技术"
   ]
  }
 ],
 "metadata": {
  "kernelspec": {
   "display_name": "Python 3",
   "language": "python",
   "name": "python3"
  },
  "language_info": {
   "codemirror_mode": {
    "name": "ipython",
    "version": 3
   },
   "file_extension": ".py",
   "mimetype": "text/x-python",
   "name": "python",
   "nbconvert_exporter": "python",
   "pygments_lexer": "ipython3",
   "version": "3.8.0"
  }
 },
 "nbformat": 4,
 "nbformat_minor": 4
}