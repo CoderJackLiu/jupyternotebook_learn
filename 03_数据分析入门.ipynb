{
 "cells": [
  {
   "cell_type": "markdown",
   "metadata": {},
   "source": [
    "# 数据分析入门\n",
    "\n",
    "在这个 Notebook 中，我们将学习使用 pandas 和 numpy 进行基础数据分析。"
   ]
  },
  {
   "cell_type": "markdown",
   "metadata": {},
   "source": [
    "## 1. 导入必要的库"
   ]
  },
  {
   "cell_type": "code",
   "execution_count": 1,
   "metadata": {},
   "outputs": [
    {
     "name": "stdout",
     "output_type": "stream",
     "text": [
      "库导入成功！\n"
     ]
    }
   ],
   "source": [
    "import pandas as pd\n",
    "import numpy as np\n",
    "import matplotlib.pyplot as plt\n",
    "\n",
    "# 设置中文字体（解决中文显示问题）\n",
    "plt.rcParams['font.sans-serif'] = ['SimHei']  # 用来正常显示中文标签\n",
    "plt.rcParams['axes.unicode_minus'] = False   # 用来正常显示负号\n",
    "\n",
    "print('库导入成功！')"
   ]
  },
  {
   "cell_type": "markdown",
   "metadata": {},
   "source": [
    "## 2. 创建数据"
   ]
  },
  {
   "cell_type": "code",
   "execution_count": 2,
   "metadata": {},
   "outputs": [
    {
     "name": "stdout",
     "output_type": "stream",
     "text": [
      "数据创建成功！\n",
      "数据形状：(8, 5)\n"
     ]
    },
    {
     "data": {
      "text/html": [
       "<div>\n",
       "<style scoped>\n",
       "    .dataframe tbody tr th:only-of-type {\n",
       "        vertical-align: middle;\n",
       "    }\n",
       "\n",
       "    .dataframe tbody tr th {\n",
       "        vertical-align: top;\n",
       "    }\n",
       "\n",
       "    .dataframe thead th {\n",
       "        text-align: right;\n",
       "    }\n",
       "</style>\n",
       "<table border=\"1\" class=\"dataframe\">\n",
       "  <thead>\n",
       "    <tr style=\"text-align: right;\">\n",
       "      <th></th>\n",
       "      <th>姓名</th>\n",
       "      <th>年龄</th>\n",
       "      <th>城市</th>\n",
       "      <th>薪资</th>\n",
       "      <th>部门</th>\n",
       "    </tr>\n",
       "  </thead>\n",
       "  <tbody>\n",
       "    <tr>\n",
       "      <th>0</th>\n",
       "      <td>张三</td>\n",
       "      <td>25</td>\n",
       "      <td>北京</td>\n",
       "      <td>8000</td>\n",
       "      <td>技术</td>\n",
       "    </tr>\n",
       "    <tr>\n",
       "      <th>1</th>\n",
       "      <td>李四</td>\n",
       "      <td>30</td>\n",
       "      <td>上海</td>\n",
       "      <td>12000</td>\n",
       "      <td>销售</td>\n",
       "    </tr>\n",
       "    <tr>\n",
       "      <th>2</th>\n",
       "      <td>王五</td>\n",
       "      <td>35</td>\n",
       "      <td>广州</td>\n",
       "      <td>15000</td>\n",
       "      <td>技术</td>\n",
       "    </tr>\n",
       "    <tr>\n",
       "      <th>3</th>\n",
       "      <td>赵六</td>\n",
       "      <td>28</td>\n",
       "      <td>深圳</td>\n",
       "      <td>11000</td>\n",
       "      <td>市场</td>\n",
       "    </tr>\n",
       "    <tr>\n",
       "      <th>4</th>\n",
       "      <td>钱七</td>\n",
       "      <td>32</td>\n",
       "      <td>杭州</td>\n",
       "      <td>13000</td>\n",
       "      <td>技术</td>\n",
       "    </tr>\n",
       "    <tr>\n",
       "      <th>5</th>\n",
       "      <td>孙八</td>\n",
       "      <td>27</td>\n",
       "      <td>南京</td>\n",
       "      <td>9000</td>\n",
       "      <td>销售</td>\n",
       "    </tr>\n",
       "    <tr>\n",
       "      <th>6</th>\n",
       "      <td>周九</td>\n",
       "      <td>29</td>\n",
       "      <td>成都</td>\n",
       "      <td>10000</td>\n",
       "      <td>市场</td>\n",
       "    </tr>\n",
       "    <tr>\n",
       "      <th>7</th>\n",
       "      <td>吴十</td>\n",
       "      <td>31</td>\n",
       "      <td>武汉</td>\n",
       "      <td>14000</td>\n",
       "      <td>技术</td>\n",
       "    </tr>\n",
       "  </tbody>\n",
       "</table>\n",
       "</div>"
      ],
      "text/plain": [
       "   姓名  年龄  城市     薪资  部门\n",
       "0  张三  25  北京   8000  技术\n",
       "1  李四  30  上海  12000  销售\n",
       "2  王五  35  广州  15000  技术\n",
       "3  赵六  28  深圳  11000  市场\n",
       "4  钱七  32  杭州  13000  技术\n",
       "5  孙八  27  南京   9000  销售\n",
       "6  周九  29  成都  10000  市场\n",
       "7  吴十  31  武汉  14000  技术"
      ]
     },
     "execution_count": 2,
     "metadata": {},
     "output_type": "execute_result"
    }
   ],
   "source": [
    "# 创建示例数据\n",
    "data = {\n",
    "    '姓名': ['张三', '李四', '王五', '赵六', '钱七', '孙八', '周九', '吴十'],\n",
    "    '年龄': [25, 30, 35, 28, 32, 27, 29, 31],\n",
    "    '城市': ['北京', '上海', '广州', '深圳', '杭州', '南京', '成都', '武汉'],\n",
    "    '薪资': [8000, 12000, 15000, 11000, 13000, 9000, 10000, 14000],\n",
    "    '部门': ['技术', '销售', '技术', '市场', '技术', '销售', '市场', '技术']\n",
    "}\n",
    "\n",
    "# 创建 DataFrame\n",
    "df = pd.DataFrame(data)\n",
    "print('数据创建成功！')\n",
    "print(f'数据形状：{df.shape}')  # (行数, 列数)\n",
    "df"
   ]
  },
  {
   "cell_type": "markdown",
   "metadata": {},
   "source": [
    "## 3. 数据探索"
   ]
  },
  {
   "cell_type": "code",
   "execution_count": 3,
   "metadata": {},
   "outputs": [
    {
     "name": "stdout",
     "output_type": "stream",
     "text": [
      "=== 数据基本信息 ===\n",
      "数据形状：(8, 5)\n",
      "列名：['姓名', '年龄', '城市', '薪资', '部门']\n",
      "数据类型：\n",
      "姓名    object\n",
      "年龄     int64\n",
      "城市    object\n",
      "薪资     int64\n",
      "部门    object\n",
      "dtype: object\n"
     ]
    }
   ],
   "source": [
    "# 查看数据基本信息\n",
    "print('=== 数据基本信息 ===')\n",
    "print(f'数据形状：{df.shape}')\n",
    "print(f'列名：{list(df.columns)}')\n",
    "print(f'数据类型：')\n",
    "print(df.dtypes)"
   ]
  },
  {
   "cell_type": "code",
   "execution_count": 4,
   "metadata": {},
   "outputs": [
    {
     "name": "stdout",
     "output_type": "stream",
     "text": [
      "=== 前3行数据 ===\n",
      "   姓名  年龄  城市     薪资  部门\n",
      "0  张三  25  北京   8000  技术\n",
      "1  李四  30  上海  12000  销售\n",
      "2  王五  35  广州  15000  技术\n",
      "=== 后3行数据 ===\n",
      "   姓名  年龄  城市     薪资  部门\n",
      "5  孙八  27  南京   9000  销售\n",
      "6  周九  29  成都  10000  市场\n",
      "7  吴十  31  武汉  14000  技术\n"
     ]
    }
   ],
   "source": [
    "# 查看前几行和后几行\n",
    "print('=== 前3行数据 ===')\n",
    "print(df.head(3))\n",
    "\n",
    "print('=== 后3行数据 ===')\n",
    "print(df.tail(3))"
   ]
  },
  {
   "cell_type": "code",
   "execution_count": 5,
   "metadata": {},
   "outputs": [
    {
     "name": "stdout",
     "output_type": "stream",
     "text": [
      "=== 数值列的描述性统计 ===\n"
     ]
    },
    {
     "data": {
      "text/html": [
       "<div>\n",
       "<style scoped>\n",
       "    .dataframe tbody tr th:only-of-type {\n",
       "        vertical-align: middle;\n",
       "    }\n",
       "\n",
       "    .dataframe tbody tr th {\n",
       "        vertical-align: top;\n",
       "    }\n",
       "\n",
       "    .dataframe thead th {\n",
       "        text-align: right;\n",
       "    }\n",
       "</style>\n",
       "<table border=\"1\" class=\"dataframe\">\n",
       "  <thead>\n",
       "    <tr style=\"text-align: right;\">\n",
       "      <th></th>\n",
       "      <th>年龄</th>\n",
       "      <th>薪资</th>\n",
       "    </tr>\n",
       "  </thead>\n",
       "  <tbody>\n",
       "    <tr>\n",
       "      <th>count</th>\n",
       "      <td>8.000000</td>\n",
       "      <td>8.000000</td>\n",
       "    </tr>\n",
       "    <tr>\n",
       "      <th>mean</th>\n",
       "      <td>29.625000</td>\n",
       "      <td>11500.000000</td>\n",
       "    </tr>\n",
       "    <tr>\n",
       "      <th>std</th>\n",
       "      <td>3.113909</td>\n",
       "      <td>2449.489743</td>\n",
       "    </tr>\n",
       "    <tr>\n",
       "      <th>min</th>\n",
       "      <td>25.000000</td>\n",
       "      <td>8000.000000</td>\n",
       "    </tr>\n",
       "    <tr>\n",
       "      <th>25%</th>\n",
       "      <td>27.750000</td>\n",
       "      <td>9750.000000</td>\n",
       "    </tr>\n",
       "    <tr>\n",
       "      <th>50%</th>\n",
       "      <td>29.500000</td>\n",
       "      <td>11500.000000</td>\n",
       "    </tr>\n",
       "    <tr>\n",
       "      <th>75%</th>\n",
       "      <td>31.250000</td>\n",
       "      <td>13250.000000</td>\n",
       "    </tr>\n",
       "    <tr>\n",
       "      <th>max</th>\n",
       "      <td>35.000000</td>\n",
       "      <td>15000.000000</td>\n",
       "    </tr>\n",
       "  </tbody>\n",
       "</table>\n",
       "</div>"
      ],
      "text/plain": [
       "              年龄            薪资\n",
       "count   8.000000      8.000000\n",
       "mean   29.625000  11500.000000\n",
       "std     3.113909   2449.489743\n",
       "min    25.000000   8000.000000\n",
       "25%    27.750000   9750.000000\n",
       "50%    29.500000  11500.000000\n",
       "75%    31.250000  13250.000000\n",
       "max    35.000000  15000.000000"
      ]
     },
     "execution_count": 5,
     "metadata": {},
     "output_type": "execute_result"
    }
   ],
   "source": [
    "# 描述性统计\n",
    "print('=== 数值列的描述性统计 ===')\n",
    "df.describe()"
   ]
  },
  {
   "cell_type": "markdown",
   "metadata": {},
   "source": [
    "## 4. 数据选择和过滤"
   ]
  },
  {
   "cell_type": "code",
   "execution_count": 8,
   "metadata": {},
   "outputs": [
    {
     "name": "stdout",
     "output_type": "stream",
     "text": [
      "=== 选择姓名列 ===\n",
      "0    张三\n",
      "1    李四\n",
      "2    王五\n",
      "3    赵六\n",
      "4    钱七\n",
      "5    孙八\n",
      "6    周九\n",
      "7    吴十\n",
      "Name: 姓名, dtype: object\n",
      "=== 选择姓名和薪资列 ===\n",
      "   姓名     薪资\n",
      "0  张三   8000\n",
      "1  李四  12000\n",
      "2  王五  15000\n",
      "3  赵六  11000\n",
      "4  钱七  13000\n",
      "5  孙八   9000\n",
      "6  周九  10000\n",
      "7  吴十  14000\n"
     ]
    }
   ],
   "source": [
    "# 选择单列\n",
    "print('=== 选择姓名列 ===')\n",
    "print(df['姓名'])\n",
    "\n",
    "# 选择多列\n",
    "print('=== 选择姓名和薪资列 ===')\n",
    "print(df[['姓名', '薪资']])"
   ]
  },
  {
   "cell_type": "code",
   "execution_count": 9,
   "metadata": {},
   "outputs": [
    {
     "name": "stdout",
     "output_type": "stream",
     "text": [
      "=== 薪资大于10000的员工 ===\n",
      "   姓名  年龄  城市     薪资  部门\n",
      "1  李四  30  上海  12000  销售\n",
      "2  王五  35  广州  15000  技术\n",
      "3  赵六  28  深圳  11000  市场\n",
      "4  钱七  32  杭州  13000  技术\n",
      "7  吴十  31  武汉  14000  技术\n",
      "=== 技术部门的员工 ===\n",
      "   姓名     薪资  部门\n",
      "0  张三   8000  技术\n",
      "2  王五  15000  技术\n",
      "4  钱七  13000  技术\n",
      "7  吴十  14000  技术\n"
     ]
    }
   ],
   "source": [
    "# 条件过滤\n",
    "print('=== 薪资大于10000的员工 ===')\n",
    "high_salary = df[df['薪资'] > 10000]\n",
    "print(high_salary)\n",
    "\n",
    "print('=== 技术部门的员工 ===')\n",
    "tech_dept = df[df['部门'] == '技术']\n",
    "print(tech_dept[['姓名', '薪资', '部门']])"
   ]
  },
  {
   "cell_type": "code",
   "execution_count": 10,
   "metadata": {},
   "outputs": [
    {
     "name": "stdout",
     "output_type": "stream",
     "text": [
      "=== 年龄大于28且薪资大于10000的员工 ===\n",
      "   姓名  年龄     薪资\n",
      "1  李四  30  12000\n",
      "2  王五  35  15000\n",
      "4  钱七  32  13000\n",
      "7  吴十  31  14000\n"
     ]
    }
   ],
   "source": [
    "# 多条件过滤\n",
    "print('=== 年龄大于28且薪资大于10000的员工 ===')\n",
    "condition = (df['年龄'] > 28) & (df['薪资'] > 10000)\n",
    "result = df[condition]\n",
    "print(result[['姓名', '年龄', '薪资']])"
   ]
  },
  {
   "cell_type": "markdown",
   "metadata": {},
   "source": [
    "## 5. 数据分组和聚合"
   ]
  },
  {
   "cell_type": "code",
   "execution_count": 11,
   "metadata": {},
   "outputs": [
    {
     "name": "stdout",
     "output_type": "stream",
     "text": [
      "=== 按部门分组统计 ===\n",
      "         薪资                         年龄\n",
      "       mean    max    min count   mean\n",
      "部门                                    \n",
      "市场  10500.0  11000  10000     2  28.50\n",
      "技术  12500.0  15000   8000     4  30.75\n",
      "销售  10500.0  12000   9000     2  28.50\n",
      "=== 各部门平均薪资 ===\n",
      "部门\n",
      "市场    10500.0\n",
      "技术    12500.0\n",
      "销售    10500.0\n",
      "Name: 薪资, dtype: float64\n"
     ]
    }
   ],
   "source": [
    "# 按部门分组统计\n",
    "print('=== 按部门分组统计 ===')\n",
    "dept_stats = df.groupby('部门').agg({\n",
    "    '薪资': ['mean', 'max', 'min', 'count'],\n",
    "    '年龄': 'mean'\n",
    "})\n",
    "\n",
    "print(dept_stats)\n",
    "\n",
    "# 简化版本\n",
    "print('=== 各部门平均薪资 ===')\n",
    "avg_salary_by_dept = df.groupby('部门')['薪资'].mean()\n",
    "print(avg_salary_by_dept)"
   ]
  },
  {
   "cell_type": "code",
   "execution_count": 12,
   "metadata": {},
   "outputs": [
    {
     "name": "stdout",
     "output_type": "stream",
     "text": [
      "=== 各城市员工数量 ===\n",
      "城市\n",
      "北京    1\n",
      "上海    1\n",
      "广州    1\n",
      "深圳    1\n",
      "杭州    1\n",
      "南京    1\n",
      "成都    1\n",
      "武汉    1\n",
      "Name: count, dtype: int64\n",
      "=== 各城市平均薪资 ===\n",
      "城市\n",
      "广州    15000.0\n",
      "武汉    14000.0\n",
      "杭州    13000.0\n",
      "上海    12000.0\n",
      "深圳    11000.0\n",
      "成都    10000.0\n",
      "南京     9000.0\n",
      "北京     8000.0\n",
      "Name: 薪资, dtype: float64\n"
     ]
    }
   ],
   "source": [
    "# 按城市分组\n",
    "print('=== 各城市员工数量 ===')\n",
    "city_count = df['城市'].value_counts()\n",
    "print(city_count)\n",
    "\n",
    "print('=== 各城市平均薪资 ===')\n",
    "city_salary = df.groupby('城市')['薪资'].mean().sort_values(ascending=False)\n",
    "print(city_salary)"
   ]
  },
  {
   "cell_type": "markdown",
   "metadata": {},
   "source": [
    "## 6. 数据可视化基础"
   ]
  },
  {
   "cell_type": "code",
   "execution_count": 13,
   "metadata": {},
   "outputs": [
    {
     "data": {
      "image/png": "[encoded data removed]",
      "text/plain": [
       "<Figure size 1000x600 with 4 Axes>"
      ]
     },
     "metadata": {},
     "output_type": "display_data"
    }
   ],
   "source": [
    "# 薪资分布直方图\n",
    "plt.figure(figsize=(10, 6))\n",
    "\n",
    "plt.subplot(2, 2, 1)\n",
    "plt.hist(df['薪资'], bins=5, alpha=0.7, color='skyblue')\n",
    "plt.title('薪资分布')\n",
    "plt.xlabel('薪资')\n",
    "plt.ylabel('人数')\n",
    "\n",
    "# 年龄分布\n",
    "plt.subplot(2, 2, 2)\n",
    "plt.hist(df['年龄'], bins=5, alpha=0.7, color='lightgreen')\n",
    "plt.title('年龄分布')\n",
    "plt.xlabel('年龄')\n",
    "plt.ylabel('人数')\n",
    "\n",
    "# 部门人数\n",
    "plt.subplot(2, 2, 3)\n",
    "dept_counts = df['部门'].value_counts()\n",
    "plt.bar(dept_counts.index, dept_counts.values, color=['orange', 'pink', 'lightblue'])\n",
    "plt.title('各部门人数')\n",
    "plt.xlabel('部门')\n",
    "plt.ylabel('人数')\n",
    "\n",
    "# 薪资散点图\n",
    "plt.subplot(2, 2, 4)\n",
    "plt.scatter(df['年龄'], df['薪资'], alpha=0.7, color='red')\n",
    "plt.title('年龄与薪资关系')\n",
    "plt.xlabel('年龄')\n",
    "plt.ylabel('薪资')\n",
    "\n",
    "plt.tight_layout()\n",
    "plt.show()"
   ]
  },
  {
   "cell_type": "markdown",
   "metadata": {},
   "source": [
    "## 7. 数据处理操作"
   ]
  },
  {
   "cell_type": "code",
   "execution_count": 14,
   "metadata": {},
   "outputs": [
    {
     "name": "stdout",
     "output_type": "stream",
     "text": [
      "=== 添加新列后的数据 ===\n",
      "   姓名     薪资 薪资等级      年薪\n",
      "0  张三   8000   低薪   96000\n",
      "1  李四  12000   中薪  144000\n",
      "2  王五  15000   高薪  180000\n",
      "3  赵六  11000   中薪  132000\n",
      "4  钱七  13000   高薪  156000\n",
      "5  孙八   9000   低薪  108000\n",
      "6  周九  10000   中薪  120000\n",
      "7  吴十  14000   高薪  168000\n"
     ]
    }
   ],
   "source": [
    "# 添加新列\n",
    "df_copy = df.copy()  # 创建副本避免修改原数据\n",
    "\n",
    "# 计算薪资等级\n",
    "def salary_level(salary):\n",
    "    if salary >= 13000:\n",
    "        return '高薪'\n",
    "    elif salary >= 10000:\n",
    "        return '中薪'\n",
    "    else:\n",
    "        return '低薪'\n",
    "\n",
    "df_copy['薪资等级'] = df_copy['薪资'].apply(salary_level)\n",
    "\n",
    "# 计算年薪\n",
    "df_copy['年薪'] = df_copy['薪资'] * 12\n",
    "\n",
    "print('=== 添加新列后的数据 ===')\n",
    "print(df_copy[['姓名', '薪资', '薪资等级', '年薪']])"
   ]
  },
  {
   "cell_type": "code",
   "execution_count": 15,
   "metadata": {},
   "outputs": [
    {
     "name": "stdout",
     "output_type": "stream",
     "text": [
      "=== 按薪资降序排列 ===\n",
      "   姓名     薪资  部门\n",
      "2  王五  15000  技术\n",
      "7  吴十  14000  技术\n",
      "4  钱七  13000  技术\n",
      "1  李四  12000  销售\n",
      "3  赵六  11000  市场\n",
      "6  周九  10000  市场\n",
      "5  孙八   9000  销售\n",
      "0  张三   8000  技术\n",
      "=== 按年龄升序，薪资降序排列 ===\n",
      "   姓名  年龄     薪资\n",
      "0  张三  25   8000\n",
      "5  孙八  27   9000\n",
      "3  赵六  28  11000\n",
      "6  周九  29  10000\n",
      "1  李四  30  12000\n",
      "7  吴十  31  14000\n",
      "4  钱七  32  13000\n",
      "2  王五  35  15000\n"
     ]
    }
   ],
   "source": [
    "# 数据排序\n",
    "print('=== 按薪资降序排列 ===')\n",
    "sorted_by_salary = df.sort_values('薪资', ascending=False)\n",
    "print(sorted_by_salary[['姓名', '薪资', '部门']])\n",
    "\n",
    "print('=== 按年龄升序，薪资降序排列 ===')\n",
    "sorted_multi = df.sort_values(['年龄', '薪资'], ascending=[True, False])\n",
    "print(sorted_multi[['姓名', '年龄', '薪资']])"
   ]
  },
  {
   "cell_type": "markdown",
   "metadata": {},
   "source": [
    "## 8. 数据透视表"
   ]
  },
  {
   "cell_type": "code",
   "execution_count": 16,
   "metadata": {},
   "outputs": [
    {
     "name": "stdout",
     "output_type": "stream",
     "text": [
      "=== 部门薪资统计透视表 ===\n",
      "       mean    max    min count\n",
      "         薪资     薪资     薪资    薪资\n",
      "部门                             \n",
      "市场  10500.0  11000  10000     2\n",
      "技术  12500.0  15000   8000     4\n",
      "销售  10500.0  12000   9000     2\n"
     ]
    }
   ],
   "source": [
    "# 创建数据透视表\n",
    "print('=== 部门薪资统计透视表 ===')\n",
    "pivot_table = df.pivot_table(\n",
    "    values='薪资',\n",
    "    index='部门',\n",
    "    aggfunc=['mean', 'max', 'min', 'count']\n",
    ")\n",
    "\n",
    "print(pivot_table)"
   ]
  },
  {
   "cell_type": "markdown",
   "metadata": {},
   "source": [
    "## 9. 实践练习"
   ]
  },
  {
   "cell_type": "code",
   "execution_count": 17,
   "metadata": {},
   "outputs": [
    {
     "name": "stdout",
     "output_type": "stream",
     "text": [
      "=== 数据分析报告 ===\n",
      "1. 总员工数：8人\n",
      "2. 平均薪资：11500元\n",
      "3. 最高薪资：15000元\n",
      "4. 最低薪资：8000元\n",
      "5. 平均年龄：29.6岁\n",
      "6. 各部门情况：\n",
      "   技术部：4人，平均薪资12500元\n",
      "   销售部：2人，平均薪资10500元\n",
      "   市场部：2人，平均薪资10500元\n",
      "7. 薪资最高的员工：\n",
      "   王五，薪资15000元\n"
     ]
    }
   ],
   "source": [
    "# 练习：分析数据并回答问题\n",
    "print('=== 数据分析报告 ===')\n",
    "print(f'1. 总员工数：{len(df)}人')\n",
    "print(f'2. 平均薪资：{df[\"薪资\"].mean():.0f}元')\n",
    "print(f'3. 最高薪资：{df[\"薪资\"].max()}元')\n",
    "print(f'4. 最低薪资：{df[\"薪资\"].min()}元')\n",
    "print(f'5. 平均年龄：{df[\"年龄\"].mean():.1f}岁')\n",
    "\n",
    "print('6. 各部门情况：')\n",
    "for dept in df['部门'].unique():\n",
    "    dept_data = df[df['部门'] == dept]\n",
    "    avg_salary = dept_data['薪资'].mean()\n",
    "    count = len(dept_data)\n",
    "    print(f'   {dept}部：{count}人，平均薪资{avg_salary:.0f}元')\n",
    "\n",
    "print('7. 薪资最高的员工：')\n",
    "top_earner = df[df['薪资'] == df['薪资'].max()]\n",
    "print(f'   {top_earner.iloc[0][\"姓名\"]}，薪资{top_earner.iloc[0][\"薪资\"]}元')"
   ]
  },
  {
   "cell_type": "code",
   "execution_count": 20,
   "metadata": {},
   "outputs": [
    {
     "name": "stdout",
     "output_type": "stream",
     "text": [
      "数据已保存到 员工数据.csv\n",
      "数据已从文件加载\n",
      "   姓名  年龄  城市     薪资  部门\n",
      "0  张三  25  北京   8000  技术\n",
      "1  李四  30  上海  12000  销售\n",
      "2  王五  35  广州  15000  技术\n",
      "3  赵六  28  深圳  11000  市场\n",
      "4  钱七  32  杭州  13000  技术\n",
      "5  孙八  27  南京   9000  销售\n",
      "6  周九  29  成都  10000  市场\n",
      "7  吴十  31  武汉  14000  技术\n",
      "数据保存和加载示例（已注释，可以取消注释运行）\n"
     ]
    }
   ],
   "source": [
    "# 保存数据到文件\n",
    "df.to_csv('员工数据.csv', index=False, encoding='utf-8-sig')\n",
    "print('数据已保存到 员工数据.csv')\n",
    "\n",
    "# 从文件读取数据\n",
    "df_loaded = pd.read_csv('员工数据.csv', encoding='utf-8-sig')\n",
    "print('数据已从文件加载')\n",
    "print(df_loaded)\n",
    "\n",
    "print('数据保存和加载示例（已注释，可以取消注释运行）')"
   ]
  },
  {
   "cell_type": "markdown",
   "metadata": {},
   "source": [
    "## 总结\n",
    "\n",
    "在这个 Notebook 中，我们学习了：\n",
    "\n",
    "1. **pandas 基础**：DataFrame 创建和基本操作\n",
    "2. **数据探索**：查看数据形状、类型、统计信息\n",
    "3. **数据选择**：列选择、条件过滤\n",
    "4. **数据分组**：groupby 操作和聚合函数\n",
    "5. **数据可视化**：使用 matplotlib 创建图表\n",
    "6. **数据处理**：添加列、排序、数据透视表\n",
    "7. **实践应用**：综合分析和报告生成\n",
    "\n",
    "接下来可以学习：\n",
    "- `04_可视化示例.ipynb` - 更多数据可视化技巧\n",
    "- 更高级的数据分析技术"
   ]
  }
 ],
 "metadata": {
  "kernelspec": {
   "display_name": "Python 3",
   "language": "python",
   "name": "python3"
  },
  "language_info": {
   "codemirror_mode": {
    "name": "ipython",
    "version": 3
   },
   "file_extension": ".py",
   "mimetype": "text/x-python",
   "name": "python",
   "nbconvert_exporter": "python",
   "pygments_lexer": "ipython3",
   "version": "3.13.5"
  }
 },
 "nbformat": 4,
 "nbformat_minor": 4
}
