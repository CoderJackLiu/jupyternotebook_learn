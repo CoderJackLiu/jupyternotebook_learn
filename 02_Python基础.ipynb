{
 "cells": [
  {
   "cell_type": "markdown",
   "metadata": {},
   "source": [
    "# Python 基础知识\n",
    "\n",
    "在这个 Notebook 中，我们将学习 Python 的基础知识，包括变量、数据类型、控制结构等。"
   ]
  },
  {
   "cell_type": "markdown",
   "metadata": {},
   "source": [
    "## 1. 变量和数据类型"
   ]
  },
  {
   "cell_type": "code",
   "execution_count": 1,
   "metadata": {},
   "outputs": [
    {
     "name": "stdout",
     "output_type": "stream",
     "text": [
      "姓名：张三，类型：<class 'str'>\n",
      "年龄：25，类型：<class 'int'>\n",
      "身高：175.5，类型：<class 'float'>\n",
      "是学生：True，类型：<class 'bool'>\n"
     ]
    }
   ],
   "source": [
    "# 基本数据类型\n",
    "name = '张三'          # 字符串\n",
    "age = 25              # 整数\n",
    "height = 175.5        # 浮点数\n",
    "is_student = True     # 布尔值\n",
    "\n",
    "print(f'姓名：{name}，类型：{type(name)}')\n",
    "print(f'年龄：{age}，类型：{type(age)}')\n",
    "print(f'身高：{height}，类型：{type(height)}')\n",
    "print(f'是学生：{is_student}，类型：{type(is_student)}')"
   ]
  },
  {
   "cell_type": "markdown",
   "metadata": {},
   "source": [
    "## 2. 列表（List）"
   ]
  },
  {
   "cell_type": "code",
   "execution_count": 2,
   "metadata": {},
   "outputs": [
    {
     "name": "stdout",
     "output_type": "stream",
     "text": [
      "水果列表： ['苹果', '香蕉', '橙子']\n",
      "数字列表： [1, 2, 3, 4, 5]\n",
      "添加葡萄后： ['苹果', '香蕉', '橙子', '葡萄']\n",
      "第一个水果： 苹果\n",
      "最后一个水果： 葡萄\n",
      "列表长度： 4\n"
     ]
    }
   ],
   "source": [
    "# 创建和操作列表\n",
    "fruits = ['苹果', '香蕉', '橙子']\n",
    "numbers = [1, 2, 3, 4, 5]\n",
    "\n",
    "print('水果列表：', fruits)\n",
    "print('数字列表：', numbers)\n",
    "\n",
    "# 列表操作\n",
    "fruits.append('葡萄')  # 添加元素\n",
    "print('添加葡萄后：', fruits)\n",
    "\n",
    "print('第一个水果：', fruits[0])\n",
    "print('最后一个水果：', fruits[-1])\n",
    "print('列表长度：', len(fruits))"
   ]
  },
  {
   "cell_type": "markdown",
   "metadata": {},
   "source": [
    "## 3. 字典（Dictionary）"
   ]
  },
  {
   "cell_type": "code",
   "execution_count": 3,
   "metadata": {},
   "outputs": [
    {
     "name": "stdout",
     "output_type": "stream",
     "text": [
      "学生信息：\n",
      "name: 李四\n",
      "age: 22\n",
      "major: 计算机科学\n",
      "grades: [85, 92, 78, 96]\n",
      "\n",
      "学生姓名：李四\n",
      "更新后的年龄：23\n"
     ]
    }
   ],
   "source": [
    "# 创建和使用字典\n",
    "student = {\n",
    "    'name': '李四',\n",
    "    'age': 22,\n",
    "    'major': '计算机科学',\n",
    "    'grades': [85, 92, 78, 96]\n",
    "}\n",
    "\n",
    "print('学生信息：')\n",
    "for key, value in student.items():\n",
    "    print(f'{key}: {value}')\n",
    "\n",
    "# 访问和修改字典\n",
    "print(f'\\n学生姓名：{student[\"name\"]}')\n",
    "student['age'] = 23  # 修改年龄\n",
    "print(f'更新后的年龄：{student[\"age\"]}')"
   ]
  },
  {
   "cell_type": "markdown",
   "metadata": {},
   "source": [
    "## 4. 条件语句"
   ]
  },
  {
   "cell_type": "code",
   "execution_count": null,
   "metadata": {},
   "outputs": [],
   "source": [
    "# if-elif-else 语句\n",
    "score = 85\n",
    "\n",
    "if score >= 90:\n",
    "    grade = 'A'\n",
    "elif score >= 80:\n",
    "    grade = 'B'\n",
    "elif score >= 70:\n",
    "    grade = 'C'\n",
    "elif score >= 60:\n",
    "    grade = 'D'\n",
    "else:\n",
    "    grade = 'F'\n",
    "\n",
    "print(f'分数：{score}，等级：{grade}')"
   ]
  },
  {
   "cell_type": "markdown",
   "metadata": {},
   "source": [
    "## 5. 循环"
   ]
  },
  {
   "cell_type": "code",
   "execution_count": null,
   "metadata": {},
   "outputs": [],
   "source": [
    "# for 循环\n",
    "print('for 循环示例：')\n",
    "colors = ['红色', '绿色', '蓝色', '黄色']\n",
    "\n",
    "for i, color in enumerate(colors, 1):\n",
    "    print(f'{i}. {color}')\n",
    "\n",
    "# while 循环\n",
    "print('\\nwhile 循环示例：')\n",
    "count = 1\n",
    "while count <= 5:\n",
    "    print(f'计数：{count}')\n",
    "    count += 1"
   ]
  },
  {
   "cell_type": "markdown",
   "metadata": {},
   "source": [
    "## 6. 函数"
   ]
  },
  {
   "cell_type": "code",
   "execution_count": null,
   "metadata": {},
   "outputs": [],
   "source": [
    "# 定义和使用函数\n",
    "def greet(name, age=None):\n",
    "    \"\"\"问候函数\"\"\"\n",
    "    if age:\n",
    "        return f'你好，{name}！你今年{age}岁。'\n",
    "    else:\n",
    "        return f'你好，{name}！'\n",
    "\n",
    "def calculate_bmi(weight, height):\n",
    "    \"\"\"计算BMI指数\"\"\"\n",
    "    bmi = weight / (height ** 2)\n",
    "    return round(bmi, 2)\n",
    "\n",
    "# 使用函数\n",
    "print(greet('小明'))\n",
    "print(greet('小红', 20))\n",
    "\n",
    "weight = 70  # 公斤\n",
    "height = 1.75  # 米\n",
    "bmi = calculate_bmi(weight, height)\n",
    "print(f'体重：{weight}kg，身高：{height}m，BMI：{bmi}')"
   ]
  },
  {
   "cell_type": "markdown",
   "metadata": {},
   "source": [
    "## 7. 列表推导式"
   ]
  },
  {
   "cell_type": "code",
   "execution_count": 2,
   "metadata": {},
   "outputs": [
    {
     "name": "stdout",
     "output_type": "stream",
     "text": [
      "平方数： [1, 4, 9, 16, 25, 36, 49, 64, 81, 100]\n",
      "偶数： [2, 4, 6, 8, 10]\n",
      "首字母大写： ['Python', 'Jupyter', 'Notebook', 'Data']\n"
     ]
    }
   ],
   "source": [
    "# 列表推导式示例\n",
    "numbers = [1, 2, 3, 4, 5, 6, 7, 8, 9, 10]\n",
    "\n",
    "# 平方数\n",
    "squares = [x**2 for x in numbers]\n",
    "print('平方数：', squares)\n",
    "\n",
    "# 偶数\n",
    "even_numbers = [x for x in numbers if x % 2 == 0]\n",
    "print('偶数：', even_numbers)\n",
    "\n",
    "# 字符串处理\n",
    "words = ['python', 'jupyter', 'notebook', 'data']\n",
    "capitalized = [word.capitalize() for word in words]\n",
    "print('首字母大写：', capitalized)"
   ]
  },
  {
   "cell_type": "markdown",
   "metadata": {},
   "source": [
    "## 8. 异常处理"
   ]
  },
  {
   "cell_type": "code",
   "execution_count": 3,
   "metadata": {},
   "outputs": [
    {
     "name": "stdout",
     "output_type": "stream",
     "text": [
      "10 ÷ 2 = 5.0\n",
      "错误：不能除以零！\n",
      "错误：输入类型不正确！\n"
     ]
    }
   ],
   "source": [
    "# try-except 异常处理\n",
    "def safe_divide(a, b):\n",
    "    try:\n",
    "        result = a / b\n",
    "        return f'{a} ÷ {b} = {result}'\n",
    "    except ZeroDivisionError:\n",
    "        return '错误：不能除以零！'\n",
    "    except TypeError:\n",
    "        return '错误：输入类型不正确！'\n",
    "\n",
    "# 测试异常处理\n",
    "print(safe_divide(10, 2))\n",
    "print(safe_divide(10, 0))\n",
    "print(safe_divide('10', 2))"
   ]
  },
  {
   "cell_type": "markdown",
   "metadata": {},
   "source": [
    "## 9. 练习题\n",
    "\n",
    "请完成以下练习："
   ]
  },
  {
   "cell_type": "code",
   "execution_count": 4,
   "metadata": {},
   "outputs": [
    {
     "name": "stdout",
     "output_type": "stream",
     "text": [
      "数字列表：[85, 92, 78, 96, 88]\n",
      "平均值：87.80\n"
     ]
    }
   ],
   "source": [
    "# 练习1：创建一个函数，计算列表中所有数字的平均值\n",
    "def calculate_average(numbers):\n",
    "    if not numbers:\n",
    "        return 0\n",
    "    return sum(numbers) / len(numbers)\n",
    "\n",
    "# 测试\n",
    "test_numbers = [85, 92, 78, 96, 88]\n",
    "avg = calculate_average(test_numbers)\n",
    "print(f'数字列表：{test_numbers}')\n",
    "print(f'平均值：{avg:.2f}')"
   ]
  },
  {
   "cell_type": "code",
   "execution_count": 5,
   "metadata": {},
   "outputs": [
    {
     "name": "stdout",
     "output_type": "stream",
     "text": [
      "学生成绩报告：\n",
      "------------------------------\n",
      "张三：\n",
      "  成绩：[85, 92, 78]\n",
      "  平均分：85.0\n",
      "  评级：良好\n",
      "\n",
      "李四：\n",
      "  成绩：[90, 88, 95]\n",
      "  平均分：91.0\n",
      "  评级：优秀\n",
      "\n",
      "王五：\n",
      "  成绩：[76, 82, 89]\n",
      "  平均分：82.3\n",
      "  评级：良好\n",
      "\n"
     ]
    }
   ],
   "source": [
    "# 练习2：创建一个学生成绩管理系统\n",
    "students = {\n",
    "    '张三': [85, 92, 78],\n",
    "    '李四': [90, 88, 95],\n",
    "    '王五': [76, 82, 89]\n",
    "}\n",
    "\n",
    "print('学生成绩报告：')\n",
    "print('-' * 30)\n",
    "\n",
    "for name, grades in students.items():\n",
    "    avg_grade = sum(grades) / len(grades)\n",
    "    print(f'{name}：')\n",
    "    print(f'  成绩：{grades}')\n",
    "    print(f'  平均分：{avg_grade:.1f}')\n",
    "    \n",
    "    if avg_grade >= 90:\n",
    "        level = '优秀'\n",
    "    elif avg_grade >= 80:\n",
    "        level = '良好'\n",
    "    elif avg_grade >= 70:\n",
    "        level = '中等'\n",
    "    else:\n",
    "        level = '需要努力'\n",
    "    \n",
    "    print(f'  评级：{level}')\n",
    "    print()"
   ]
  },
  {
   "cell_type": "markdown",
   "metadata": {},
   "source": [
    "## 总结\n",
    "\n",
    "恭喜！您已经学习了 Python 的基础知识：\n",
    "- 变量和数据类型\n",
    "- 列表和字典\n",
    "- 条件语句和循环\n",
    "- 函数定义和调用\n",
    "- 列表推导式\n",
    "- 异常处理\n",
    "\n",
    "接下来可以学习：\n",
    "- `03_数据分析入门.ipynb` - 使用 pandas 进行数据分析\n",
    "- `04_可视化示例.ipynb` - 数据可视化"
   ]
  }
 ],
 "metadata": {
  "kernelspec": {
   "display_name": "Python 3",
   "language": "python",
   "name": "python3"
  },
  "language_info": {
   "codemirror_mode": {
    "name": "ipython",
    "version": 3
   },
   "file_extension": ".py",
   "mimetype": "text/x-python",
   "name": "python",
   "nbconvert_exporter": "python",
   "pygments_lexer": "ipython3",
   "version": "3.13.5"
  }
 },
 "nbformat": 4,
 "nbformat_minor": 4
}
